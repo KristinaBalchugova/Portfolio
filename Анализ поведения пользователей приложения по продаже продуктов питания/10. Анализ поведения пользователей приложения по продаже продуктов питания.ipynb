{
 "cells": [
  {
   "cell_type": "markdown",
   "id": "e3e45925",
   "metadata": {},
   "source": [
    "# Анализ поведения пользователей приложения по продаже продуктов питания"
   ]
  },
  {
   "cell_type": "markdown",
   "id": "25c736ff",
   "metadata": {},
   "source": [
    "### Оглавление\n",
    "<ul>\n",
    "    <li><a href=\"#Описание проекта\">Описание проекта</a></li>\n",
    "    <li><a href=\"#1. Предобработка данных \">1. Предобработка данных </a></li>\n",
    "    <ul>\n",
    "        <li><a href=\"#1. Предобработка данных. Промежуточный вывод\">Промежуточный вывод </a></li>\n",
    "    </ul> \n",
    "    <li><a href=\"#2. Исследовательский анализ данных\">2. Исследовательский анализ данных</a></li>\n",
    "    <ul>\n",
    "        <li><a href=\"#2. Исследовательский анализ. Промежуточный вывод\">Промежуточный вывод </a></li>\n",
    "    </ul> \n",
    "    <li><a href=\"#3. Анализ воронки событий\">3. Анализ воронки событий</a></li>\n",
    "    <ul>\n",
    "        <li><a href=\"#3. Анализ воронки событий. Промежуточный вывод\">Промежуточный вывод </a></li>\n",
    "    </ul> \n",
    "    <li><a href=\"#4. Анализ результатов A/A/B теста\">4. Анализ результатов A/A/B теста</a></li>\n",
    "    <ul>\n",
    "        <li><a href=\"#Анализ результатов A/A теста\">Анализ результатов A/A теста </a></li>\n",
    "        <li><a href=\"#Анализ результатов A/B теста\">Анализ результатов A/B теста </a></li>\n",
    "        <li><a href=\"#4. Анализ результатов A/A/B теста. Промежуточный вывод\">Промежуточный вывод </a></li>\n",
    "    </ul> \n",
    "    <li><a href=\"#Общий вывод\">Общий вывод</a></li>\n",
    "\n",
    "    \n"
   ]
  },
  {
   "cell_type": "markdown",
   "id": "7a6ae7ff",
   "metadata": {},
   "source": [
    "<a id=\"Описание проекта\"></a>\n",
    "## Описание проекта"
   ]
  },
  {
   "cell_type": "markdown",
   "id": "9854b1d2",
   "metadata": {},
   "source": [
    "В рамках проекта изучим поведение пользователей мобильного приложения стартапа по продаже проудктов питания. Проанализируем воронку продаж, а также исследуем результаты A/A/B тестирования, запущенного с целью проверки влияния замены шрифтов в приложении на конверсию пользователей.\n",
    "\n",
    "Исследование будет содержать следующие шаги:\n",
    "\n",
    "1. Выгрузка и предобработка данных \n",
    "2. Исследовательский анализ данных\n",
    "3. Анализ воронки событий\n",
    "4. Анализ результатов A/A/B теста.\n"
   ]
  },
  {
   "cell_type": "markdown",
   "id": "a2138df6",
   "metadata": {},
   "source": [
    "Выгрузим необходимые библиотеки:"
   ]
  },
  {
   "cell_type": "code",
   "execution_count": 2,
   "id": "bc5faa8e",
   "metadata": {},
   "outputs": [],
   "source": [
    "import pandas as pd\n",
    "from datetime import datetime as dt\n",
    "import matplotlib.pyplot as plt\n",
    "import plotly.express as px\n",
    "import numpy as np\n",
    "\n",
    "from scipy import stats as st\n",
    "import math as mth"
   ]
  },
  {
   "cell_type": "markdown",
   "id": "779141a8",
   "metadata": {},
   "source": [
    "<a id=\"1. Предобработка данных\"></a>\n",
    "## 1. Предобработка данных "
   ]
  },
  {
   "cell_type": "code",
   "execution_count": 3,
   "id": "adbb2d24",
   "metadata": {},
   "outputs": [],
   "source": [
    "try:\n",
    "    logs= pd.read_csv('/Users/kristinabalcugova/Documents/logs_exp.csv',sep='\\t')\n",
    "except: \n",
    "    logs= pd.read_csv('/datasets/logs_exp.csv',sep='\\t')"
   ]
  },
  {
   "cell_type": "code",
   "execution_count": 4,
   "id": "88d5ba16",
   "metadata": {},
   "outputs": [
    {
     "data": {
      "text/html": [
       "<div>\n",
       "<style scoped>\n",
       "    .dataframe tbody tr th:only-of-type {\n",
       "        vertical-align: middle;\n",
       "    }\n",
       "\n",
       "    .dataframe tbody tr th {\n",
       "        vertical-align: top;\n",
       "    }\n",
       "\n",
       "    .dataframe thead th {\n",
       "        text-align: right;\n",
       "    }\n",
       "</style>\n",
       "<table border=\"1\" class=\"dataframe\">\n",
       "  <thead>\n",
       "    <tr style=\"text-align: right;\">\n",
       "      <th></th>\n",
       "      <th>EventName</th>\n",
       "      <th>DeviceIDHash</th>\n",
       "      <th>EventTimestamp</th>\n",
       "      <th>ExpId</th>\n",
       "    </tr>\n",
       "  </thead>\n",
       "  <tbody>\n",
       "    <tr>\n",
       "      <th>0</th>\n",
       "      <td>MainScreenAppear</td>\n",
       "      <td>4575588528974610257</td>\n",
       "      <td>1564029816</td>\n",
       "      <td>246</td>\n",
       "    </tr>\n",
       "    <tr>\n",
       "      <th>1</th>\n",
       "      <td>MainScreenAppear</td>\n",
       "      <td>7416695313311560658</td>\n",
       "      <td>1564053102</td>\n",
       "      <td>246</td>\n",
       "    </tr>\n",
       "    <tr>\n",
       "      <th>2</th>\n",
       "      <td>PaymentScreenSuccessful</td>\n",
       "      <td>3518123091307005509</td>\n",
       "      <td>1564054127</td>\n",
       "      <td>248</td>\n",
       "    </tr>\n",
       "    <tr>\n",
       "      <th>3</th>\n",
       "      <td>CartScreenAppear</td>\n",
       "      <td>3518123091307005509</td>\n",
       "      <td>1564054127</td>\n",
       "      <td>248</td>\n",
       "    </tr>\n",
       "    <tr>\n",
       "      <th>4</th>\n",
       "      <td>PaymentScreenSuccessful</td>\n",
       "      <td>6217807653094995999</td>\n",
       "      <td>1564055322</td>\n",
       "      <td>248</td>\n",
       "    </tr>\n",
       "  </tbody>\n",
       "</table>\n",
       "</div>"
      ],
      "text/plain": [
       "                 EventName         DeviceIDHash  EventTimestamp  ExpId\n",
       "0         MainScreenAppear  4575588528974610257      1564029816    246\n",
       "1         MainScreenAppear  7416695313311560658      1564053102    246\n",
       "2  PaymentScreenSuccessful  3518123091307005509      1564054127    248\n",
       "3         CartScreenAppear  3518123091307005509      1564054127    248\n",
       "4  PaymentScreenSuccessful  6217807653094995999      1564055322    248"
      ]
     },
     "metadata": {},
     "output_type": "display_data"
    },
    {
     "name": "stdout",
     "output_type": "stream",
     "text": [
      "<class 'pandas.core.frame.DataFrame'>\n",
      "RangeIndex: 244126 entries, 0 to 244125\n",
      "Data columns (total 4 columns):\n",
      " #   Column          Non-Null Count   Dtype \n",
      "---  ------          --------------   ----- \n",
      " 0   EventName       244126 non-null  object\n",
      " 1   DeviceIDHash    244126 non-null  int64 \n",
      " 2   EventTimestamp  244126 non-null  int64 \n",
      " 3   ExpId           244126 non-null  int64 \n",
      "dtypes: int64(3), object(1)\n",
      "memory usage: 7.5+ MB\n"
     ]
    }
   ],
   "source": [
    "display(logs.head())\n",
    "logs.info()\n",
    "\n"
   ]
  },
  {
   "cell_type": "markdown",
   "id": "175f365a",
   "metadata": {},
   "source": [
    "В нашем распоряжении - датасет logs, которые содержит следующие данные:\n",
    "\n",
    "- EventName — название события;\n",
    "- DeviceIDHash — уникальный идентификатор пользователя;\n",
    "- EventTimestamp — время события в формате unix;\n",
    "- ExpId — номер эксперимента: 246 и 247 — контрольные группы, а 248 — экспериментальная.\n",
    "\n",
    "Всего в датасете 244126 записей, пропущенных значений нет. В рамках предобработки данных: \n",
    "- переименуем столбцы, \n",
    "- проверим датасет на наличие дубликатов, \n",
    "- добавим столбцы со значением даты, а также даты и времени события.\n"
   ]
  },
  {
   "cell_type": "code",
   "execution_count": 5,
   "id": "f308ccc7",
   "metadata": {},
   "outputs": [
    {
     "name": "stdout",
     "output_type": "stream",
     "text": [
      "<class 'pandas.core.frame.DataFrame'>\n",
      "RangeIndex: 244126 entries, 0 to 244125\n",
      "Data columns (total 4 columns):\n",
      " #   Column           Non-Null Count   Dtype \n",
      "---  ------           --------------   ----- \n",
      " 0   event_name       244126 non-null  object\n",
      " 1   device_id_hash   244126 non-null  int64 \n",
      " 2   event_timestamp  244126 non-null  int64 \n",
      " 3   exp_id           244126 non-null  int64 \n",
      "dtypes: int64(3), object(1)\n",
      "memory usage: 7.5+ MB\n"
     ]
    }
   ],
   "source": [
    "# переименуем столбцы датасета\n",
    "\n",
    "logs = logs.rename(columns={'EventName':'event_name','DeviceIDHash':'device_id_hash','EventTimestamp':'event_timestamp','ExpId':'exp_id'})\n",
    "logs.info()"
   ]
  },
  {
   "cell_type": "code",
   "execution_count": 6,
   "id": "f3aa9452",
   "metadata": {},
   "outputs": [
    {
     "name": "stdout",
     "output_type": "stream",
     "text": [
      "Количество строк-дубликтов: 413\n",
      "Доля строк-дубликатов от общего объема датасета: 0.002\n"
     ]
    }
   ],
   "source": [
    "# проверим датасет на наличие дубликатов\n",
    "\n",
    "print('Количество строк-дубликтов:',logs.duplicated().sum())\n",
    "print('Доля строк-дубликатов от общего объема датасета:', round(logs.duplicated().sum() / len(logs),3))"
   ]
  },
  {
   "cell_type": "markdown",
   "id": "cd060da2",
   "metadata": {},
   "source": [
    "В датасете обнаружено 413 дубликтов, это 0,2% от общего числа строк. Удалим их во избежание искажения результатов."
   ]
  },
  {
   "cell_type": "code",
   "execution_count": 7,
   "id": "dbb47179",
   "metadata": {},
   "outputs": [
    {
     "name": "stdout",
     "output_type": "stream",
     "text": [
      "<class 'pandas.core.frame.DataFrame'>\n",
      "RangeIndex: 243713 entries, 0 to 243712\n",
      "Data columns (total 4 columns):\n",
      " #   Column           Non-Null Count   Dtype \n",
      "---  ------           --------------   ----- \n",
      " 0   event_name       243713 non-null  object\n",
      " 1   device_id_hash   243713 non-null  int64 \n",
      " 2   event_timestamp  243713 non-null  int64 \n",
      " 3   exp_id           243713 non-null  int64 \n",
      "dtypes: int64(3), object(1)\n",
      "memory usage: 7.4+ MB\n"
     ]
    }
   ],
   "source": [
    "logs = logs.drop_duplicates().reset_index(drop=True)\n",
    "logs.info()"
   ]
  },
  {
   "cell_type": "markdown",
   "id": "c66ac644",
   "metadata": {},
   "source": [
    "Проверим, нет ли в датасете пользователей, которые были отнесены к более чем одной группе."
   ]
  },
  {
   "cell_type": "code",
   "execution_count": 8,
   "id": "6f36ac08",
   "metadata": {},
   "outputs": [
    {
     "name": "stdout",
     "output_type": "stream",
     "text": [
      "Макисмальное количество групп, к которым был отнесен один пользователь: 1\n"
     ]
    }
   ],
   "source": [
    "print(\n",
    "    'Макисмальное количество групп, к которым был отнесен один пользователь:',\n",
    "    logs.groupby('device_id_hash', as_index=False).agg({'exp_id':'nunique'})['exp_id'].max()\n",
    ")\n",
    "    "
   ]
  },
  {
   "cell_type": "markdown",
   "id": "58955724",
   "metadata": {},
   "source": [
    "Столбец event_timestamp содержит данные о времени события в формате unix. Извлечем значения даты, а также даты и времени события из этого столбца и сохраним их в столбцах date и date_time соответственно."
   ]
  },
  {
   "cell_type": "code",
   "execution_count": 9,
   "id": "b02b6e82",
   "metadata": {},
   "outputs": [
    {
     "data": {
      "text/html": [
       "<div>\n",
       "<style scoped>\n",
       "    .dataframe tbody tr th:only-of-type {\n",
       "        vertical-align: middle;\n",
       "    }\n",
       "\n",
       "    .dataframe tbody tr th {\n",
       "        vertical-align: top;\n",
       "    }\n",
       "\n",
       "    .dataframe thead th {\n",
       "        text-align: right;\n",
       "    }\n",
       "</style>\n",
       "<table border=\"1\" class=\"dataframe\">\n",
       "  <thead>\n",
       "    <tr style=\"text-align: right;\">\n",
       "      <th></th>\n",
       "      <th>event_name</th>\n",
       "      <th>device_id_hash</th>\n",
       "      <th>event_timestamp</th>\n",
       "      <th>exp_id</th>\n",
       "      <th>date_time</th>\n",
       "      <th>date</th>\n",
       "    </tr>\n",
       "  </thead>\n",
       "  <tbody>\n",
       "    <tr>\n",
       "      <th>0</th>\n",
       "      <td>MainScreenAppear</td>\n",
       "      <td>4575588528974610257</td>\n",
       "      <td>1564029816</td>\n",
       "      <td>246</td>\n",
       "      <td>2019-07-25 04:43:36</td>\n",
       "      <td>2019-07-25</td>\n",
       "    </tr>\n",
       "    <tr>\n",
       "      <th>1</th>\n",
       "      <td>MainScreenAppear</td>\n",
       "      <td>7416695313311560658</td>\n",
       "      <td>1564053102</td>\n",
       "      <td>246</td>\n",
       "      <td>2019-07-25 11:11:42</td>\n",
       "      <td>2019-07-25</td>\n",
       "    </tr>\n",
       "    <tr>\n",
       "      <th>2</th>\n",
       "      <td>PaymentScreenSuccessful</td>\n",
       "      <td>3518123091307005509</td>\n",
       "      <td>1564054127</td>\n",
       "      <td>248</td>\n",
       "      <td>2019-07-25 11:28:47</td>\n",
       "      <td>2019-07-25</td>\n",
       "    </tr>\n",
       "    <tr>\n",
       "      <th>3</th>\n",
       "      <td>CartScreenAppear</td>\n",
       "      <td>3518123091307005509</td>\n",
       "      <td>1564054127</td>\n",
       "      <td>248</td>\n",
       "      <td>2019-07-25 11:28:47</td>\n",
       "      <td>2019-07-25</td>\n",
       "    </tr>\n",
       "    <tr>\n",
       "      <th>4</th>\n",
       "      <td>PaymentScreenSuccessful</td>\n",
       "      <td>6217807653094995999</td>\n",
       "      <td>1564055322</td>\n",
       "      <td>248</td>\n",
       "      <td>2019-07-25 11:48:42</td>\n",
       "      <td>2019-07-25</td>\n",
       "    </tr>\n",
       "  </tbody>\n",
       "</table>\n",
       "</div>"
      ],
      "text/plain": [
       "                event_name       device_id_hash  event_timestamp  exp_id  \\\n",
       "0         MainScreenAppear  4575588528974610257       1564029816     246   \n",
       "1         MainScreenAppear  7416695313311560658       1564053102     246   \n",
       "2  PaymentScreenSuccessful  3518123091307005509       1564054127     248   \n",
       "3         CartScreenAppear  3518123091307005509       1564054127     248   \n",
       "4  PaymentScreenSuccessful  6217807653094995999       1564055322     248   \n",
       "\n",
       "            date_time       date  \n",
       "0 2019-07-25 04:43:36 2019-07-25  \n",
       "1 2019-07-25 11:11:42 2019-07-25  \n",
       "2 2019-07-25 11:28:47 2019-07-25  \n",
       "3 2019-07-25 11:28:47 2019-07-25  \n",
       "4 2019-07-25 11:48:42 2019-07-25  "
      ]
     },
     "metadata": {},
     "output_type": "display_data"
    },
    {
     "name": "stdout",
     "output_type": "stream",
     "text": [
      "<class 'pandas.core.frame.DataFrame'>\n",
      "RangeIndex: 243713 entries, 0 to 243712\n",
      "Data columns (total 6 columns):\n",
      " #   Column           Non-Null Count   Dtype         \n",
      "---  ------           --------------   -----         \n",
      " 0   event_name       243713 non-null  object        \n",
      " 1   device_id_hash   243713 non-null  int64         \n",
      " 2   event_timestamp  243713 non-null  int64         \n",
      " 3   exp_id           243713 non-null  int64         \n",
      " 4   date_time        243713 non-null  datetime64[ns]\n",
      " 5   date             243713 non-null  datetime64[ns]\n",
      "dtypes: datetime64[ns](2), int64(3), object(1)\n",
      "memory usage: 11.2+ MB\n"
     ]
    }
   ],
   "source": [
    "logs['date_time'] = pd.to_datetime(logs['event_timestamp'], unit='s')\n",
    "logs['date'] = pd.to_datetime(logs['date_time'].apply(lambda x: x.date()))\n",
    "\n",
    "display(logs.head())\n",
    "logs.info()"
   ]
  },
  {
   "cell_type": "markdown",
   "id": "73da9e38",
   "metadata": {},
   "source": [
    "<a id=\"1. Предобработка данных. Промежуточный вывод\"></a>\n",
    "### Промежуточный вывод"
   ]
  },
  {
   "cell_type": "markdown",
   "id": "41273a22",
   "metadata": {},
   "source": [
    "Мы подготовили данные к анализу:\n",
    "\n",
    "- убедились в отсутствии пропущенных значений, \n",
    "- переименовали столбцы, \n",
    "- удалили 413 дубликатов (0,02% от общего объема датасета); \n",
    "- создали столбцы date и date_time, которые содержат значения даты и даты и времени событий соответственно в формате date_time."
   ]
  },
  {
   "cell_type": "markdown",
   "id": "9f5acc8b",
   "metadata": {},
   "source": [
    "<a id=\"2. Исследовательский анализ данных\"></a>\n",
    "## 2. Исследовательский анализ данных"
   ]
  },
  {
   "cell_type": "markdown",
   "id": "378cce34",
   "metadata": {},
   "source": [
    "Выведем на экран общую информацию о данных в логе:"
   ]
  },
  {
   "cell_type": "code",
   "execution_count": 10,
   "id": "161edc19",
   "metadata": {},
   "outputs": [
    {
     "name": "stdout",
     "output_type": "stream",
     "text": [
      "Всего событий в логе: 243713\n",
      "Всего пользователей в логе: 7551\n",
      "Среднее число событий на одного пользователя: 32\n",
      "В логе представлены события за период с 2019-07-25 00:00:00 по 2019-08-07 00:00:00\n"
     ]
    }
   ],
   "source": [
    "print('Всего событий в логе:', len(logs))\n",
    "print('Всего пользователей в логе:', len(logs['device_id_hash'].unique()))\n",
    "print ('Среднее число событий на одного пользователя:',round(len(logs)/len(logs['device_id_hash'].unique())))\n",
    "print('В логе представлены события за период с',logs['date'].min(),'по',logs['date'].max())"
   ]
  },
  {
   "cell_type": "code",
   "execution_count": 11,
   "id": "1b0aef42",
   "metadata": {},
   "outputs": [
    {
     "data": {
      "text/plain": [
       "Text(0.5, 1.0, 'Группа 246')"
      ]
     },
     "execution_count": 11,
     "metadata": {},
     "output_type": "execute_result"
    },
    {
     "data": {
      "image/png": "[encoded data removed]",
      "text/plain": [
       "<Figure size 1500x500 with 3 Axes>"
      ]
     },
     "metadata": {},
     "output_type": "display_data"
    }
   ],
   "source": [
    "\n",
    "fig, (ax1, ax2, ax3) = plt.subplots(1, 3,figsize=(15, 5), sharey=True)\n",
    "\n",
    "fig.suptitle('Количество событий в зависимости от времени в разрезе групп')\n",
    "\n",
    "\n",
    "\n",
    "ax1.hist(logs.query('exp_id==248')['date'])\n",
    "ax1.xaxis.set_tick_params( rotation=45)\n",
    "ax1.set_xlabel('дата')\n",
    "ax1.set_ylabel('количество записей')\n",
    "ax1.grid()\n",
    "ax1.set_title('Группа 248')\n",
    "\n",
    "\n",
    "ax2.hist(logs.query('exp_id==247')['date'])\n",
    "ax2.xaxis.set_tick_params( rotation=45)\n",
    "ax2.set_xlabel('дата')\n",
    "ax2.set_ylabel('количество записей')\n",
    "ax2.grid()\n",
    "ax2.set_title('Группа 247')\n",
    "\n",
    "ax3.hist(logs.query('exp_id==246')['date'])\n",
    "ax3.xaxis.set_tick_params( rotation=45)\n",
    "ax3.set_xlabel('дата')\n",
    "ax3.set_ylabel('количество записей')\n",
    "ax3.grid()\n",
    "ax3.set_title('Группа 246')"
   ]
  },
  {
   "cell_type": "markdown",
   "id": "fffbc9b8",
   "metadata": {},
   "source": [
    "Видим, что до 01.08.2019 записи по всем группам практически отсутствуют. Судя по графикам, реальный период времени, для которого предоставлены данные - с 01.08.2019 по 07.08.2019. Отбросим записи о событиях, не вошедших в этот период. Изучим, как изменились характеристики датасета после исключения неактуальных данных."
   ]
  },
  {
   "cell_type": "code",
   "execution_count": 23,
   "id": "cd4c5b65",
   "metadata": {},
   "outputs": [
    {
     "name": "stdout",
     "output_type": "stream",
     "text": [
      "Всего событий в логе за актуальный период: 240887\n",
      "Всего пользователей в логе за актуальный период: 7534\n",
      "Среднее число событий на одного пользователя за актуальный период: 32\n"
     ]
    }
   ],
   "source": [
    "actual_logs = logs.query('date >= \"2019-08-01\"')\n",
    "print('Всего событий в логе за актуальный период:', len(actual_logs))\n",
    "print('Всего пользователей в логе за актуальный период:', len(actual_logs['device_id_hash'].unique()))\n",
    "print ('Среднее число событий на одного пользователя за актуальный период:',round(len(actual_logs)/len(actual_logs['device_id_hash'].unique())))\n"
   ]
  },
  {
   "cell_type": "code",
   "execution_count": 24,
   "id": "65e87558",
   "metadata": {},
   "outputs": [
    {
     "name": "stdout",
     "output_type": "stream",
     "text": [
      "Количество событий, утерянных после фильтрации: 2826\n",
      "Доля событий, утерянных после фильтрации: 1.16 %\n",
      "Количество уникальных пользователей, утерянных после фильтрации: 17\n",
      "Доля уникальных пользователей, утерянных после фильтрации: 0.23 %\n"
     ]
    }
   ],
   "source": [
    "print('Количество событий, утерянных после фильтрации:', (len(logs) - len(actual_logs)))\n",
    "print('Доля событий, утерянных после фильтрации:', round((len(logs) - len(actual_logs)) / len(logs) * 100, 2), '%')\n",
    "print('Количество уникальных пользователей, утерянных после фильтрации:', len(logs['device_id_hash'].unique()) - len(actual_logs['device_id_hash'].unique()))\n",
    "print('Доля уникальных пользователей, утерянных после фильтрации:', round((len(logs['device_id_hash'].unique()) - len(actual_logs['device_id_hash'].unique())) /len(logs['device_id_hash'].unique()) *100,2) , '%')"
   ]
  },
  {
   "cell_type": "markdown",
   "id": "d26a8006",
   "metadata": {},
   "source": [
    "Среднее число событий на пользователя не изменилось, а доля утерянных данных составила 1%. В новый датасет не вошли данные 17ти пользователей. Проверим, сохранились ли данные о пользователях из всех трех групп A/A/B теста."
   ]
  },
  {
   "cell_type": "code",
   "execution_count": 12,
   "id": "a9538337",
   "metadata": {},
   "outputs": [
    {
     "data": {
      "text/html": [
       "<div>\n",
       "<style scoped>\n",
       "    .dataframe tbody tr th:only-of-type {\n",
       "        vertical-align: middle;\n",
       "    }\n",
       "\n",
       "    .dataframe tbody tr th {\n",
       "        vertical-align: top;\n",
       "    }\n",
       "\n",
       "    .dataframe thead th {\n",
       "        text-align: right;\n",
       "    }\n",
       "</style>\n",
       "<table border=\"1\" class=\"dataframe\">\n",
       "  <thead>\n",
       "    <tr style=\"text-align: right;\">\n",
       "      <th></th>\n",
       "      <th>exp_id</th>\n",
       "      <th>users_count</th>\n",
       "      <th>group_share</th>\n",
       "    </tr>\n",
       "  </thead>\n",
       "  <tbody>\n",
       "    <tr>\n",
       "      <th>0</th>\n",
       "      <td>246</td>\n",
       "      <td>2484</td>\n",
       "      <td>32.97</td>\n",
       "    </tr>\n",
       "    <tr>\n",
       "      <th>1</th>\n",
       "      <td>247</td>\n",
       "      <td>2513</td>\n",
       "      <td>33.36</td>\n",
       "    </tr>\n",
       "    <tr>\n",
       "      <th>2</th>\n",
       "      <td>248</td>\n",
       "      <td>2537</td>\n",
       "      <td>33.67</td>\n",
       "    </tr>\n",
       "  </tbody>\n",
       "</table>\n",
       "</div>"
      ],
      "text/plain": [
       "   exp_id  users_count  group_share\n",
       "0     246         2484        32.97\n",
       "1     247         2513        33.36\n",
       "2     248         2537        33.67"
      ]
     },
     "execution_count": 12,
     "metadata": {},
     "output_type": "execute_result"
    }
   ],
   "source": [
    "actual_logs_grouped = actual_logs.groupby(\n",
    "    'exp_id',as_index=False).agg(\n",
    "    {'device_id_hash':'nunique'})\n",
    "\n",
    "actual_logs_grouped ['group_share'] = (\n",
    "    round(actual_logs_grouped['device_id_hash']/actual_logs_grouped['device_id_hash'].sum() *100,2)\n",
    ")\n",
    "actual_logs_grouped = actual_logs_grouped.rename(columns={'device_id_hash':'users_count'})\n",
    "actual_logs_grouped"
   ]
  },
  {
   "cell_type": "markdown",
   "id": "2b28f6f6",
   "metadata": {},
   "source": [
    "В обновленном датасете содержатся записи пользователей из трех групп в приблизительно равном соотношении. Датасет actual_logs можно использовать для дальнейшего анализа."
   ]
  },
  {
   "cell_type": "markdown",
   "id": "0d1cb586",
   "metadata": {},
   "source": [
    "<a id=\"2. Исследовательский анализ. Промежуточный вывод\"></a>\n",
    "### Промежуточный вывод"
   ]
  },
  {
   "cell_type": "markdown",
   "id": "80049477",
   "metadata": {},
   "source": [
    "Мы изучили данные и выяснили, что несмотря на то, что самая ранняя запись в исходном датасете датируется 25 июля 2019 года, реальный рассматриваемый период - с 01.08.2019 по 07.08.2019 включительно. Отсеяв записи, не относящиеся к актуальному периоду (1,2% данных), мы получили следующие характеристики данных:\n",
    "\n",
    "- всего в логе 240887 записей;\n",
    "- количество уникальных пользователей -  7534; \n",
    "- в среднем за выбранный период на одного пользователя приходится 32 события; \n",
    "- в обновленном датасете содержатся записи пользователей из трех групп теста в приблизительно равном соотношении."
   ]
  },
  {
   "cell_type": "markdown",
   "id": "6b0aca20",
   "metadata": {},
   "source": [
    "<a id=\"3. Анализ воронки событий\"></a>\n",
    "## 3. Анализ воронки событий"
   ]
  },
  {
   "cell_type": "markdown",
   "id": "f8835c9b",
   "metadata": {},
   "source": [
    "Выведем список уникальных событий в датасете по частоте встречаемости."
   ]
  },
  {
   "cell_type": "code",
   "execution_count": 13,
   "id": "fc6e0acb",
   "metadata": {},
   "outputs": [
    {
     "data": {
      "text/html": [
       "<div>\n",
       "<style scoped>\n",
       "    .dataframe tbody tr th:only-of-type {\n",
       "        vertical-align: middle;\n",
       "    }\n",
       "\n",
       "    .dataframe tbody tr th {\n",
       "        vertical-align: top;\n",
       "    }\n",
       "\n",
       "    .dataframe thead th {\n",
       "        text-align: right;\n",
       "    }\n",
       "</style>\n",
       "<table border=\"1\" class=\"dataframe\">\n",
       "  <thead>\n",
       "    <tr style=\"text-align: right;\">\n",
       "      <th></th>\n",
       "      <th>event_name</th>\n",
       "      <th>device_id_hash</th>\n",
       "    </tr>\n",
       "  </thead>\n",
       "  <tbody>\n",
       "    <tr>\n",
       "      <th>0</th>\n",
       "      <td>MainScreenAppear</td>\n",
       "      <td>117328</td>\n",
       "    </tr>\n",
       "    <tr>\n",
       "      <th>1</th>\n",
       "      <td>OffersScreenAppear</td>\n",
       "      <td>46333</td>\n",
       "    </tr>\n",
       "    <tr>\n",
       "      <th>2</th>\n",
       "      <td>CartScreenAppear</td>\n",
       "      <td>42303</td>\n",
       "    </tr>\n",
       "    <tr>\n",
       "      <th>3</th>\n",
       "      <td>PaymentScreenSuccessful</td>\n",
       "      <td>33918</td>\n",
       "    </tr>\n",
       "    <tr>\n",
       "      <th>4</th>\n",
       "      <td>Tutorial</td>\n",
       "      <td>1005</td>\n",
       "    </tr>\n",
       "  </tbody>\n",
       "</table>\n",
       "</div>"
      ],
      "text/plain": [
       "                event_name  device_id_hash\n",
       "0         MainScreenAppear          117328\n",
       "1       OffersScreenAppear           46333\n",
       "2         CartScreenAppear           42303\n",
       "3  PaymentScreenSuccessful           33918\n",
       "4                 Tutorial            1005"
      ]
     },
     "execution_count": 13,
     "metadata": {},
     "output_type": "execute_result"
    }
   ],
   "source": [
    "logs_by_event_frequency = (\n",
    "    actual_logs\n",
    "    .groupby('event_name',as_index = False)\n",
    "    .agg({'device_id_hash':'count'})\n",
    "    .sort_values(by='device_id_hash',ascending=False)\n",
    ").reset_index(drop=True)\n",
    "\n",
    "logs_by_event_frequency.columns =  ['event_name','device_id_hash']\n",
    "logs_by_event_frequency\n",
    "\n"
   ]
  },
  {
   "cell_type": "markdown",
   "id": "4eeec209",
   "metadata": {},
   "source": [
    "Всего насчитывается пять событий, самое частотное - MainScreenAppear(пользователь открыл главный экран), далее по порядку идут OffersScreenAppear(пользователь открыл страницу с предложениями), CartScreenAppear(пользователь зашел в корзину), PaymentScreenSuccessful(пользователь успешно оплатил заказ). Реже всего пользователи совершают событие Tutorial (пользователь прошел обучение). \n",
    "\n",
    "Посмотрим, как много пользователей совершили каждое из событий. "
   ]
  },
  {
   "cell_type": "code",
   "execution_count": 14,
   "id": "9b01fe16",
   "metadata": {},
   "outputs": [
    {
     "data": {
      "text/html": [
       "<div>\n",
       "<style scoped>\n",
       "    .dataframe tbody tr th:only-of-type {\n",
       "        vertical-align: middle;\n",
       "    }\n",
       "\n",
       "    .dataframe tbody tr th {\n",
       "        vertical-align: top;\n",
       "    }\n",
       "\n",
       "    .dataframe thead th {\n",
       "        text-align: right;\n",
       "    }\n",
       "</style>\n",
       "<table border=\"1\" class=\"dataframe\">\n",
       "  <thead>\n",
       "    <tr style=\"text-align: right;\">\n",
       "      <th></th>\n",
       "      <th>event_name</th>\n",
       "      <th>user_count</th>\n",
       "      <th>user_share</th>\n",
       "    </tr>\n",
       "  </thead>\n",
       "  <tbody>\n",
       "    <tr>\n",
       "      <th>0</th>\n",
       "      <td>MainScreenAppear</td>\n",
       "      <td>7419</td>\n",
       "      <td>98.47</td>\n",
       "    </tr>\n",
       "    <tr>\n",
       "      <th>1</th>\n",
       "      <td>OffersScreenAppear</td>\n",
       "      <td>4593</td>\n",
       "      <td>60.96</td>\n",
       "    </tr>\n",
       "    <tr>\n",
       "      <th>2</th>\n",
       "      <td>CartScreenAppear</td>\n",
       "      <td>3734</td>\n",
       "      <td>49.56</td>\n",
       "    </tr>\n",
       "    <tr>\n",
       "      <th>3</th>\n",
       "      <td>PaymentScreenSuccessful</td>\n",
       "      <td>3539</td>\n",
       "      <td>46.97</td>\n",
       "    </tr>\n",
       "    <tr>\n",
       "      <th>4</th>\n",
       "      <td>Tutorial</td>\n",
       "      <td>840</td>\n",
       "      <td>11.15</td>\n",
       "    </tr>\n",
       "  </tbody>\n",
       "</table>\n",
       "</div>"
      ],
      "text/plain": [
       "                event_name  user_count  user_share\n",
       "0         MainScreenAppear        7419       98.47\n",
       "1       OffersScreenAppear        4593       60.96\n",
       "2         CartScreenAppear        3734       49.56\n",
       "3  PaymentScreenSuccessful        3539       46.97\n",
       "4                 Tutorial         840       11.15"
      ]
     },
     "execution_count": 14,
     "metadata": {},
     "output_type": "execute_result"
    }
   ],
   "source": [
    "logs_by_user_count = (\n",
    "    actual_logs\n",
    "    .groupby('event_name',as_index = False)\n",
    "    .agg({'device_id_hash':'nunique'})\n",
    "    .sort_values(by='device_id_hash',ascending=False)\n",
    ").reset_index(drop=True)\n",
    "\n",
    "logs_by_user_count.columns =  ['event_name','user_count']\n",
    "logs_by_user_count['user_share'] = round(logs_by_user_count['user_count']/len(actual_logs['device_id_hash'].unique())*100,2)\n",
    "\n",
    "logs_by_user_count"
   ]
  },
  {
   "cell_type": "markdown",
   "id": "a16b1870",
   "metadata": {},
   "source": [
    "98,5% пользователей заходили на главный экран, 60,1% - открывали страницу с предложениями, 49,6% зашли в корзину и 47% оплатили заказ. Обучение проходили лишь 11,2% пользователей. \n",
    "Построим воронку событий на основе первых четырех этапов. Событие Tutorial в воронку включать не будем - этап обучения не является обязательным для оформления заказа, и пользователи могут открывать эту страницу на любом этапе воронки."
   ]
  },
  {
   "cell_type": "markdown",
   "id": "94cfd9c6",
   "metadata": {},
   "source": []
  },
  {
   "cell_type": "code",
   "execution_count": 15,
   "id": "6ed26ec8",
   "metadata": {},
   "outputs": [],
   "source": [
    "logs_by_user_count = logs_by_user_count.drop(index=4)"
   ]
  },
  {
   "cell_type": "code",
   "execution_count": 16,
   "id": "57bf1075",
   "metadata": {},
   "outputs": [
    {
     "data": {
      "text/html": [
       "<div>\n",
       "<style scoped>\n",
       "    .dataframe tbody tr th:only-of-type {\n",
       "        vertical-align: middle;\n",
       "    }\n",
       "\n",
       "    .dataframe tbody tr th {\n",
       "        vertical-align: top;\n",
       "    }\n",
       "\n",
       "    .dataframe thead th {\n",
       "        text-align: right;\n",
       "    }\n",
       "</style>\n",
       "<table border=\"1\" class=\"dataframe\">\n",
       "  <thead>\n",
       "    <tr style=\"text-align: right;\">\n",
       "      <th></th>\n",
       "      <th>event_name</th>\n",
       "      <th>user_count</th>\n",
       "      <th>user_share</th>\n",
       "      <th>relevant_user_share</th>\n",
       "      <th>relevant_user_loss</th>\n",
       "    </tr>\n",
       "  </thead>\n",
       "  <tbody>\n",
       "    <tr>\n",
       "      <th>0</th>\n",
       "      <td>MainScreenAppear</td>\n",
       "      <td>7419</td>\n",
       "      <td>98.47</td>\n",
       "      <td>NaN</td>\n",
       "      <td>NaN</td>\n",
       "    </tr>\n",
       "    <tr>\n",
       "      <th>1</th>\n",
       "      <td>OffersScreenAppear</td>\n",
       "      <td>4593</td>\n",
       "      <td>60.96</td>\n",
       "      <td>61.91</td>\n",
       "      <td>38.09</td>\n",
       "    </tr>\n",
       "    <tr>\n",
       "      <th>2</th>\n",
       "      <td>CartScreenAppear</td>\n",
       "      <td>3734</td>\n",
       "      <td>49.56</td>\n",
       "      <td>81.30</td>\n",
       "      <td>18.70</td>\n",
       "    </tr>\n",
       "    <tr>\n",
       "      <th>3</th>\n",
       "      <td>PaymentScreenSuccessful</td>\n",
       "      <td>3539</td>\n",
       "      <td>46.97</td>\n",
       "      <td>94.78</td>\n",
       "      <td>5.22</td>\n",
       "    </tr>\n",
       "  </tbody>\n",
       "</table>\n",
       "</div>"
      ],
      "text/plain": [
       "                event_name  user_count  user_share  relevant_user_share  \\\n",
       "0         MainScreenAppear        7419       98.47                  NaN   \n",
       "1       OffersScreenAppear        4593       60.96                61.91   \n",
       "2         CartScreenAppear        3734       49.56                81.30   \n",
       "3  PaymentScreenSuccessful        3539       46.97                94.78   \n",
       "\n",
       "   relevant_user_loss  \n",
       "0                 NaN  \n",
       "1               38.09  \n",
       "2               18.70  \n",
       "3                5.22  "
      ]
     },
     "execution_count": 16,
     "metadata": {},
     "output_type": "execute_result"
    }
   ],
   "source": [
    "logs_by_user_count['relevant_user_share'] = round(logs_by_user_count['user_count']/logs_by_user_count['user_count'].shift(1)*100,2)\n",
    "logs_by_user_count['relevant_user_loss'] = 100 - logs_by_user_count['relevant_user_share'] \n",
    "logs_by_user_count\n"
   ]
  },
  {
   "cell_type": "code",
   "execution_count": 17,
   "id": "1deb3319",
   "metadata": {
    "scrolled": false
   },
   "outputs": [
    {
     "data": {
      "text/plain": [
       "Text(0.5, 1.0, 'Воронка событий')"
      ]
     },
     "execution_count": 17,
     "metadata": {},
     "output_type": "execute_result"
    },
    {
     "data": {
      "image/png": "[encoded data removed]",
      "text/plain": [
       "<Figure size 720x360 with 1 Axes>"
      ]
     },
     "metadata": {
      "needs_background": "light"
     },
     "output_type": "display_data"
    }
   ],
   "source": [
    "plt.figure(figsize=(10,5))\n",
    "\n",
    "x = logs_by_user_count['user_count']\n",
    "y = logs_by_user_count['event_name']\n",
    "\n",
    "x_max = 8000\n",
    "x_min = 0\n",
    "\n",
    "for idx, val in enumerate(x):\n",
    "    left = (x_max - val)/2\n",
    "    plt.barh(y[idx], x[idx], left = left)\n",
    "    plt.text(4000, y[idx], logs_by_user_count['user_share'][idx], ha='center',\n",
    "             fontsize=12)\n",
    "plt.xlim(x_min, x_max)\n",
    "plt.gca().invert_yaxis()\n",
    "ax = plt.gca ()\n",
    "ax.get_xaxis ().set_visible ( False )\n",
    "plt.title('Воронка событий')"
   ]
  },
  {
   "cell_type": "code",
   "execution_count": 18,
   "id": "b54dab3c",
   "metadata": {},
   "outputs": [
    {
     "name": "stdout",
     "output_type": "stream",
     "text": [
      "Доля пользователей, которые доходят от первого события до оплаты: 47.7 %\n"
     ]
    }
   ],
   "source": [
    "print('Доля пользователей, которые доходят от первого события до оплаты:', \n",
    "      round(logs_by_user_count.iloc[3]['user_count']/logs_by_user_count.iloc[0]['user_count']*100,2),'%')\n",
    "\n",
    "\n"
   ]
  },
  {
   "cell_type": "markdown",
   "id": "ee6f4802",
   "metadata": {},
   "source": [
    "Больше всего пользователей теряется на этапе перехода с главного экрана к каталогу - почти 40% не доходят до этого этапа. Возможно, проблема - в неудобном интерфейсе приложения, который затрудняет переход пользователей к каталогу. При этом 80% пользователей, который открыли каталог, перешли в корзину; 95% пользователей, открывших корзину, успешно оформили заказ. \n",
    "\n",
    "Конверсия пользователей, открывших приложение, в совершивших покупку, составила 47,7%."
   ]
  },
  {
   "cell_type": "markdown",
   "id": "89a4b969",
   "metadata": {},
   "source": [
    "<a id=\"3. Анализ воронки событий. Промежуточный вывод\"></a>\n",
    "### Промежуточный вывод"
   ]
  },
  {
   "cell_type": "markdown",
   "id": "1dc7619a",
   "metadata": {},
   "source": [
    "Воронка событий за исследуемый период выглядит следующим образом:\n",
    "\n",
    "1. Пользователь открыл главный экран приложения - 98,5% от общего числа пользователей совершили это событие;\n",
    "2. Пользователь открыл каталог - 60,1% пользователей; \n",
    "3. Пользователь открыл корзину - 49,6%;\n",
    "4. Пользователь оплатил заказ - 47%.\n",
    "\n",
    "Больше всего пользователей теряется на этапе перехода с главного экрана к каталогу - почти 40% не доходят до этого этапа. \n",
    "\n",
    "47,7% пользователей, открывших главный экран приложения, успешно оплатили заказ.\n"
   ]
  },
  {
   "cell_type": "markdown",
   "id": "d910bf17",
   "metadata": {},
   "source": [
    "<a id=\"4. Анализ результатов A/A/B теста\"></a>\n",
    "## 4. Анализ результатов A/A/B теста"
   ]
  },
  {
   "cell_type": "markdown",
   "id": "100d882d",
   "metadata": {},
   "source": [
    "Выведем на экран таблицу с количеством пользователей в каждой группе теста. Построим воронку конверсии для каждой группы в отдельности."
   ]
  },
  {
   "cell_type": "code",
   "execution_count": 19,
   "id": "c60ccf3e",
   "metadata": {},
   "outputs": [
    {
     "data": {
      "text/html": [
       "<div>\n",
       "<style scoped>\n",
       "    .dataframe tbody tr th:only-of-type {\n",
       "        vertical-align: middle;\n",
       "    }\n",
       "\n",
       "    .dataframe tbody tr th {\n",
       "        vertical-align: top;\n",
       "    }\n",
       "\n",
       "    .dataframe thead th {\n",
       "        text-align: right;\n",
       "    }\n",
       "</style>\n",
       "<table border=\"1\" class=\"dataframe\">\n",
       "  <thead>\n",
       "    <tr style=\"text-align: right;\">\n",
       "      <th></th>\n",
       "      <th>device_id_hash</th>\n",
       "    </tr>\n",
       "    <tr>\n",
       "      <th>exp_id</th>\n",
       "      <th></th>\n",
       "    </tr>\n",
       "  </thead>\n",
       "  <tbody>\n",
       "    <tr>\n",
       "      <th>246</th>\n",
       "      <td>2484</td>\n",
       "    </tr>\n",
       "    <tr>\n",
       "      <th>247</th>\n",
       "      <td>2513</td>\n",
       "    </tr>\n",
       "    <tr>\n",
       "      <th>248</th>\n",
       "      <td>2537</td>\n",
       "    </tr>\n",
       "  </tbody>\n",
       "</table>\n",
       "</div>"
      ],
      "text/plain": [
       "        device_id_hash\n",
       "exp_id                \n",
       "246               2484\n",
       "247               2513\n",
       "248               2537"
      ]
     },
     "execution_count": 19,
     "metadata": {},
     "output_type": "execute_result"
    }
   ],
   "source": [
    "actual_logs.groupby('exp_id').agg({'device_id_hash':'nunique'})\n"
   ]
  },
  {
   "cell_type": "code",
   "execution_count": 20,
   "id": "3f4e9223",
   "metadata": {},
   "outputs": [],
   "source": [
    "def funnel_conversion_by_group(n):\n",
    "    \n",
    "    print('Воронка конверсии для группы', n)\n",
    "    funnel_conversion_by_group = actual_logs.query('exp_id == @n & event_name != \"Tutorial\"').groupby('event_name',as_index = False).agg({'device_id_hash':'nunique'}).sort_values(by='device_id_hash',ascending=False).reset_index(drop=True)\n",
    "    funnel_conversion_by_group.columns =  ['event_name','user_count']\n",
    "    funnel_conversion_by_group['user_share'] = round(funnel_conversion_by_group['user_count']/len(actual_logs.query('exp_id == @n')['device_id_hash'].unique())*100,2)\n",
    "    funnel_conversion_by_group['relevant_user_share'] = round(funnel_conversion_by_group['user_count']/funnel_conversion_by_group['user_count'].shift(1)*100,2)\n",
    "    funnel_conversion_by_group['relevant_user_loss'] = 100 - funnel_conversion_by_group['relevant_user_share'] \n",
    "    \n",
    "    plt.figure(figsize=(10,3))\n",
    "\n",
    "    x = funnel_conversion_by_group['user_count']\n",
    "    y = funnel_conversion_by_group['event_name']\n",
    "\n",
    "    x_max = 8000\n",
    "    x_min = 0\n",
    "    \n",
    "    for idx, val in enumerate(x):\n",
    "        left = (x_max - val)/2\n",
    "        plt.barh(y[idx], x[idx], left = left)\n",
    "        plt.text(4000, y[idx], funnel_conversion_by_group['user_share'][idx], ha='center',\n",
    "             fontsize=12)\n",
    "    plt.xlim(x_min, x_max)\n",
    "    plt.gca().invert_yaxis()\n",
    "    ax = plt.gca ()\n",
    "    ax.get_xaxis ().set_visible ( False )\n",
    "    plt.title(f'Воронка конверсии в группе {n}')\n",
    "    \n",
    "    return funnel_conversion_by_group\n"
   ]
  },
  {
   "cell_type": "code",
   "execution_count": 21,
   "id": "454bf407",
   "metadata": {},
   "outputs": [
    {
     "name": "stdout",
     "output_type": "stream",
     "text": [
      "Воронка конверсии для группы 246\n"
     ]
    },
    {
     "data": {
      "text/html": [
       "<div>\n",
       "<style scoped>\n",
       "    .dataframe tbody tr th:only-of-type {\n",
       "        vertical-align: middle;\n",
       "    }\n",
       "\n",
       "    .dataframe tbody tr th {\n",
       "        vertical-align: top;\n",
       "    }\n",
       "\n",
       "    .dataframe thead th {\n",
       "        text-align: right;\n",
       "    }\n",
       "</style>\n",
       "<table border=\"1\" class=\"dataframe\">\n",
       "  <thead>\n",
       "    <tr style=\"text-align: right;\">\n",
       "      <th></th>\n",
       "      <th>event_name</th>\n",
       "      <th>user_count</th>\n",
       "      <th>user_share</th>\n",
       "      <th>relevant_user_share</th>\n",
       "      <th>relevant_user_loss</th>\n",
       "    </tr>\n",
       "  </thead>\n",
       "  <tbody>\n",
       "    <tr>\n",
       "      <th>0</th>\n",
       "      <td>MainScreenAppear</td>\n",
       "      <td>2450</td>\n",
       "      <td>98.63</td>\n",
       "      <td>NaN</td>\n",
       "      <td>NaN</td>\n",
       "    </tr>\n",
       "    <tr>\n",
       "      <th>1</th>\n",
       "      <td>OffersScreenAppear</td>\n",
       "      <td>1542</td>\n",
       "      <td>62.08</td>\n",
       "      <td>62.94</td>\n",
       "      <td>37.06</td>\n",
       "    </tr>\n",
       "    <tr>\n",
       "      <th>2</th>\n",
       "      <td>CartScreenAppear</td>\n",
       "      <td>1266</td>\n",
       "      <td>50.97</td>\n",
       "      <td>82.10</td>\n",
       "      <td>17.90</td>\n",
       "    </tr>\n",
       "    <tr>\n",
       "      <th>3</th>\n",
       "      <td>PaymentScreenSuccessful</td>\n",
       "      <td>1200</td>\n",
       "      <td>48.31</td>\n",
       "      <td>94.79</td>\n",
       "      <td>5.21</td>\n",
       "    </tr>\n",
       "  </tbody>\n",
       "</table>\n",
       "</div>"
      ],
      "text/plain": [
       "                event_name  user_count  user_share  relevant_user_share  \\\n",
       "0         MainScreenAppear        2450       98.63                  NaN   \n",
       "1       OffersScreenAppear        1542       62.08                62.94   \n",
       "2         CartScreenAppear        1266       50.97                82.10   \n",
       "3  PaymentScreenSuccessful        1200       48.31                94.79   \n",
       "\n",
       "   relevant_user_loss  \n",
       "0                 NaN  \n",
       "1               37.06  \n",
       "2               17.90  \n",
       "3                5.21  "
      ]
     },
     "execution_count": 21,
     "metadata": {},
     "output_type": "execute_result"
    },
    {
     "data": {
      "image/png": "[encoded data removed]",
      "text/plain": [
       "<Figure size 720x216 with 1 Axes>"
      ]
     },
     "metadata": {
      "needs_background": "light"
     },
     "output_type": "display_data"
    }
   ],
   "source": [
    "funnel_conversion_246 = funnel_conversion_by_group(246)\n",
    "funnel_conversion_246"
   ]
  },
  {
   "cell_type": "code",
   "execution_count": 22,
   "id": "e8ce7c52",
   "metadata": {},
   "outputs": [
    {
     "name": "stdout",
     "output_type": "stream",
     "text": [
      "Воронка конверсии для группы 247\n"
     ]
    },
    {
     "data": {
      "text/html": [
       "<div>\n",
       "<style scoped>\n",
       "    .dataframe tbody tr th:only-of-type {\n",
       "        vertical-align: middle;\n",
       "    }\n",
       "\n",
       "    .dataframe tbody tr th {\n",
       "        vertical-align: top;\n",
       "    }\n",
       "\n",
       "    .dataframe thead th {\n",
       "        text-align: right;\n",
       "    }\n",
       "</style>\n",
       "<table border=\"1\" class=\"dataframe\">\n",
       "  <thead>\n",
       "    <tr style=\"text-align: right;\">\n",
       "      <th></th>\n",
       "      <th>event_name</th>\n",
       "      <th>user_count</th>\n",
       "      <th>user_share</th>\n",
       "      <th>relevant_user_share</th>\n",
       "      <th>relevant_user_loss</th>\n",
       "    </tr>\n",
       "  </thead>\n",
       "  <tbody>\n",
       "    <tr>\n",
       "      <th>0</th>\n",
       "      <td>MainScreenAppear</td>\n",
       "      <td>2476</td>\n",
       "      <td>98.53</td>\n",
       "      <td>NaN</td>\n",
       "      <td>NaN</td>\n",
       "    </tr>\n",
       "    <tr>\n",
       "      <th>1</th>\n",
       "      <td>OffersScreenAppear</td>\n",
       "      <td>1520</td>\n",
       "      <td>60.49</td>\n",
       "      <td>61.39</td>\n",
       "      <td>38.61</td>\n",
       "    </tr>\n",
       "    <tr>\n",
       "      <th>2</th>\n",
       "      <td>CartScreenAppear</td>\n",
       "      <td>1238</td>\n",
       "      <td>49.26</td>\n",
       "      <td>81.45</td>\n",
       "      <td>18.55</td>\n",
       "    </tr>\n",
       "    <tr>\n",
       "      <th>3</th>\n",
       "      <td>PaymentScreenSuccessful</td>\n",
       "      <td>1158</td>\n",
       "      <td>46.08</td>\n",
       "      <td>93.54</td>\n",
       "      <td>6.46</td>\n",
       "    </tr>\n",
       "  </tbody>\n",
       "</table>\n",
       "</div>"
      ],
      "text/plain": [
       "                event_name  user_count  user_share  relevant_user_share  \\\n",
       "0         MainScreenAppear        2476       98.53                  NaN   \n",
       "1       OffersScreenAppear        1520       60.49                61.39   \n",
       "2         CartScreenAppear        1238       49.26                81.45   \n",
       "3  PaymentScreenSuccessful        1158       46.08                93.54   \n",
       "\n",
       "   relevant_user_loss  \n",
       "0                 NaN  \n",
       "1               38.61  \n",
       "2               18.55  \n",
       "3                6.46  "
      ]
     },
     "execution_count": 22,
     "metadata": {},
     "output_type": "execute_result"
    },
    {
     "data": {
      "image/png": "[encoded data removed]",
      "text/plain": [
       "<Figure size 720x216 with 1 Axes>"
      ]
     },
     "metadata": {
      "needs_background": "light"
     },
     "output_type": "display_data"
    }
   ],
   "source": [
    "funnel_conversion_247 = funnel_conversion_by_group(247)\n",
    "funnel_conversion_247"
   ]
  },
  {
   "cell_type": "code",
   "execution_count": 23,
   "id": "1b403b7b",
   "metadata": {},
   "outputs": [
    {
     "name": "stdout",
     "output_type": "stream",
     "text": [
      "Воронка конверсии для группы 248\n"
     ]
    },
    {
     "data": {
      "text/html": [
       "<div>\n",
       "<style scoped>\n",
       "    .dataframe tbody tr th:only-of-type {\n",
       "        vertical-align: middle;\n",
       "    }\n",
       "\n",
       "    .dataframe tbody tr th {\n",
       "        vertical-align: top;\n",
       "    }\n",
       "\n",
       "    .dataframe thead th {\n",
       "        text-align: right;\n",
       "    }\n",
       "</style>\n",
       "<table border=\"1\" class=\"dataframe\">\n",
       "  <thead>\n",
       "    <tr style=\"text-align: right;\">\n",
       "      <th></th>\n",
       "      <th>event_name</th>\n",
       "      <th>user_count</th>\n",
       "      <th>user_share</th>\n",
       "      <th>relevant_user_share</th>\n",
       "      <th>relevant_user_loss</th>\n",
       "    </tr>\n",
       "  </thead>\n",
       "  <tbody>\n",
       "    <tr>\n",
       "      <th>0</th>\n",
       "      <td>MainScreenAppear</td>\n",
       "      <td>2493</td>\n",
       "      <td>98.27</td>\n",
       "      <td>NaN</td>\n",
       "      <td>NaN</td>\n",
       "    </tr>\n",
       "    <tr>\n",
       "      <th>1</th>\n",
       "      <td>OffersScreenAppear</td>\n",
       "      <td>1531</td>\n",
       "      <td>60.35</td>\n",
       "      <td>61.41</td>\n",
       "      <td>38.59</td>\n",
       "    </tr>\n",
       "    <tr>\n",
       "      <th>2</th>\n",
       "      <td>CartScreenAppear</td>\n",
       "      <td>1230</td>\n",
       "      <td>48.48</td>\n",
       "      <td>80.34</td>\n",
       "      <td>19.66</td>\n",
       "    </tr>\n",
       "    <tr>\n",
       "      <th>3</th>\n",
       "      <td>PaymentScreenSuccessful</td>\n",
       "      <td>1181</td>\n",
       "      <td>46.55</td>\n",
       "      <td>96.02</td>\n",
       "      <td>3.98</td>\n",
       "    </tr>\n",
       "  </tbody>\n",
       "</table>\n",
       "</div>"
      ],
      "text/plain": [
       "                event_name  user_count  user_share  relevant_user_share  \\\n",
       "0         MainScreenAppear        2493       98.27                  NaN   \n",
       "1       OffersScreenAppear        1531       60.35                61.41   \n",
       "2         CartScreenAppear        1230       48.48                80.34   \n",
       "3  PaymentScreenSuccessful        1181       46.55                96.02   \n",
       "\n",
       "   relevant_user_loss  \n",
       "0                 NaN  \n",
       "1               38.59  \n",
       "2               19.66  \n",
       "3                3.98  "
      ]
     },
     "execution_count": 23,
     "metadata": {},
     "output_type": "execute_result"
    },
    {
     "data": {
      "image/png": "[encoded data removed]",
      "text/plain": [
       "<Figure size 720x216 with 1 Axes>"
      ]
     },
     "metadata": {
      "needs_background": "light"
     },
     "output_type": "display_data"
    }
   ],
   "source": [
    "funnel_conversion_248 = funnel_conversion_by_group(248)\n",
    "funnel_conversion_248"
   ]
  },
  {
   "cell_type": "markdown",
   "id": "2e1c7fd0",
   "metadata": {},
   "source": [
    "<a id=\"Анализ результатов A/A теста\"></a>\n",
    "### Анализ результатов A/A теста"
   ]
  },
  {
   "cell_type": "markdown",
   "id": "c8a59fe3",
   "metadata": {},
   "source": [
    "Группы 246 и 247 - контрольные группы для А/А-эксперимента. Проверим, нет ли статистической разницы между этими выборками. Для этого создадим переменные, содержащие данные о количестве пользователей каждой из двух групп, совершавших то или иное событие в каждый из дней анализируемого периода, и проведем t-тест. \n",
    "\n",
    "Нулевая гипотеза: средние значения количества активных пользователей в день двух выборок не отличаются.\n",
    "Альтернативная гипотеза: средние значения количества активных пользователей в день различаются, и это различие статистически значимо."
   ]
  },
  {
   "cell_type": "code",
   "execution_count": 24,
   "id": "a052f152",
   "metadata": {},
   "outputs": [
    {
     "name": "stdout",
     "output_type": "stream",
     "text": [
      "p-значение: 0.30899748048237163\n",
      "Не получилось отвергнуть нулевую гипотезу\n"
     ]
    }
   ],
   "source": [
    "alpha = 0.01\n",
    "\n",
    "a1_data = (\n",
    "    list(\n",
    "        actual_logs.query('exp_id==246')\n",
    "        .groupby('date',as_index=False)\n",
    "        .agg({'device_id_hash':'nunique'})['device_id_hash'])\n",
    ")\n",
    "\n",
    "a2_data = (\n",
    "    list(\n",
    "        actual_logs.query('exp_id==247')\n",
    "        .groupby('date',as_index=False)\n",
    "        .agg({'device_id_hash':'nunique'})['device_id_hash'])\n",
    ")\n",
    "\n",
    "results = st.ttest_ind(a1_data, a2_data)\n",
    "\n",
    "print('p-значение:', results.pvalue)\n",
    "\n",
    "if results.pvalue < alpha:\n",
    "    print('Отвергаем нулевую гипотезу')\n",
    "else:\n",
    "    print('Не получилось отвергнуть нулевую гипотезу') "
   ]
  },
  {
   "cell_type": "markdown",
   "id": "cd87b546",
   "metadata": {},
   "source": [
    "Далее проверим результаты A/A-теста: выясним, существуют ли статистически значимые различия между относительными долями пользователей из контрольных групп на каждом этапе воронки. Для этого применим z-тест.\n",
    "\n",
    "Мы будем применять z-тест к каждому из 4х этапов воронки конверсии. Кроме того, на этапе проверка результатов A/B-теста мы также будет применять z-тест к каждому из 4х этапов, сравнивая попарно группы 246 и 248, 247 и 248, а также объединенную контрльную группу (246+247) и 248. Итого в рамках множественного теста мы проверим 16 нулевых гипотез.\n",
    "\n",
    "Чтобы снизить вероятность ложнопозитивного результата, применим к уровню статистической значимость alpha = 0.01 поправку Бонферрони.\n",
    "\n"
   ]
  },
  {
   "cell_type": "code",
   "execution_count": 25,
   "id": "68795280",
   "metadata": {},
   "outputs": [],
   "source": [
    "bonferroni_alpha = alpha/16"
   ]
  },
  {
   "cell_type": "markdown",
   "id": "013f6fef",
   "metadata": {},
   "source": [
    "Сформулируем нулевую и альтернативную гипотезы, которые будем проверять в рамках каждого из последующих тестов:\n",
    "\n",
    "H0: Между тестируемыми долями двух выборок нет статистически значимых различий.\n",
    "H1: Между тестируемыми долями двух выборок есть различия, и они статистически значимы."
   ]
  },
  {
   "cell_type": "code",
   "execution_count": 26,
   "id": "135a5c69",
   "metadata": {},
   "outputs": [],
   "source": [
    "#зададим функцию для проведения z-теста на каждом этапе воронки:\n",
    "\n",
    "user_count_by_groups = (\n",
    "    pd.pivot_table(data = actual_logs,\n",
    "                  values='device_id_hash',\n",
    "                  index='exp_id',\n",
    "                  columns='event_name',\n",
    "                  aggfunc='nunique')\n",
    ")\n",
    "\n",
    "user_count_by_groups['total_count'] = actual_logs.groupby('exp_id').agg({'device_id_hash':'nunique'})['device_id_hash']\n",
    "\n",
    "user_count_by_groups.loc['control_groups_summed_up'] = (\n",
    "    [(user_count_by_groups.iloc[0,0]+user_count_by_groups.iloc[1,0]),\n",
    "     (user_count_by_groups.iloc[0,1]+user_count_by_groups.iloc[1,1]),\n",
    "     (user_count_by_groups.iloc[0,2]+user_count_by_groups.iloc[1,2]),\n",
    "     (user_count_by_groups.iloc[0,3]+user_count_by_groups.iloc[1,3]),\n",
    "     (user_count_by_groups.iloc[0,4]+user_count_by_groups.iloc[1,4]),\n",
    "     (user_count_by_groups.iloc[0,5]+user_count_by_groups.iloc[1,5])]\n",
    ")\n",
    "\n",
    "\n",
    "def aa_funnel_z_test(event, group1, group2):\n",
    "    \n",
    "    \n",
    "    successes = (\n",
    "        np.array(\n",
    "            [user_count_by_groups.loc[group1,event], \n",
    "             user_count_by_groups.loc[group2,event]]\n",
    "        )\n",
    "    )\n",
    "    trials = (\n",
    "        np.array(\n",
    "            [user_count_by_groups.loc[group1,'total_count'],\n",
    "             user_count_by_groups.loc[group2,'total_count']]\n",
    "    )\n",
    "    )\n",
    "    p1 = successes[0]/trials[0]\n",
    "    p2 = successes[1]/trials[1]\n",
    "    p_combined = (successes[0] + successes[1]) / (trials[0] + trials[1])\n",
    "    difference = p1 - p2 \n",
    "\n",
    "    z_value = difference / mth.sqrt(p_combined * (1 - p_combined) * (1/trials[0] + 1/trials[1]))\n",
    "\n",
    "\n",
    "    distr = st.norm(0, 1)  \n",
    "\n",
    "    p_value = (1 - distr.cdf(abs(z_value))) * 2\n",
    "    \n",
    "    print(f'Результаты z-теста для доли пользователей из групп {group1} и {group2}, совершивших событие {event}:')    \n",
    "    print()\n",
    "    print('p-значение: ', round(p_value,3))\n",
    "    if p_value < bonferroni_alpha:\n",
    "        print('Отвергаем нулевую гипотезу: между долями есть значимая разница')\n",
    "    else:\n",
    "        print(\n",
    "        'Не получилось отвергнуть нулевую гипотезу, нет оснований считать доли разными'\n",
    "        )  \n",
    "    print()\n",
    "    print()"
   ]
  },
  {
   "cell_type": "code",
   "execution_count": 27,
   "id": "af1e0388",
   "metadata": {},
   "outputs": [
    {
     "name": "stdout",
     "output_type": "stream",
     "text": [
      "Результаты z-теста для доли пользователей из групп 246 и 247, совершивших событие MainScreenAppear:\n",
      "\n",
      "p-значение:  0.757\n",
      "Не получилось отвергнуть нулевую гипотезу, нет оснований считать доли разными\n",
      "\n",
      "\n",
      "Результаты z-теста для доли пользователей из групп 246 и 247, совершивших событие OffersScreenAppear:\n",
      "\n",
      "p-значение:  0.248\n",
      "Не получилось отвергнуть нулевую гипотезу, нет оснований считать доли разными\n",
      "\n",
      "\n",
      "Результаты z-теста для доли пользователей из групп 246 и 247, совершивших событие CartScreenAppear:\n",
      "\n",
      "p-значение:  0.229\n",
      "Не получилось отвергнуть нулевую гипотезу, нет оснований считать доли разными\n",
      "\n",
      "\n",
      "Результаты z-теста для доли пользователей из групп 246 и 247, совершивших событие PaymentScreenSuccessful:\n",
      "\n",
      "p-значение:  0.115\n",
      "Не получилось отвергнуть нулевую гипотезу, нет оснований считать доли разными\n",
      "\n",
      "\n"
     ]
    }
   ],
   "source": [
    "#проверим результаты A/A тестов на каждом этапе воронки, используя заданную выше функцию\n",
    "for event in list(funnel_conversion_246['event_name']):\n",
    "    aa_funnel_z_test(event,246,247)"
   ]
  },
  {
   "cell_type": "markdown",
   "id": "dbb25334",
   "metadata": {},
   "source": [
    "По результатам z-теста, относительные доли пользователей на каждом этапе воронки в группах 246 и 247 не имеют статистически значимых отличий. Нет оснований утверждать, что выборки различаются."
   ]
  },
  {
   "cell_type": "markdown",
   "id": "ba83ffa0",
   "metadata": {},
   "source": [
    "<a id=\"Анализ результатов A/B теста\"></a>\n",
    "### Анализ результатов A/B теста"
   ]
  },
  {
   "cell_type": "markdown",
   "id": "0e300c57",
   "metadata": {},
   "source": [
    "Применим z-тест с использованием скорректированного уровня статистической значимости для попарного сравнения долей пользователей группы 248 и каждой из контрльных групп (246 и 257), а также объединенной контрольной группы, на каждом этапе воронки конверсии."
   ]
  },
  {
   "cell_type": "code",
   "execution_count": 28,
   "id": "b979433c",
   "metadata": {},
   "outputs": [
    {
     "name": "stdout",
     "output_type": "stream",
     "text": [
      "Результаты z-теста для доли пользователей из групп 246 и 248, совершивших событие MainScreenAppear:\n",
      "\n",
      "p-значение:  0.295\n",
      "Не получилось отвергнуть нулевую гипотезу, нет оснований считать доли разными\n",
      "\n",
      "\n",
      "Результаты z-теста для доли пользователей из групп 247 и 248, совершивших событие MainScreenAppear:\n",
      "\n",
      "p-значение:  0.459\n",
      "Не получилось отвергнуть нулевую гипотезу, нет оснований считать доли разными\n",
      "\n",
      "\n",
      "Результаты z-теста для доли пользователей из групп control_groups_summed_up и 248, совершивших событие MainScreenAppear:\n",
      "\n",
      "p-значение:  0.294\n",
      "Не получилось отвергнуть нулевую гипотезу, нет оснований считать доли разными\n",
      "\n",
      "\n",
      "Результаты z-теста для доли пользователей из групп 246 и 248, совершивших событие OffersScreenAppear:\n",
      "\n",
      "p-значение:  0.208\n",
      "Не получилось отвергнуть нулевую гипотезу, нет оснований считать доли разными\n",
      "\n",
      "\n",
      "Результаты z-теста для доли пользователей из групп 247 и 248, совершивших событие OffersScreenAppear:\n",
      "\n",
      "p-значение:  0.92\n",
      "Не получилось отвергнуть нулевую гипотезу, нет оснований считать доли разными\n",
      "\n",
      "\n",
      "Результаты z-теста для доли пользователей из групп control_groups_summed_up и 248, совершивших событие OffersScreenAppear:\n",
      "\n",
      "p-значение:  0.434\n",
      "Не получилось отвергнуть нулевую гипотезу, нет оснований считать доли разными\n",
      "\n",
      "\n",
      "Результаты z-теста для доли пользователей из групп 246 и 248, совершивших событие CartScreenAppear:\n",
      "\n",
      "p-значение:  0.078\n",
      "Не получилось отвергнуть нулевую гипотезу, нет оснований считать доли разными\n",
      "\n",
      "\n",
      "Результаты z-теста для доли пользователей из групп 247 и 248, совершивших событие CartScreenAppear:\n",
      "\n",
      "p-значение:  0.579\n",
      "Не получилось отвергнуть нулевую гипотезу, нет оснований считать доли разными\n",
      "\n",
      "\n",
      "Результаты z-теста для доли пользователей из групп control_groups_summed_up и 248, совершивших событие CartScreenAppear:\n",
      "\n",
      "p-значение:  0.182\n",
      "Не получилось отвергнуть нулевую гипотезу, нет оснований считать доли разными\n",
      "\n",
      "\n",
      "Результаты z-теста для доли пользователей из групп 246 и 248, совершивших событие PaymentScreenSuccessful:\n",
      "\n",
      "p-значение:  0.212\n",
      "Не получилось отвергнуть нулевую гипотезу, нет оснований считать доли разными\n",
      "\n",
      "\n",
      "Результаты z-теста для доли пользователей из групп 247 и 248, совершивших событие PaymentScreenSuccessful:\n",
      "\n",
      "p-значение:  0.737\n",
      "Не получилось отвергнуть нулевую гипотезу, нет оснований считать доли разными\n",
      "\n",
      "\n",
      "Результаты z-теста для доли пользователей из групп control_groups_summed_up и 248, совершивших событие PaymentScreenSuccessful:\n",
      "\n",
      "p-значение:  0.6\n",
      "Не получилось отвергнуть нулевую гипотезу, нет оснований считать доли разными\n",
      "\n",
      "\n"
     ]
    }
   ],
   "source": [
    "for event in list(funnel_conversion_246['event_name']):\n",
    "    for group in [246,247,'control_groups_summed_up']:\n",
    "        aa_funnel_z_test(event,group,248)"
   ]
  },
  {
   "cell_type": "markdown",
   "id": "9d43f705",
   "metadata": {},
   "source": [
    "<a id=\"4. Анализ результатов A/A/B теста. Промежуточный вывод\"></a>\n",
    "### Промежуточный вывод"
   ]
  },
  {
   "cell_type": "markdown",
   "id": "69cc880f",
   "metadata": {},
   "source": [
    "Контрольные выборки (246 и 247) сформированы корректно и не имеют статистически значимых различий.\n",
    "\n",
    "Результаты A/B тестов показали, статистически значимых различий между группами A и B не возникает ни на одном этапе воронки событий. Замена шрифтов в дизайне приложения никак не влияет на конверсию пользователей. "
   ]
  },
  {
   "cell_type": "markdown",
   "id": "02dc6064",
   "metadata": {},
   "source": [
    "<a id=\"Общий вывод\"></a>\n",
    "## Общий вывод"
   ]
  },
  {
   "cell_type": "markdown",
   "id": "015c2e37",
   "metadata": {},
   "source": [
    "Мы изучили данные о поведении пользователей приложения, а также результаты A/A/B тестирования, запущенного с целью проверки влияния замены шрифтов в приложении на конверсию пользователей.\n",
    "\n",
    "В ходе исследования получили следующие выводы:\n",
    "\n",
    "- актуальный период исследования - с 01.08.2019 по 07.08.2019 включительно;\n",
    "- в исследовании приняли участие 7534 пользователя, каждый из которых в среднем совершил 32 события за рассматриваемый период; \n",
    "- воронка событий включает в себя четыре этапа: открытие главного экрана приложения (соврешили 98,5% пользователей от общего числа), открытие каталога (60,1%), переход в корзину (49,6%), успешная оплата заказа (47%);\n",
    "- больше всего пользователей теряется на этапе перехода с главного экрана к каталогу - почти 40% не доходят до этого этапа;\n",
    "- 47,7% пользователей, открывших главный экран приложения, успешно оплатили заказ;\n",
    "- A/A/B тест был проведен корректно: между контрольными группами не наблюдается статистически значмиых различий;\n",
    "- Результаты A/B тестов показали, статистически значимых различий между группами A и B не возникает ни на одном этапе воронки событий. Замена шрифтов в дизайне приложения никак не влияет на конверсию пользователей.\n",
    "\n",
    "На основании полученных выводов не можем порекомендовать внедрение новых шрифтов в дизайн приложения: нововведение не показало никаких положительных изменений в поведении пользователей. Вместо этого рекомендуем обратить внимание на доступность перехода от главного экрана к каталогу: низкая конверсия пользователей на этом этапе может свидетельствовать о наличии технических проблем и/или ошибок в интерфейсе.\n",
    "\n",
    "\n"
   ]
  }
 ],
 "metadata": {
  "ExecuteTimeLog": [
   {
    "duration": 1738,
    "start_time": "2023-09-28T14:03:25.141Z"
   },
   {
    "duration": 702,
    "start_time": "2023-09-28T14:03:26.886Z"
   },
   {
    "duration": 32,
    "start_time": "2023-09-28T14:03:27.589Z"
   },
   {
    "duration": 58,
    "start_time": "2023-09-28T14:03:27.623Z"
   },
   {
    "duration": 133,
    "start_time": "2023-09-28T14:03:27.688Z"
   },
   {
    "duration": 107,
    "start_time": "2023-09-28T14:03:27.822Z"
   },
   {
    "duration": 67,
    "start_time": "2023-09-28T14:03:27.931Z"
   },
   {
    "duration": 980,
    "start_time": "2023-09-28T14:03:28.000Z"
   },
   {
    "duration": 14,
    "start_time": "2023-09-28T14:03:28.983Z"
   },
   {
    "duration": 729,
    "start_time": "2023-09-28T14:03:28.999Z"
   },
   {
    "duration": 48,
    "start_time": "2023-09-28T14:03:29.730Z"
   },
   {
    "duration": 41,
    "start_time": "2023-09-28T14:03:29.781Z"
   },
   {
    "duration": 51,
    "start_time": "2023-09-28T14:03:29.824Z"
   },
   {
    "duration": 62,
    "start_time": "2023-09-28T14:03:29.876Z"
   },
   {
    "duration": 4,
    "start_time": "2023-09-28T14:03:29.939Z"
   },
   {
    "duration": 24,
    "start_time": "2023-09-28T14:03:29.958Z"
   },
   {
    "duration": 142,
    "start_time": "2023-09-28T14:03:29.984Z"
   },
   {
    "duration": 4,
    "start_time": "2023-09-28T14:03:30.128Z"
   },
   {
    "duration": 83,
    "start_time": "2023-09-28T14:03:30.134Z"
   },
   {
    "duration": 10,
    "start_time": "2023-09-28T14:03:30.218Z"
   },
   {
    "duration": 252,
    "start_time": "2023-09-28T14:03:30.229Z"
   },
   {
    "duration": 170,
    "start_time": "2023-09-28T14:03:30.483Z"
   },
   {
    "duration": 168,
    "start_time": "2023-09-28T14:03:30.668Z"
   },
   {
    "duration": 54,
    "start_time": "2023-09-28T14:03:30.838Z"
   },
   {
    "duration": 36,
    "start_time": "2023-09-28T14:03:30.895Z"
   },
   {
    "duration": 201,
    "start_time": "2023-09-28T14:03:30.933Z"
   },
   {
    "duration": 13,
    "start_time": "2023-09-28T14:03:31.136Z"
   },
   {
    "duration": 109,
    "start_time": "2023-09-28T14:03:31.166Z"
   }
  ],
  "kernelspec": {
   "display_name": "Python 3 (ipykernel)",
   "language": "python",
   "name": "python3"
  },
  "language_info": {
   "codemirror_mode": {
    "name": "ipython",
    "version": 3
   },
   "file_extension": ".py",
   "mimetype": "text/x-python",
   "name": "python",
   "nbconvert_exporter": "python",
   "pygments_lexer": "ipython3",
   "version": "3.9.16"
  },
  "toc": {
   "base_numbering": 1,
   "nav_menu": {},
   "number_sections": true,
   "sideBar": true,
   "skip_h1_title": true,
   "title_cell": "Table of Contents",
   "title_sidebar": "Contents",
   "toc_cell": false,
   "toc_position": {},
   "toc_section_display": true,
   "toc_window_display": false
  }
 },
 "nbformat": 4,
 "nbformat_minor": 5
}
