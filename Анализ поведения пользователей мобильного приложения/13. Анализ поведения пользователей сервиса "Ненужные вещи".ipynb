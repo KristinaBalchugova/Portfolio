{
 "cells": [
  {
   "cell_type": "markdown",
   "metadata": {},
   "source": [
    "# Анализ поведения пользователей сервиса \"Ненужные вещи\""
   ]
  },
  {
   "cell_type": "markdown",
   "metadata": {
    "toc": true
   },
   "source": [
    "<h1>Содержание<span class=\"tocSkip\"></span></h1>\n",
    "<div class=\"toc\"><ul class=\"toc-item\"><li><span><a href=\"#Материалы\" data-toc-modified-id=\"Материалы-1\"><span class=\"toc-item-num\">1&nbsp;&nbsp;</span>Материалы</a></span></li><li><span><a href=\"#Описание-проекта\" data-toc-modified-id=\"Описание-проекта-2\"><span class=\"toc-item-num\">2&nbsp;&nbsp;</span>Описание проекта</a></span></li><li><span><a href=\"#Выгрузка-данных\" data-toc-modified-id=\"Выгрузка-данных-3\"><span class=\"toc-item-num\">3&nbsp;&nbsp;</span>Выгрузка данных</a></span></li><li><span><a href=\"#Предобработка-данных\" data-toc-modified-id=\"Предобработка-данных-4\"><span class=\"toc-item-num\">4&nbsp;&nbsp;</span>Предобработка данных</a></span><ul class=\"toc-item\"><li><span><a href=\"#Переименование-столбцов\" data-toc-modified-id=\"Переименование-столбцов-4.1\"><span class=\"toc-item-num\">4.1&nbsp;&nbsp;</span>Переименование столбцов</a></span></li><li><span><a href=\"#Замена-типов-данных\" data-toc-modified-id=\"Замена-типов-данных-4.2\"><span class=\"toc-item-num\">4.2&nbsp;&nbsp;</span>Замена типов данных</a></span></li><li><span><a href=\"#Обработка-дубликатов\" data-toc-modified-id=\"Обработка-дубликатов-4.3\"><span class=\"toc-item-num\">4.3&nbsp;&nbsp;</span>Обработка дубликатов</a></span></li><li><span><a href=\"#Объединение-датасетов\" data-toc-modified-id=\"Объединение-датасетов-4.4\"><span class=\"toc-item-num\">4.4&nbsp;&nbsp;</span>Объединение датасетов</a></span></li></ul></li><li><span><a href=\"#Исследовательский-анализ-данных\" data-toc-modified-id=\"Исследовательский-анализ-данных-5\"><span class=\"toc-item-num\">5&nbsp;&nbsp;</span>Исследовательский анализ данных</a></span><ul class=\"toc-item\"><li><span><a href=\"#Распределение-количества-событий-на-пользователя\" data-toc-modified-id=\"Распределение-количества-событий-на-пользователя-5.1\"><span class=\"toc-item-num\">5.1&nbsp;&nbsp;</span>Распределение количества событий на пользователя</a></span></li><li><span><a href=\"#Распределение-событий-во-времени\" data-toc-modified-id=\"Распределение-событий-во-времени-5.2\"><span class=\"toc-item-num\">5.2&nbsp;&nbsp;</span>Распределение событий во времени</a></span></li><li><span><a href=\"#Выделение-пользовательских-сессий\" data-toc-modified-id=\"Выделение-пользовательских-сессий-5.3\"><span class=\"toc-item-num\">5.3&nbsp;&nbsp;</span>Выделение пользовательских сессий</a></span></li><li><span><a href=\"#Расчет-DAU,-WAU-и-Sticky-Factor\" data-toc-modified-id=\"Расчет-DAU,-WAU-и-Sticky-Factor-5.4\"><span class=\"toc-item-num\">5.4&nbsp;&nbsp;</span>Расчет DAU, WAU и Sticky Factor</a></span></li><li><span><a href=\"#Промежуточные-выводы\" data-toc-modified-id=\"Промежуточные-выводы-5.5\"><span class=\"toc-item-num\">5.5&nbsp;&nbsp;</span>Промежуточные выводы</a></span></li></ul></li><li><span><a href=\"#Основные-вопросы-исследования\" data-toc-modified-id=\"Основные-вопросы-исследования-6\"><span class=\"toc-item-num\">6&nbsp;&nbsp;</span>Основные вопросы исследования</a></span><ul class=\"toc-item\"><li><span><a href=\"#Промежуточные-выводы\" data-toc-modified-id=\"Промежуточные-выводы-6.1\"><span class=\"toc-item-num\">6.1&nbsp;&nbsp;</span>Промежуточные выводы</a></span></li></ul></li><li><span><a href=\"#Проверка-гипотез\" data-toc-modified-id=\"Проверка-гипотез-7\"><span class=\"toc-item-num\">7&nbsp;&nbsp;</span>Проверка гипотез</a></span><ul class=\"toc-item\"><li><span><a href=\"#Промежуточные-выводы\" data-toc-modified-id=\"Промежуточные-выводы-7.1\"><span class=\"toc-item-num\">7.1&nbsp;&nbsp;</span>Промежуточные выводы</a></span></li></ul></li><li><span><a href=\"#Общие-выводы\" data-toc-modified-id=\"Общие-выводы-8\"><span class=\"toc-item-num\">8&nbsp;&nbsp;</span>Общие выводы</a></span><ul class=\"toc-item\"><li><span><a href=\"#Рекоммендации-по-итогам-исследования:\" data-toc-modified-id=\"Рекоммендации-по-итогам-исследования:-8.1\"><span class=\"toc-item-num\">8.1&nbsp;&nbsp;</span>Рекоммендации по итогам исследования:</a></span></li></ul></li></ul></div>"
   ]
  },
  {
   "cell_type": "markdown",
   "metadata": {},
   "source": [
    "## Описание проекта"
   ]
  },
  {
   "cell_type": "markdown",
   "metadata": {},
   "source": [
    "В рамках проекта изучим поведение пользователей мобильного приложения сервиса \"Ненужные вещи\". В рамках анализа будем использовать данные о событиях, совершенных пользователями в мобильном приложении после 7 октября 2019 года, а также об источниках привлечения пользователей.\n",
    "\n",
    "Цели исслоедования: получить данные о поведении пользователей, необходимые для адаптации приложения по целевой и смежной аудитории; на основе поведения пользователей вывести рекомендации по улучшению приложения с точки зрения пользовательского опыта. \n",
    "\n",
    "Мы проанализируем связь событий из датасета с целевым событием (просмотром контактов), оценим, какие действия чаще совершают те пользователи, которые просматривают контакты, а также проверим две статистические гипотезы : \n",
    "\n",
    "- конверсия в просмотры контактов различается у пользователей, которые совершали действия tips_show и tips_click, отличается от конверсии в просмотры контактов у пользователей, которые совершали только действие tips_show; \n",
    "- конверсия в просмотры контактов у пользователей, привлеченных через каналы yandex и google, не отличается.  \n"
   ]
  },
  {
   "cell_type": "markdown",
   "metadata": {},
   "source": [
    "##  Выгрузка данных"
   ]
  },
  {
   "cell_type": "markdown",
   "metadata": {},
   "source": [
    "Выгрузим необходимые библиотеки:"
   ]
  },
  {
   "cell_type": "code",
   "execution_count": 47,
   "metadata": {},
   "outputs": [],
   "source": [
    "import pandas as pd\n",
    "import seaborn as sns\n",
    "import matplotlib.pyplot as plt\n",
    "import matplotlib.dates as mdates\n",
    "import numpy as np\n",
    "from plotly import graph_objects as go\n",
    "from scipy import stats as st\n",
    "import math as mth"
   ]
  },
  {
   "cell_type": "markdown",
   "metadata": {},
   "source": [
    "Сохраним предоставленные для анализа датасеты в переменные data и sources и ознакомимся с их содержанием, а также структурой и типами данных."
   ]
  },
  {
   "cell_type": "code",
   "execution_count": 48,
   "metadata": {},
   "outputs": [],
   "source": [
    "sources = pd.read_csv('https://code.s3.yandex.net/datasets/mobile_sources.csv')\n",
    "data = pd.read_csv('https://code.s3.yandex.net/datasets/mobile_dataset.csv')"
   ]
  },
  {
   "cell_type": "code",
   "execution_count": 49,
   "metadata": {},
   "outputs": [
    {
     "data": {
      "text/html": [
       "<div>\n",
       "<style scoped>\n",
       "    .dataframe tbody tr th:only-of-type {\n",
       "        vertical-align: middle;\n",
       "    }\n",
       "\n",
       "    .dataframe tbody tr th {\n",
       "        vertical-align: top;\n",
       "    }\n",
       "\n",
       "    .dataframe thead th {\n",
       "        text-align: right;\n",
       "    }\n",
       "</style>\n",
       "<table border=\"1\" class=\"dataframe\">\n",
       "  <thead>\n",
       "    <tr style=\"text-align: right;\">\n",
       "      <th></th>\n",
       "      <th>userId</th>\n",
       "      <th>source</th>\n",
       "    </tr>\n",
       "  </thead>\n",
       "  <tbody>\n",
       "    <tr>\n",
       "      <th>0</th>\n",
       "      <td>020292ab-89bc-4156-9acf-68bc2783f894</td>\n",
       "      <td>other</td>\n",
       "    </tr>\n",
       "    <tr>\n",
       "      <th>1</th>\n",
       "      <td>cf7eda61-9349-469f-ac27-e5b6f5ec475c</td>\n",
       "      <td>yandex</td>\n",
       "    </tr>\n",
       "    <tr>\n",
       "      <th>2</th>\n",
       "      <td>8c356c42-3ba9-4cb6-80b8-3f868d0192c3</td>\n",
       "      <td>yandex</td>\n",
       "    </tr>\n",
       "    <tr>\n",
       "      <th>3</th>\n",
       "      <td>d9b06b47-0f36-419b-bbb0-3533e582a6cb</td>\n",
       "      <td>other</td>\n",
       "    </tr>\n",
       "    <tr>\n",
       "      <th>4</th>\n",
       "      <td>f32e1e2a-3027-4693-b793-b7b3ff274439</td>\n",
       "      <td>google</td>\n",
       "    </tr>\n",
       "  </tbody>\n",
       "</table>\n",
       "</div>"
      ],
      "text/plain": [
       "                                 userId  source\n",
       "0  020292ab-89bc-4156-9acf-68bc2783f894   other\n",
       "1  cf7eda61-9349-469f-ac27-e5b6f5ec475c  yandex\n",
       "2  8c356c42-3ba9-4cb6-80b8-3f868d0192c3  yandex\n",
       "3  d9b06b47-0f36-419b-bbb0-3533e582a6cb   other\n",
       "4  f32e1e2a-3027-4693-b793-b7b3ff274439  google"
      ]
     },
     "metadata": {},
     "output_type": "display_data"
    },
    {
     "name": "stdout",
     "output_type": "stream",
     "text": [
      "<class 'pandas.core.frame.DataFrame'>\n",
      "RangeIndex: 4293 entries, 0 to 4292\n",
      "Data columns (total 2 columns):\n",
      " #   Column  Non-Null Count  Dtype \n",
      "---  ------  --------------  ----- \n",
      " 0   userId  4293 non-null   object\n",
      " 1   source  4293 non-null   object\n",
      "dtypes: object(2)\n",
      "memory usage: 67.2+ KB\n"
     ]
    }
   ],
   "source": [
    "display(sources.head())\n",
    "sources.info()"
   ]
  },
  {
   "cell_type": "markdown",
   "metadata": {},
   "source": [
    "Датасет sources содержит данные об источнике привлечения каждого пользователя:\n",
    "\n",
    "- userId - уникальный идентификатор пользователя, тип данных - object; \n",
    "- source - источник привлечения, тип данных - object.\n",
    "\n",
    "Всего файл содержит 4293 строки, источник указан для каждого пользователя - пропусков нет."
   ]
  },
  {
   "cell_type": "code",
   "execution_count": 50,
   "metadata": {},
   "outputs": [
    {
     "data": {
      "text/html": [
       "<div>\n",
       "<style scoped>\n",
       "    .dataframe tbody tr th:only-of-type {\n",
       "        vertical-align: middle;\n",
       "    }\n",
       "\n",
       "    .dataframe tbody tr th {\n",
       "        vertical-align: top;\n",
       "    }\n",
       "\n",
       "    .dataframe thead th {\n",
       "        text-align: right;\n",
       "    }\n",
       "</style>\n",
       "<table border=\"1\" class=\"dataframe\">\n",
       "  <thead>\n",
       "    <tr style=\"text-align: right;\">\n",
       "      <th></th>\n",
       "      <th>event.time</th>\n",
       "      <th>event.name</th>\n",
       "      <th>user.id</th>\n",
       "    </tr>\n",
       "  </thead>\n",
       "  <tbody>\n",
       "    <tr>\n",
       "      <th>0</th>\n",
       "      <td>2019-10-07 00:00:00.431357</td>\n",
       "      <td>advert_open</td>\n",
       "      <td>020292ab-89bc-4156-9acf-68bc2783f894</td>\n",
       "    </tr>\n",
       "    <tr>\n",
       "      <th>1</th>\n",
       "      <td>2019-10-07 00:00:01.236320</td>\n",
       "      <td>tips_show</td>\n",
       "      <td>020292ab-89bc-4156-9acf-68bc2783f894</td>\n",
       "    </tr>\n",
       "    <tr>\n",
       "      <th>2</th>\n",
       "      <td>2019-10-07 00:00:02.245341</td>\n",
       "      <td>tips_show</td>\n",
       "      <td>cf7eda61-9349-469f-ac27-e5b6f5ec475c</td>\n",
       "    </tr>\n",
       "    <tr>\n",
       "      <th>3</th>\n",
       "      <td>2019-10-07 00:00:07.039334</td>\n",
       "      <td>tips_show</td>\n",
       "      <td>020292ab-89bc-4156-9acf-68bc2783f894</td>\n",
       "    </tr>\n",
       "    <tr>\n",
       "      <th>4</th>\n",
       "      <td>2019-10-07 00:00:56.319813</td>\n",
       "      <td>advert_open</td>\n",
       "      <td>cf7eda61-9349-469f-ac27-e5b6f5ec475c</td>\n",
       "    </tr>\n",
       "  </tbody>\n",
       "</table>\n",
       "</div>"
      ],
      "text/plain": [
       "                   event.time   event.name  \\\n",
       "0  2019-10-07 00:00:00.431357  advert_open   \n",
       "1  2019-10-07 00:00:01.236320    tips_show   \n",
       "2  2019-10-07 00:00:02.245341    tips_show   \n",
       "3  2019-10-07 00:00:07.039334    tips_show   \n",
       "4  2019-10-07 00:00:56.319813  advert_open   \n",
       "\n",
       "                                user.id  \n",
       "0  020292ab-89bc-4156-9acf-68bc2783f894  \n",
       "1  020292ab-89bc-4156-9acf-68bc2783f894  \n",
       "2  cf7eda61-9349-469f-ac27-e5b6f5ec475c  \n",
       "3  020292ab-89bc-4156-9acf-68bc2783f894  \n",
       "4  cf7eda61-9349-469f-ac27-e5b6f5ec475c  "
      ]
     },
     "metadata": {},
     "output_type": "display_data"
    },
    {
     "name": "stdout",
     "output_type": "stream",
     "text": [
      "<class 'pandas.core.frame.DataFrame'>\n",
      "RangeIndex: 74197 entries, 0 to 74196\n",
      "Data columns (total 3 columns):\n",
      " #   Column      Non-Null Count  Dtype \n",
      "---  ------      --------------  ----- \n",
      " 0   event.time  74197 non-null  object\n",
      " 1   event.name  74197 non-null  object\n",
      " 2   user.id     74197 non-null  object\n",
      "dtypes: object(3)\n",
      "memory usage: 1.7+ MB\n"
     ]
    }
   ],
   "source": [
    "display (data.head())\n",
    "data.info()"
   ]
  },
  {
   "cell_type": "markdown",
   "metadata": {},
   "source": [
    "Датасет содержит следующие данные:\n",
    "\n",
    "- event.time - время и дата события, формат данных - object (необходимо привести к формату datetime);\n",
    "- event.name - название события, тип данных - object;\n",
    "- user.id - уникальный идентификатор пользователя, тип данных - object. \n",
    "\n",
    "Всего в датасете 74197 строк, пропусков нет."
   ]
  },
  {
   "cell_type": "markdown",
   "metadata": {},
   "source": [
    "Данные выгружены, перейдем к следующему этапу - предобработке данных."
   ]
  },
  {
   "cell_type": "markdown",
   "metadata": {},
   "source": [
    "##  Предобработка данных"
   ]
  },
  {
   "cell_type": "markdown",
   "metadata": {},
   "source": [
    "В рамках предобработки данных предпримем следующие шаги: \n",
    "\n",
    "- переименуем столбцы в обоих датасетах и приведем их к общепринятому стилю; \n",
    "- изменим тип данных в столбце event.time датасета data на datetime;\n",
    "- проверим оба датасета на наличие явных и неявных дубликатов; \n",
    "- объединим датасеты для удобства при решении задач исследования. \n",
    "\n",
    "На этапе выгрузки данных мы установили, что данные не содержат пропущенных значений, поэтому этап обработки пропусков опустим."
   ]
  },
  {
   "cell_type": "markdown",
   "metadata": {},
   "source": [
    "### Переименование столбцов"
   ]
  },
  {
   "cell_type": "code",
   "execution_count": 51,
   "metadata": {},
   "outputs": [],
   "source": [
    "sources.columns = ['user_id','source']\n",
    "data.columns = ['event_time', 'event_name', 'user_id']"
   ]
  },
  {
   "cell_type": "code",
   "execution_count": 52,
   "metadata": {},
   "outputs": [
    {
     "name": "stdout",
     "output_type": "stream",
     "text": [
      "<class 'pandas.core.frame.DataFrame'>\n",
      "RangeIndex: 4293 entries, 0 to 4292\n",
      "Data columns (total 2 columns):\n",
      " #   Column   Non-Null Count  Dtype \n",
      "---  ------   --------------  ----- \n",
      " 0   user_id  4293 non-null   object\n",
      " 1   source   4293 non-null   object\n",
      "dtypes: object(2)\n",
      "memory usage: 67.2+ KB\n",
      "\n",
      "<class 'pandas.core.frame.DataFrame'>\n",
      "RangeIndex: 74197 entries, 0 to 74196\n",
      "Data columns (total 3 columns):\n",
      " #   Column      Non-Null Count  Dtype \n",
      "---  ------      --------------  ----- \n",
      " 0   event_time  74197 non-null  object\n",
      " 1   event_name  74197 non-null  object\n",
      " 2   user_id     74197 non-null  object\n",
      "dtypes: object(3)\n",
      "memory usage: 1.7+ MB\n"
     ]
    }
   ],
   "source": [
    "#убедимся, что переименование столбцов сработало корректно\n",
    "\n",
    "sources.info()\n",
    "print()\n",
    "data.info()"
   ]
  },
  {
   "cell_type": "markdown",
   "metadata": {},
   "source": [
    "### Замена типов данных"
   ]
  },
  {
   "cell_type": "code",
   "execution_count": 53,
   "metadata": {},
   "outputs": [],
   "source": [
    "data['event_time'] = pd.to_datetime(data['event_time'])"
   ]
  },
  {
   "cell_type": "markdown",
   "metadata": {},
   "source": [
    "Сохраним дату события в отдельном столбце date."
   ]
  },
  {
   "cell_type": "code",
   "execution_count": 54,
   "metadata": {},
   "outputs": [],
   "source": [
    "data['date'] = pd.to_datetime(data['event_time'].apply(lambda x: x.date()))"
   ]
  },
  {
   "cell_type": "code",
   "execution_count": 55,
   "metadata": {
    "scrolled": true
   },
   "outputs": [
    {
     "name": "stdout",
     "output_type": "stream",
     "text": [
      "<class 'pandas.core.frame.DataFrame'>\n",
      "RangeIndex: 74197 entries, 0 to 74196\n",
      "Data columns (total 4 columns):\n",
      " #   Column      Non-Null Count  Dtype         \n",
      "---  ------      --------------  -----         \n",
      " 0   event_time  74197 non-null  datetime64[ns]\n",
      " 1   event_name  74197 non-null  object        \n",
      " 2   user_id     74197 non-null  object        \n",
      " 3   date        74197 non-null  datetime64[ns]\n",
      "dtypes: datetime64[ns](2), object(2)\n",
      "memory usage: 2.3+ MB\n"
     ]
    }
   ],
   "source": [
    "#убедимся, что тип данных изменен\n",
    "data.info()"
   ]
  },
  {
   "cell_type": "markdown",
   "metadata": {},
   "source": [
    "### Обработка дубликатов"
   ]
  },
  {
   "cell_type": "markdown",
   "metadata": {},
   "source": [
    "Проверим, содержат ли датасеты явные дубликаты."
   ]
  },
  {
   "cell_type": "code",
   "execution_count": 56,
   "metadata": {},
   "outputs": [
    {
     "name": "stdout",
     "output_type": "stream",
     "text": [
      "Количество явных дубликатов в data: 0\n",
      "Количество неявных дубликатов в sources: 0\n"
     ]
    }
   ],
   "source": [
    "print ('Количество явных дубликатов в data:', data.duplicated().sum())\n",
    "print ('Количество неявных дубликатов в sources:', sources.duplicated().sum())"
   ]
  },
  {
   "cell_type": "markdown",
   "metadata": {},
   "source": [
    "Убедимся, что в sources не дублируются названия источников и идентификаторы пользователей."
   ]
  },
  {
   "cell_type": "code",
   "execution_count": 57,
   "metadata": {},
   "outputs": [
    {
     "name": "stdout",
     "output_type": "stream",
     "text": [
      "Уникальные названия источников: ['other' 'yandex' 'google']\n",
      "4293\n"
     ]
    }
   ],
   "source": [
    "print('Уникальные названия источников:',sources['source'].unique())\n",
    "print(len(sources['user_id'].unique()))"
   ]
  },
  {
   "cell_type": "markdown",
   "metadata": {},
   "source": [
    "Количество уникальных пользователей совпадает с количеством строк в датасете, а названия источников перехода не дублируют друг друга. Датасет не содержит дубликатов."
   ]
  },
  {
   "cell_type": "markdown",
   "metadata": {},
   "source": [
    "Проверим, есть ли неявные дубликаты в data."
   ]
  },
  {
   "cell_type": "code",
   "execution_count": 58,
   "metadata": {},
   "outputs": [
    {
     "name": "stdout",
     "output_type": "stream",
     "text": [
      "Уникальные названия событий: ['advert_open' 'tips_show' 'map' 'contacts_show' 'search_4' 'search_5'\n",
      " 'tips_click' 'photos_show' 'search_1' 'search_2' 'search_3'\n",
      " 'favorites_add' 'contacts_call' 'search_6' 'search_7' 'show_contacts']\n"
     ]
    }
   ],
   "source": [
    "print('Уникальные названия событий:', data['event_name'].unique())"
   ]
  },
  {
   "cell_type": "markdown",
   "metadata": {},
   "source": [
    "Названия событий 'contacts_show' и 'show_contacts' дублируют друг друга, приведем их к единому значению и проведем повторную проверку на наличие дубликатов."
   ]
  },
  {
   "cell_type": "code",
   "execution_count": 59,
   "metadata": {},
   "outputs": [
    {
     "name": "stdout",
     "output_type": "stream",
     "text": [
      "Количество дубликатов: 0\n"
     ]
    }
   ],
   "source": [
    "data['event_name'] = data['event_name'].replace(['show_contacts'],'contacts_show')\n",
    "print('Количество дубликатов:',data.duplicated().sum())"
   ]
  },
  {
   "cell_type": "markdown",
   "metadata": {},
   "source": [
    "Названия событий 'search_4', 'search_5','search_1' ... обозначают различные варианты обращения к поисковой строке. Однако для целей нашего исследования будет удобнее объединить эти события под одним названием 'search'. Создадим столбец event_name_short, где сохраним упрощенные названия событий без подвидов события search. "
   ]
  },
  {
   "cell_type": "code",
   "execution_count": 60,
   "metadata": {
    "scrolled": true
   },
   "outputs": [],
   "source": [
    "#%%time\n",
    "\n",
    "#for i in range(0,len(data)):\n",
    "    #if 'search' in data.loc[i,'event_name']:\n",
    "        #data.loc[i,'event_name_short'] = 'search'\n",
    "    #else:\n",
    "        #data.loc[i,'event_name_short'] = data.loc[i,'event_name']\n",
    "#data['event_name_short'].unique()"
   ]
  },
  {
   "cell_type": "code",
   "execution_count": 61,
   "metadata": {},
   "outputs": [
    {
     "name": "stdout",
     "output_type": "stream",
     "text": [
      "CPU times: user 47.6 ms, sys: 4.26 ms, total: 51.9 ms\n",
      "Wall time: 50.2 ms\n"
     ]
    },
    {
     "data": {
      "text/plain": [
       "array(['advert_open', 'tips_show', 'map', 'contacts_show', 'search',\n",
       "       'tips_click', 'photos_show', 'favorites_add', 'contacts_call'],\n",
       "      dtype=object)"
      ]
     },
     "execution_count": 61,
     "metadata": {},
     "output_type": "execute_result"
    }
   ],
   "source": [
    "%%time\n",
    "data['event_name_short'] = data['event_name']\n",
    "search_events = data.query('event_name_short.str.contains(\"search\")')['event_name_short'].unique()\n",
    "data['event_name_short'] = data['event_name_short'].replace(search_events,'search')\n",
    "data['event_name_short'].unique()"
   ]
  },
  {
   "cell_type": "code",
   "execution_count": 62,
   "metadata": {
    "scrolled": true
   },
   "outputs": [
    {
     "name": "stdout",
     "output_type": "stream",
     "text": [
      "Количество уникальных пользователей в датасете data: 4293\n"
     ]
    }
   ],
   "source": [
    "print ('Количество уникальных пользователей в датасете data:',len(data['user_id'].unique()))"
   ]
  },
  {
   "cell_type": "code",
   "execution_count": 63,
   "metadata": {},
   "outputs": [
    {
     "name": "stdout",
     "output_type": "stream",
     "text": [
      "Количество дубликатов в срезе по id пользователя и времени события: 0\n"
     ]
    }
   ],
   "source": [
    "print('Количество дубликатов в срезе по id пользователя и времени события:',data.loc[:,['event_time','user_id']].duplicated().sum())"
   ]
  },
  {
   "cell_type": "markdown",
   "metadata": {},
   "source": [
    "### Объединение датасетов"
   ]
  },
  {
   "cell_type": "code",
   "execution_count": 64,
   "metadata": {},
   "outputs": [],
   "source": [
    "data_combined = data.merge(sources, on='user_id', how='left')"
   ]
  },
  {
   "cell_type": "code",
   "execution_count": 65,
   "metadata": {},
   "outputs": [
    {
     "name": "stdout",
     "output_type": "stream",
     "text": [
      "<class 'pandas.core.frame.DataFrame'>\n",
      "Int64Index: 74197 entries, 0 to 74196\n",
      "Data columns (total 6 columns):\n",
      " #   Column            Non-Null Count  Dtype         \n",
      "---  ------            --------------  -----         \n",
      " 0   event_time        74197 non-null  datetime64[ns]\n",
      " 1   event_name        74197 non-null  object        \n",
      " 2   user_id           74197 non-null  object        \n",
      " 3   date              74197 non-null  datetime64[ns]\n",
      " 4   event_name_short  74197 non-null  object        \n",
      " 5   source            74197 non-null  object        \n",
      "dtypes: datetime64[ns](2), object(4)\n",
      "memory usage: 4.0+ MB\n"
     ]
    },
    {
     "data": {
      "text/html": [
       "<div>\n",
       "<style scoped>\n",
       "    .dataframe tbody tr th:only-of-type {\n",
       "        vertical-align: middle;\n",
       "    }\n",
       "\n",
       "    .dataframe tbody tr th {\n",
       "        vertical-align: top;\n",
       "    }\n",
       "\n",
       "    .dataframe thead th {\n",
       "        text-align: right;\n",
       "    }\n",
       "</style>\n",
       "<table border=\"1\" class=\"dataframe\">\n",
       "  <thead>\n",
       "    <tr style=\"text-align: right;\">\n",
       "      <th></th>\n",
       "      <th>event_time</th>\n",
       "      <th>event_name</th>\n",
       "      <th>user_id</th>\n",
       "      <th>date</th>\n",
       "      <th>event_name_short</th>\n",
       "      <th>source</th>\n",
       "    </tr>\n",
       "  </thead>\n",
       "  <tbody>\n",
       "    <tr>\n",
       "      <th>0</th>\n",
       "      <td>2019-10-07 00:00:00.431357</td>\n",
       "      <td>advert_open</td>\n",
       "      <td>020292ab-89bc-4156-9acf-68bc2783f894</td>\n",
       "      <td>2019-10-07</td>\n",
       "      <td>advert_open</td>\n",
       "      <td>other</td>\n",
       "    </tr>\n",
       "    <tr>\n",
       "      <th>1</th>\n",
       "      <td>2019-10-07 00:00:01.236320</td>\n",
       "      <td>tips_show</td>\n",
       "      <td>020292ab-89bc-4156-9acf-68bc2783f894</td>\n",
       "      <td>2019-10-07</td>\n",
       "      <td>tips_show</td>\n",
       "      <td>other</td>\n",
       "    </tr>\n",
       "    <tr>\n",
       "      <th>2</th>\n",
       "      <td>2019-10-07 00:00:02.245341</td>\n",
       "      <td>tips_show</td>\n",
       "      <td>cf7eda61-9349-469f-ac27-e5b6f5ec475c</td>\n",
       "      <td>2019-10-07</td>\n",
       "      <td>tips_show</td>\n",
       "      <td>yandex</td>\n",
       "    </tr>\n",
       "    <tr>\n",
       "      <th>3</th>\n",
       "      <td>2019-10-07 00:00:07.039334</td>\n",
       "      <td>tips_show</td>\n",
       "      <td>020292ab-89bc-4156-9acf-68bc2783f894</td>\n",
       "      <td>2019-10-07</td>\n",
       "      <td>tips_show</td>\n",
       "      <td>other</td>\n",
       "    </tr>\n",
       "    <tr>\n",
       "      <th>4</th>\n",
       "      <td>2019-10-07 00:00:56.319813</td>\n",
       "      <td>advert_open</td>\n",
       "      <td>cf7eda61-9349-469f-ac27-e5b6f5ec475c</td>\n",
       "      <td>2019-10-07</td>\n",
       "      <td>advert_open</td>\n",
       "      <td>yandex</td>\n",
       "    </tr>\n",
       "  </tbody>\n",
       "</table>\n",
       "</div>"
      ],
      "text/plain": [
       "                  event_time   event_name  \\\n",
       "0 2019-10-07 00:00:00.431357  advert_open   \n",
       "1 2019-10-07 00:00:01.236320    tips_show   \n",
       "2 2019-10-07 00:00:02.245341    tips_show   \n",
       "3 2019-10-07 00:00:07.039334    tips_show   \n",
       "4 2019-10-07 00:00:56.319813  advert_open   \n",
       "\n",
       "                                user_id       date event_name_short  source  \n",
       "0  020292ab-89bc-4156-9acf-68bc2783f894 2019-10-07      advert_open   other  \n",
       "1  020292ab-89bc-4156-9acf-68bc2783f894 2019-10-07        tips_show   other  \n",
       "2  cf7eda61-9349-469f-ac27-e5b6f5ec475c 2019-10-07        tips_show  yandex  \n",
       "3  020292ab-89bc-4156-9acf-68bc2783f894 2019-10-07        tips_show   other  \n",
       "4  cf7eda61-9349-469f-ac27-e5b6f5ec475c 2019-10-07      advert_open  yandex  "
      ]
     },
     "execution_count": 65,
     "metadata": {},
     "output_type": "execute_result"
    }
   ],
   "source": [
    "data_combined.info()\n",
    "data_combined.head()"
   ]
  },
  {
   "cell_type": "markdown",
   "metadata": {},
   "source": [
    "В рамках предобработки данных мы:\n",
    "\n",
    "- переименовали столбцы, \n",
    "- заменили тип данных в столбце event_time на datetime,\n",
    "- убедились, что данные не содержат явных и неявных дубликатов,\n",
    "- объединили данные в датасет data_combined.\n",
    "\n",
    "Данные готовы к дальнейшему анализу."
   ]
  },
  {
   "cell_type": "markdown",
   "metadata": {},
   "source": [
    "## Исследовательский анализ данных"
   ]
  },
  {
   "cell_type": "markdown",
   "metadata": {},
   "source": [
    "Цели на этапе исследовательского анализа данных:\n",
    "\n",
    "- Изучить распределение количества событий на пользователя \n",
    "- Изучить период, за который предоставлены данные. Изучить распределение количества в событий в зависимости от времени \n",
    "- Выделить сессии на основе тайм-аутов сессий. Изучить параметры сессий (средняя продолжительность, среднее количество событий за время сессии)\n",
    "- Рассчитать и изучить показатели DAU и WAU"
   ]
  },
  {
   "cell_type": "markdown",
   "metadata": {},
   "source": [
    "### Распределение количества событий на пользователя"
   ]
  },
  {
   "cell_type": "markdown",
   "metadata": {},
   "source": [
    "Изучим, как распределено количество событий на одного пользователя."
   ]
  },
  {
   "cell_type": "code",
   "execution_count": 66,
   "metadata": {
    "scrolled": false
   },
   "outputs": [
    {
     "data": {
      "image/png": "[encoded data removed]",
      "text/plain": [
       "<Figure size 640x480 with 1 Axes>"
      ]
     },
     "metadata": {},
     "output_type": "display_data"
    }
   ],
   "source": [
    "plt.style.use('ggplot')\n",
    "events_by_user = data.groupby('user_id', as_index=False).agg({'event_name':'count'})\n",
    "\n",
    "sns.histplot(events_by_user)\n",
    "plt.title('Распределение количества событий на пользователя')\n",
    "plt.xlabel('Количество событий')\n",
    "plt.ylabel('Количество пользователей')\n",
    "plt.show()"
   ]
  },
  {
   "cell_type": "markdown",
   "metadata": {},
   "source": [
    "На графике видим, что подавляющее большинство пользователей совершили в пределах 100 событий, а пользоваталей, совершивших более 200 событий - единицы. Изучим статистические характеристики распределения."
   ]
  },
  {
   "cell_type": "code",
   "execution_count": 67,
   "metadata": {},
   "outputs": [
    {
     "data": {
      "text/html": [
       "<div>\n",
       "<style scoped>\n",
       "    .dataframe tbody tr th:only-of-type {\n",
       "        vertical-align: middle;\n",
       "    }\n",
       "\n",
       "    .dataframe tbody tr th {\n",
       "        vertical-align: top;\n",
       "    }\n",
       "\n",
       "    .dataframe thead th {\n",
       "        text-align: right;\n",
       "    }\n",
       "</style>\n",
       "<table border=\"1\" class=\"dataframe\">\n",
       "  <thead>\n",
       "    <tr style=\"text-align: right;\">\n",
       "      <th></th>\n",
       "      <th>event_name</th>\n",
       "    </tr>\n",
       "  </thead>\n",
       "  <tbody>\n",
       "    <tr>\n",
       "      <th>count</th>\n",
       "      <td>4293.000000</td>\n",
       "    </tr>\n",
       "    <tr>\n",
       "      <th>mean</th>\n",
       "      <td>17.283252</td>\n",
       "    </tr>\n",
       "    <tr>\n",
       "      <th>std</th>\n",
       "      <td>29.130677</td>\n",
       "    </tr>\n",
       "    <tr>\n",
       "      <th>min</th>\n",
       "      <td>1.000000</td>\n",
       "    </tr>\n",
       "    <tr>\n",
       "      <th>25%</th>\n",
       "      <td>5.000000</td>\n",
       "    </tr>\n",
       "    <tr>\n",
       "      <th>50%</th>\n",
       "      <td>9.000000</td>\n",
       "    </tr>\n",
       "    <tr>\n",
       "      <th>75%</th>\n",
       "      <td>17.000000</td>\n",
       "    </tr>\n",
       "    <tr>\n",
       "      <th>max</th>\n",
       "      <td>478.000000</td>\n",
       "    </tr>\n",
       "  </tbody>\n",
       "</table>\n",
       "</div>"
      ],
      "text/plain": [
       "        event_name\n",
       "count  4293.000000\n",
       "mean     17.283252\n",
       "std      29.130677\n",
       "min       1.000000\n",
       "25%       5.000000\n",
       "50%       9.000000\n",
       "75%      17.000000\n",
       "max     478.000000"
      ]
     },
     "metadata": {},
     "output_type": "display_data"
    },
    {
     "name": "stdout",
     "output_type": "stream",
     "text": [
      "Значение 95го перцентиля: 59.0\n",
      "Значение 99го перцентиля: 132.0\n"
     ]
    }
   ],
   "source": [
    "display(events_by_user.describe())\n",
    "print('Значение 95го перцентиля:',np.percentile(events_by_user['event_name'], 95))\n",
    "print('Значение 99го перцентиля:',np.percentile(events_by_user['event_name'], 99))"
   ]
  },
  {
   "cell_type": "markdown",
   "metadata": {},
   "source": [
    "Медианное значение количества совершенных событий на пользователя - 9, а на среднее значение (17) влияют выбросы: так, 99% пользователей совершали не более 132 событий, а максимальное значение при этом - 478. Сохраним список пользователей со значениями свыше 130 в отдельную переменную и построим гисторграмму распределения без учета этих пользователей."
   ]
  },
  {
   "cell_type": "code",
   "execution_count": 68,
   "metadata": {},
   "outputs": [],
   "source": [
    "events_by_user_limit = np.percentile(events_by_user['event_name'], 99)\n",
    "\n",
    "too_active_users = list(events_by_user.query('event_name > @events_by_user_limit')['user_id'])"
   ]
  },
  {
   "cell_type": "code",
   "execution_count": 69,
   "metadata": {
    "scrolled": false
   },
   "outputs": [
    {
     "data": {
      "image/png": "[encoded data removed]",
      "text/plain": [
       "<Figure size 640x480 with 1 Axes>"
      ]
     },
     "metadata": {},
     "output_type": "display_data"
    }
   ],
   "source": [
    "sns.histplot(events_by_user.query('user_id not in @too_active_users'))\n",
    "plt.title('Распределение количества событий на пользователя')\n",
    "plt.xlabel('Количество событий')\n",
    "plt.ylabel('Количество пользователей')\n",
    "plt.show()"
   ]
  },
  {
   "cell_type": "markdown",
   "metadata": {},
   "source": [
    "### Распределение событий во времени"
   ]
  },
  {
   "cell_type": "code",
   "execution_count": 70,
   "metadata": {
    "scrolled": true
   },
   "outputs": [
    {
     "name": "stdout",
     "output_type": "stream",
     "text": [
      "Начало изучаемого периода: 2019-10-07 00:00:00.431357\n",
      "Конец изучаемого периода: 2019-11-03 23:58:12.532487\n",
      "Количество дней висследуемом периоде: 27\n",
      "Среднее количество событий в день: 2650\n"
     ]
    }
   ],
   "source": [
    "print ('Начало изучаемого периода:', data['event_time'].min())\n",
    "print ('Конец изучаемого периода:', data['event_time'].max())\n",
    "print('Количество дней висследуемом периоде:', (data['event_time'].max()-data['event_time'].min()).days)\n",
    "print('Среднее количество событий в день:', round(data['event_name'].count()/len(data['date'].unique())))"
   ]
  },
  {
   "cell_type": "code",
   "execution_count": 71,
   "metadata": {},
   "outputs": [],
   "source": [
    "plt.style.use('ggplot')"
   ]
  },
  {
   "cell_type": "code",
   "execution_count": 72,
   "metadata": {},
   "outputs": [
    {
     "data": {
      "image/png": "[encoded data removed]",
      "text/plain": [
       "<Figure size 1000x400 with 1 Axes>"
      ]
     },
     "metadata": {},
     "output_type": "display_data"
    }
   ],
   "source": [
    "plt.figure(figsize=(10, 4))\n",
    "ax = sns.lineplot(data=data.groupby('date',as_index=False).agg({'event_name':'count'})\n",
    "                 , x=\"date\", y='event_name')\n",
    "\n",
    "plt.title('Количество событий по дням')\n",
    "plt.xlabel('Дата')\n",
    "plt.ylabel('Количество событий')\n",
    "\n",
    "\n",
    "plt.xticks(rotation=90)\n",
    "ax.xaxis.set_major_locator(mdates.DayLocator(interval=1))\n",
    "\n",
    "plt.axhline(y = round(data['event_name'].count()/len(data['date'].unique())), color = 'b', linestyle = '--',label = \"среднее кол-во событий в день\") \n",
    "plt.legend(bbox_to_anchor = (1.0, 1.15), loc = 'upper center') \n",
    "plt.show()\n"
   ]
  },
  {
   "cell_type": "markdown",
   "metadata": {},
   "source": [
    "В исследуемый период (с  7 октября по 3 ноября 2019 г. включительно) пользователи совершали в среднем 2650 событий в день. Наименьшая активность наблюдалась 12 октября - 1843 события. При этом спады также наблюдались 20 октября и 2 ноября. Эти даты приходились на выходные дни (субботу или воскресенье) - возможно, на выходных пользователи реже проводят время за просмотром объявлений. Максимально количество событий было совершено 23 октября - 3361."
   ]
  },
  {
   "cell_type": "markdown",
   "metadata": {},
   "source": [
    "### Выделение пользовательских сессий "
   ]
  },
  {
   "cell_type": "markdown",
   "metadata": {},
   "source": [
    "Для разбивки событий по сессиям необходимо определить временные границы сессий. Отсортируем data по id пользователя и времени события, добавим столбец time_gap с указанием временного промежутка, прошедшего с предыдущего события. Изучим распределение значений time_gap."
   ]
  },
  {
   "cell_type": "code",
   "execution_count": 73,
   "metadata": {},
   "outputs": [],
   "source": [
    "data = data.sort_values(by=['user_id','event_time']).reset_index(drop=True)"
   ]
  },
  {
   "cell_type": "code",
   "execution_count": 74,
   "metadata": {},
   "outputs": [
    {
     "data": {
      "text/html": [
       "<div>\n",
       "<style scoped>\n",
       "    .dataframe tbody tr th:only-of-type {\n",
       "        vertical-align: middle;\n",
       "    }\n",
       "\n",
       "    .dataframe tbody tr th {\n",
       "        vertical-align: top;\n",
       "    }\n",
       "\n",
       "    .dataframe thead th {\n",
       "        text-align: right;\n",
       "    }\n",
       "</style>\n",
       "<table border=\"1\" class=\"dataframe\">\n",
       "  <thead>\n",
       "    <tr style=\"text-align: right;\">\n",
       "      <th></th>\n",
       "      <th>event_time</th>\n",
       "      <th>event_name</th>\n",
       "      <th>user_id</th>\n",
       "      <th>date</th>\n",
       "      <th>event_name_short</th>\n",
       "      <th>time_gap</th>\n",
       "    </tr>\n",
       "  </thead>\n",
       "  <tbody>\n",
       "    <tr>\n",
       "      <th>0</th>\n",
       "      <td>2019-10-07 13:39:45.989359</td>\n",
       "      <td>tips_show</td>\n",
       "      <td>0001b1d5-b74a-4cbf-aeb0-7df5947bf349</td>\n",
       "      <td>2019-10-07</td>\n",
       "      <td>tips_show</td>\n",
       "      <td>0.0</td>\n",
       "    </tr>\n",
       "    <tr>\n",
       "      <th>1</th>\n",
       "      <td>2019-10-07 13:40:31.052909</td>\n",
       "      <td>tips_show</td>\n",
       "      <td>0001b1d5-b74a-4cbf-aeb0-7df5947bf349</td>\n",
       "      <td>2019-10-07</td>\n",
       "      <td>tips_show</td>\n",
       "      <td>45.0</td>\n",
       "    </tr>\n",
       "    <tr>\n",
       "      <th>2</th>\n",
       "      <td>2019-10-07 13:41:05.722489</td>\n",
       "      <td>tips_show</td>\n",
       "      <td>0001b1d5-b74a-4cbf-aeb0-7df5947bf349</td>\n",
       "      <td>2019-10-07</td>\n",
       "      <td>tips_show</td>\n",
       "      <td>34.0</td>\n",
       "    </tr>\n",
       "    <tr>\n",
       "      <th>3</th>\n",
       "      <td>2019-10-07 13:43:20.735461</td>\n",
       "      <td>tips_show</td>\n",
       "      <td>0001b1d5-b74a-4cbf-aeb0-7df5947bf349</td>\n",
       "      <td>2019-10-07</td>\n",
       "      <td>tips_show</td>\n",
       "      <td>135.0</td>\n",
       "    </tr>\n",
       "    <tr>\n",
       "      <th>4</th>\n",
       "      <td>2019-10-07 13:45:30.917502</td>\n",
       "      <td>tips_show</td>\n",
       "      <td>0001b1d5-b74a-4cbf-aeb0-7df5947bf349</td>\n",
       "      <td>2019-10-07</td>\n",
       "      <td>tips_show</td>\n",
       "      <td>130.0</td>\n",
       "    </tr>\n",
       "  </tbody>\n",
       "</table>\n",
       "</div>"
      ],
      "text/plain": [
       "                  event_time event_name                               user_id  \\\n",
       "0 2019-10-07 13:39:45.989359  tips_show  0001b1d5-b74a-4cbf-aeb0-7df5947bf349   \n",
       "1 2019-10-07 13:40:31.052909  tips_show  0001b1d5-b74a-4cbf-aeb0-7df5947bf349   \n",
       "2 2019-10-07 13:41:05.722489  tips_show  0001b1d5-b74a-4cbf-aeb0-7df5947bf349   \n",
       "3 2019-10-07 13:43:20.735461  tips_show  0001b1d5-b74a-4cbf-aeb0-7df5947bf349   \n",
       "4 2019-10-07 13:45:30.917502  tips_show  0001b1d5-b74a-4cbf-aeb0-7df5947bf349   \n",
       "\n",
       "        date event_name_short  time_gap  \n",
       "0 2019-10-07        tips_show       0.0  \n",
       "1 2019-10-07        tips_show      45.0  \n",
       "2 2019-10-07        tips_show      34.0  \n",
       "3 2019-10-07        tips_show     135.0  \n",
       "4 2019-10-07        tips_show     130.0  "
      ]
     },
     "execution_count": 74,
     "metadata": {},
     "output_type": "execute_result"
    }
   ],
   "source": [
    "data['time_gap'] = data.groupby('user_id')['event_time'].diff().apply(lambda x: x.seconds).fillna(0)\n",
    "\n",
    "data.head()"
   ]
  },
  {
   "cell_type": "code",
   "execution_count": 75,
   "metadata": {},
   "outputs": [
    {
     "data": {
      "text/plain": [
       "count    74197.000000\n",
       "mean      2759.093252\n",
       "std      12239.333032\n",
       "min          0.000000\n",
       "25%         16.000000\n",
       "50%         63.000000\n",
       "75%        167.000000\n",
       "max      86383.000000\n",
       "Name: time_gap, dtype: float64"
      ]
     },
     "execution_count": 75,
     "metadata": {},
     "output_type": "execute_result"
    }
   ],
   "source": [
    "data['time_gap'].describe()"
   ]
  },
  {
   "cell_type": "markdown",
   "metadata": {},
   "source": [
    "Медианное значение временного интервала между событиями - чуть больше минуты (78 секунд). Однако разбег данных очень большой - максимальное значение составляет 86399 секунд, или сутки. Посмотрим на гистограмму распределения, чтобы определить границы нормальных значений для интервалов между событиями в рамках одной сессии."
   ]
  },
  {
   "cell_type": "code",
   "execution_count": 76,
   "metadata": {},
   "outputs": [
    {
     "data": {
      "image/png": "[encoded data removed]",
      "text/plain": [
       "<Figure size 640x480 with 1 Axes>"
      ]
     },
     "metadata": {},
     "output_type": "display_data"
    }
   ],
   "source": [
    "sns.histplot(data['time_gap'])\n",
    "plt.title ('Распределение временных интервалов между соседними событиями одного пользователя')\n",
    "plt.xlabel('Временной интервал, с')\n",
    "plt.ylabel('Число значений')\n",
    "plt.show()"
   ]
  },
  {
   "cell_type": "markdown",
   "metadata": {},
   "source": [
    "Для большей наглядности построим гистограмму только для значений не более 2500 секунд."
   ]
  },
  {
   "cell_type": "code",
   "execution_count": 77,
   "metadata": {},
   "outputs": [
    {
     "data": {
      "image/png": "[encoded data removed]",
      "text/plain": [
       "<Figure size 640x480 with 1 Axes>"
      ]
     },
     "metadata": {},
     "output_type": "display_data"
    }
   ],
   "source": [
    "sns.histplot(data.query('time_gap<=2500')['time_gap'],bins = 15)\n",
    "plt.title ('Распределение временных интервалов между соседними событиями одного пользователя')\n",
    "plt.xlabel('Временной интервал, с')\n",
    "plt.ylabel('Число значений')\n",
    "plt.show()"
   ]
  },
  {
   "cell_type": "code",
   "execution_count": 78,
   "metadata": {
    "scrolled": true
   },
   "outputs": [
    {
     "name": "stdout",
     "output_type": "stream",
     "text": [
      "Значение 80го перцентиля: 223.0\n",
      "Значение 85го перцентиля: 339.0\n",
      "Значение 90го перцентиля: 820.4000000000087\n",
      "Значение 95го перцентиля: 10937.39999999995\n",
      "Значение 99го перцентиля: 76652.04\n"
     ]
    }
   ],
   "source": [
    "print('Значение 80го перцентиля:',np.percentile(data['time_gap'], 80))\n",
    "print('Значение 85го перцентиля:',np.percentile(data['time_gap'], 85))\n",
    "print('Значение 90го перцентиля:',np.percentile(data['time_gap'], 90))\n",
    "print('Значение 95го перцентиля:',np.percentile(data['time_gap'], 95))\n",
    "print('Значение 99го перцентиля:',np.percentile(data['time_gap'], 99))"
   ]
  },
  {
   "cell_type": "markdown",
   "metadata": {},
   "source": [
    "После 85 перцентиля значения начинают резко увеличиваться. Выберем 85% распределения в качестве верхней границы временного интервала между событиями одной сессии."
   ]
  },
  {
   "cell_type": "markdown",
   "metadata": {},
   "source": [
    "Добавим идентификаторы сессий session_id."
   ]
  },
  {
   "cell_type": "code",
   "execution_count": 79,
   "metadata": {},
   "outputs": [
    {
     "data": {
      "text/html": [
       "<div>\n",
       "<style scoped>\n",
       "    .dataframe tbody tr th:only-of-type {\n",
       "        vertical-align: middle;\n",
       "    }\n",
       "\n",
       "    .dataframe tbody tr th {\n",
       "        vertical-align: top;\n",
       "    }\n",
       "\n",
       "    .dataframe thead th {\n",
       "        text-align: right;\n",
       "    }\n",
       "</style>\n",
       "<table border=\"1\" class=\"dataframe\">\n",
       "  <thead>\n",
       "    <tr style=\"text-align: right;\">\n",
       "      <th></th>\n",
       "      <th>event_time</th>\n",
       "      <th>event_name</th>\n",
       "      <th>user_id</th>\n",
       "      <th>date</th>\n",
       "      <th>event_name_short</th>\n",
       "      <th>time_gap</th>\n",
       "      <th>session_id</th>\n",
       "    </tr>\n",
       "  </thead>\n",
       "  <tbody>\n",
       "    <tr>\n",
       "      <th>0</th>\n",
       "      <td>2019-10-07 13:39:45.989359</td>\n",
       "      <td>tips_show</td>\n",
       "      <td>0001b1d5-b74a-4cbf-aeb0-7df5947bf349</td>\n",
       "      <td>2019-10-07</td>\n",
       "      <td>tips_show</td>\n",
       "      <td>0.0</td>\n",
       "      <td>1</td>\n",
       "    </tr>\n",
       "    <tr>\n",
       "      <th>1</th>\n",
       "      <td>2019-10-07 13:40:31.052909</td>\n",
       "      <td>tips_show</td>\n",
       "      <td>0001b1d5-b74a-4cbf-aeb0-7df5947bf349</td>\n",
       "      <td>2019-10-07</td>\n",
       "      <td>tips_show</td>\n",
       "      <td>45.0</td>\n",
       "      <td>1</td>\n",
       "    </tr>\n",
       "    <tr>\n",
       "      <th>2</th>\n",
       "      <td>2019-10-07 13:41:05.722489</td>\n",
       "      <td>tips_show</td>\n",
       "      <td>0001b1d5-b74a-4cbf-aeb0-7df5947bf349</td>\n",
       "      <td>2019-10-07</td>\n",
       "      <td>tips_show</td>\n",
       "      <td>34.0</td>\n",
       "      <td>1</td>\n",
       "    </tr>\n",
       "    <tr>\n",
       "      <th>3</th>\n",
       "      <td>2019-10-07 13:43:20.735461</td>\n",
       "      <td>tips_show</td>\n",
       "      <td>0001b1d5-b74a-4cbf-aeb0-7df5947bf349</td>\n",
       "      <td>2019-10-07</td>\n",
       "      <td>tips_show</td>\n",
       "      <td>135.0</td>\n",
       "      <td>1</td>\n",
       "    </tr>\n",
       "    <tr>\n",
       "      <th>4</th>\n",
       "      <td>2019-10-07 13:45:30.917502</td>\n",
       "      <td>tips_show</td>\n",
       "      <td>0001b1d5-b74a-4cbf-aeb0-7df5947bf349</td>\n",
       "      <td>2019-10-07</td>\n",
       "      <td>tips_show</td>\n",
       "      <td>130.0</td>\n",
       "      <td>1</td>\n",
       "    </tr>\n",
       "  </tbody>\n",
       "</table>\n",
       "</div>"
      ],
      "text/plain": [
       "                  event_time event_name                               user_id  \\\n",
       "0 2019-10-07 13:39:45.989359  tips_show  0001b1d5-b74a-4cbf-aeb0-7df5947bf349   \n",
       "1 2019-10-07 13:40:31.052909  tips_show  0001b1d5-b74a-4cbf-aeb0-7df5947bf349   \n",
       "2 2019-10-07 13:41:05.722489  tips_show  0001b1d5-b74a-4cbf-aeb0-7df5947bf349   \n",
       "3 2019-10-07 13:43:20.735461  tips_show  0001b1d5-b74a-4cbf-aeb0-7df5947bf349   \n",
       "4 2019-10-07 13:45:30.917502  tips_show  0001b1d5-b74a-4cbf-aeb0-7df5947bf349   \n",
       "\n",
       "        date event_name_short  time_gap  session_id  \n",
       "0 2019-10-07        tips_show       0.0           1  \n",
       "1 2019-10-07        tips_show      45.0           1  \n",
       "2 2019-10-07        tips_show      34.0           1  \n",
       "3 2019-10-07        tips_show     135.0           1  \n",
       "4 2019-10-07        tips_show     130.0           1  "
      ]
     },
     "execution_count": 79,
     "metadata": {},
     "output_type": "execute_result"
    }
   ],
   "source": [
    "events_interval_limit = np.percentile(data['time_gap'], 85)\n",
    "g = (data.groupby('user_id')['event_time'].diff() > pd.Timedelta(f'{events_interval_limit }Sec')).cumsum()\n",
    "\n",
    "data['session_id'] = data.groupby(['user_id', g], sort=False).ngroup() + 1\n",
    "data.head()"
   ]
  },
  {
   "cell_type": "markdown",
   "metadata": {},
   "source": [
    "Сохраним данные о пользовательских сессиях в переменную session_data."
   ]
  },
  {
   "cell_type": "code",
   "execution_count": 80,
   "metadata": {
    "scrolled": false
   },
   "outputs": [
    {
     "data": {
      "text/html": [
       "<div>\n",
       "<style scoped>\n",
       "    .dataframe tbody tr th:only-of-type {\n",
       "        vertical-align: middle;\n",
       "    }\n",
       "\n",
       "    .dataframe tbody tr th {\n",
       "        vertical-align: top;\n",
       "    }\n",
       "\n",
       "    .dataframe thead th {\n",
       "        text-align: right;\n",
       "    }\n",
       "</style>\n",
       "<table border=\"1\" class=\"dataframe\">\n",
       "  <thead>\n",
       "    <tr style=\"text-align: right;\">\n",
       "      <th></th>\n",
       "      <th>session_id</th>\n",
       "      <th>date</th>\n",
       "      <th>start</th>\n",
       "      <th>end</th>\n",
       "      <th>user_id</th>\n",
       "      <th>event_count</th>\n",
       "      <th>duration</th>\n",
       "      <th>event_tuple</th>\n",
       "    </tr>\n",
       "  </thead>\n",
       "  <tbody>\n",
       "    <tr>\n",
       "      <th>0</th>\n",
       "      <td>1</td>\n",
       "      <td>2019-10-07</td>\n",
       "      <td>2019-10-07 13:39:45.989359</td>\n",
       "      <td>2019-10-07 13:49:41.716617</td>\n",
       "      <td>0001b1d5-b74a-4cbf-aeb0-7df5947bf349</td>\n",
       "      <td>9</td>\n",
       "      <td>595</td>\n",
       "      <td>[tips_show, tips_show, tips_show, tips_show, t...</td>\n",
       "    </tr>\n",
       "    <tr>\n",
       "      <th>1</th>\n",
       "      <td>2</td>\n",
       "      <td>2019-10-09</td>\n",
       "      <td>2019-10-09 18:33:55.577963</td>\n",
       "      <td>2019-10-09 18:42:22.963948</td>\n",
       "      <td>0001b1d5-b74a-4cbf-aeb0-7df5947bf349</td>\n",
       "      <td>4</td>\n",
       "      <td>507</td>\n",
       "      <td>[map, map, tips_show, tips_show]</td>\n",
       "    </tr>\n",
       "    <tr>\n",
       "      <th>2</th>\n",
       "      <td>3</td>\n",
       "      <td>2019-10-21</td>\n",
       "      <td>2019-10-21 19:52:30.778932</td>\n",
       "      <td>2019-10-21 20:07:30.051028</td>\n",
       "      <td>0001b1d5-b74a-4cbf-aeb0-7df5947bf349</td>\n",
       "      <td>14</td>\n",
       "      <td>899</td>\n",
       "      <td>[tips_show, tips_show, map, tips_show, tips_sh...</td>\n",
       "    </tr>\n",
       "    <tr>\n",
       "      <th>3</th>\n",
       "      <td>4</td>\n",
       "      <td>2019-10-22</td>\n",
       "      <td>2019-10-22 11:18:14.635436</td>\n",
       "      <td>2019-10-22 11:30:52.807203</td>\n",
       "      <td>0001b1d5-b74a-4cbf-aeb0-7df5947bf349</td>\n",
       "      <td>8</td>\n",
       "      <td>758</td>\n",
       "      <td>[map, tips_show, tips_show, tips_show, map, ti...</td>\n",
       "    </tr>\n",
       "    <tr>\n",
       "      <th>4</th>\n",
       "      <td>5</td>\n",
       "      <td>2019-10-19</td>\n",
       "      <td>2019-10-19 21:34:33.849769</td>\n",
       "      <td>2019-10-19 21:46:52.541309</td>\n",
       "      <td>00157779-810c-4498-9e05-a1e9e3cedf93</td>\n",
       "      <td>7</td>\n",
       "      <td>738</td>\n",
       "      <td>[search, search, search, photos_show, photos_s...</td>\n",
       "    </tr>\n",
       "    <tr>\n",
       "      <th>...</th>\n",
       "      <td>...</td>\n",
       "      <td>...</td>\n",
       "      <td>...</td>\n",
       "      <td>...</td>\n",
       "      <td>...</td>\n",
       "      <td>...</td>\n",
       "      <td>...</td>\n",
       "      <td>...</td>\n",
       "    </tr>\n",
       "    <tr>\n",
       "      <th>15458</th>\n",
       "      <td>15459</td>\n",
       "      <td>2019-11-02</td>\n",
       "      <td>2019-11-02 19:25:53.794029</td>\n",
       "      <td>2019-11-02 19:30:50.471310</td>\n",
       "      <td>fffb9e79-b927-4dbb-9b48-7fd09b23a62b</td>\n",
       "      <td>4</td>\n",
       "      <td>296</td>\n",
       "      <td>[tips_show, contacts_show, tips_show, tips_show]</td>\n",
       "    </tr>\n",
       "    <tr>\n",
       "      <th>15459</th>\n",
       "      <td>15460</td>\n",
       "      <td>2019-11-03</td>\n",
       "      <td>2019-11-03 14:32:55.956301</td>\n",
       "      <td>2019-11-03 14:48:44.263356</td>\n",
       "      <td>fffb9e79-b927-4dbb-9b48-7fd09b23a62b</td>\n",
       "      <td>15</td>\n",
       "      <td>948</td>\n",
       "      <td>[tips_show, contacts_show, tips_show, contacts...</td>\n",
       "    </tr>\n",
       "    <tr>\n",
       "      <th>15460</th>\n",
       "      <td>15461</td>\n",
       "      <td>2019-11-03</td>\n",
       "      <td>2019-11-03 15:36:01.007440</td>\n",
       "      <td>2019-11-03 15:37:43.995209</td>\n",
       "      <td>fffb9e79-b927-4dbb-9b48-7fd09b23a62b</td>\n",
       "      <td>4</td>\n",
       "      <td>102</td>\n",
       "      <td>[tips_show, tips_show, tips_show, tips_show]</td>\n",
       "    </tr>\n",
       "    <tr>\n",
       "      <th>15461</th>\n",
       "      <td>15462</td>\n",
       "      <td>2019-11-03</td>\n",
       "      <td>2019-11-03 15:47:43.623778</td>\n",
       "      <td>2019-11-03 15:51:57.899997</td>\n",
       "      <td>fffb9e79-b927-4dbb-9b48-7fd09b23a62b</td>\n",
       "      <td>7</td>\n",
       "      <td>254</td>\n",
       "      <td>[tips_show, contacts_show, tips_show, tips_sho...</td>\n",
       "    </tr>\n",
       "    <tr>\n",
       "      <th>15462</th>\n",
       "      <td>15463</td>\n",
       "      <td>2019-11-03</td>\n",
       "      <td>2019-11-03 16:07:40.932077</td>\n",
       "      <td>2019-11-03 16:08:25.388712</td>\n",
       "      <td>fffb9e79-b927-4dbb-9b48-7fd09b23a62b</td>\n",
       "      <td>3</td>\n",
       "      <td>44</td>\n",
       "      <td>[tips_show, tips_show, tips_show]</td>\n",
       "    </tr>\n",
       "  </tbody>\n",
       "</table>\n",
       "<p>15463 rows × 8 columns</p>\n",
       "</div>"
      ],
      "text/plain": [
       "       session_id       date                      start  \\\n",
       "0               1 2019-10-07 2019-10-07 13:39:45.989359   \n",
       "1               2 2019-10-09 2019-10-09 18:33:55.577963   \n",
       "2               3 2019-10-21 2019-10-21 19:52:30.778932   \n",
       "3               4 2019-10-22 2019-10-22 11:18:14.635436   \n",
       "4               5 2019-10-19 2019-10-19 21:34:33.849769   \n",
       "...           ...        ...                        ...   \n",
       "15458       15459 2019-11-02 2019-11-02 19:25:53.794029   \n",
       "15459       15460 2019-11-03 2019-11-03 14:32:55.956301   \n",
       "15460       15461 2019-11-03 2019-11-03 15:36:01.007440   \n",
       "15461       15462 2019-11-03 2019-11-03 15:47:43.623778   \n",
       "15462       15463 2019-11-03 2019-11-03 16:07:40.932077   \n",
       "\n",
       "                             end                               user_id  \\\n",
       "0     2019-10-07 13:49:41.716617  0001b1d5-b74a-4cbf-aeb0-7df5947bf349   \n",
       "1     2019-10-09 18:42:22.963948  0001b1d5-b74a-4cbf-aeb0-7df5947bf349   \n",
       "2     2019-10-21 20:07:30.051028  0001b1d5-b74a-4cbf-aeb0-7df5947bf349   \n",
       "3     2019-10-22 11:30:52.807203  0001b1d5-b74a-4cbf-aeb0-7df5947bf349   \n",
       "4     2019-10-19 21:46:52.541309  00157779-810c-4498-9e05-a1e9e3cedf93   \n",
       "...                          ...                                   ...   \n",
       "15458 2019-11-02 19:30:50.471310  fffb9e79-b927-4dbb-9b48-7fd09b23a62b   \n",
       "15459 2019-11-03 14:48:44.263356  fffb9e79-b927-4dbb-9b48-7fd09b23a62b   \n",
       "15460 2019-11-03 15:37:43.995209  fffb9e79-b927-4dbb-9b48-7fd09b23a62b   \n",
       "15461 2019-11-03 15:51:57.899997  fffb9e79-b927-4dbb-9b48-7fd09b23a62b   \n",
       "15462 2019-11-03 16:08:25.388712  fffb9e79-b927-4dbb-9b48-7fd09b23a62b   \n",
       "\n",
       "       event_count  duration  \\\n",
       "0                9       595   \n",
       "1                4       507   \n",
       "2               14       899   \n",
       "3                8       758   \n",
       "4                7       738   \n",
       "...            ...       ...   \n",
       "15458            4       296   \n",
       "15459           15       948   \n",
       "15460            4       102   \n",
       "15461            7       254   \n",
       "15462            3        44   \n",
       "\n",
       "                                             event_tuple  \n",
       "0      [tips_show, tips_show, tips_show, tips_show, t...  \n",
       "1                       [map, map, tips_show, tips_show]  \n",
       "2      [tips_show, tips_show, map, tips_show, tips_sh...  \n",
       "3      [map, tips_show, tips_show, tips_show, map, ti...  \n",
       "4      [search, search, search, photos_show, photos_s...  \n",
       "...                                                  ...  \n",
       "15458   [tips_show, contacts_show, tips_show, tips_show]  \n",
       "15459  [tips_show, contacts_show, tips_show, contacts...  \n",
       "15460       [tips_show, tips_show, tips_show, tips_show]  \n",
       "15461  [tips_show, contacts_show, tips_show, tips_sho...  \n",
       "15462                  [tips_show, tips_show, tips_show]  \n",
       "\n",
       "[15463 rows x 8 columns]"
      ]
     },
     "execution_count": 80,
     "metadata": {},
     "output_type": "execute_result"
    }
   ],
   "source": [
    "session_data = (\n",
    "    data.groupby('session_id',as_index=False)\n",
    "    .agg({'date':'first','event_time':['first','last'],'user_id':'first','event_name_short':'count'})\n",
    ")\n",
    "session_data.columns = ['session_id','date','start','end','user_id','event_count']\n",
    "session_data['duration'] = (session_data['end'] - session_data['start']).apply(lambda x: x.seconds)\n",
    "session_data = (\n",
    "    session_data.merge(\n",
    "        data.groupby('session_id')['event_name_short']\n",
    "        .apply(lambda x: x.tolist()),on='session_id',how='left')\n",
    "    .rename(columns={'event_name_short':'event_tuple'})\n",
    ")\n",
    "\n",
    "\n",
    "session_data"
   ]
  },
  {
   "cell_type": "markdown",
   "metadata": {},
   "source": [
    "Изучим параметры сессий и визуализируем их."
   ]
  },
  {
   "cell_type": "code",
   "execution_count": 81,
   "metadata": {
    "scrolled": false
   },
   "outputs": [
    {
     "name": "stdout",
     "output_type": "stream",
     "text": [
      "Общее количество сессий за исследуемый период: 15463\n",
      "Средняя продолжительность одной сессии: 288.69  секунд\n",
      "Среднее количество событий на одну сессию: 4.8\n",
      "Среднее количество сессий на одного пользователя: 3.6\n"
     ]
    }
   ],
   "source": [
    "print('Общее количество сессий за исследуемый период:',session_data['session_id'].max())\n",
    "print('Средняя продолжительность одной сессии:', round(session_data['duration'].mean(),2),' секунд')\n",
    "print('Среднее количество событий на одну сессию:', round(session_data['event_count'].mean(),2))\n",
    "print('Среднее количество сессий на одного пользователя:', round(len(session_data)/len(session_data['user_id'].unique()),2))"
   ]
  },
  {
   "cell_type": "code",
   "execution_count": 82,
   "metadata": {},
   "outputs": [
    {
     "data": {
      "text/plain": [
       "count    15463.000000\n",
       "mean       288.689776\n",
       "std        467.136217\n",
       "min          0.000000\n",
       "25%          0.000000\n",
       "50%        116.000000\n",
       "75%        385.000000\n",
       "max       7711.000000\n",
       "Name: duration, dtype: float64"
      ]
     },
     "execution_count": 82,
     "metadata": {},
     "output_type": "execute_result"
    }
   ],
   "source": [
    "session_data['duration'].describe()"
   ]
  },
  {
   "cell_type": "code",
   "execution_count": 83,
   "metadata": {},
   "outputs": [
    {
     "data": {
      "text/plain": [
       "Text(0, 0.5, 'Количество сессий')"
      ]
     },
     "execution_count": 83,
     "metadata": {},
     "output_type": "execute_result"
    },
    {
     "data": {
      "image/png": "[encoded data removed]",
      "text/plain": [
       "<Figure size 640x480 with 1 Axes>"
      ]
     },
     "metadata": {},
     "output_type": "display_data"
    }
   ],
   "source": [
    "sns.histplot(session_data.query('duration <= 4000')['duration'],bins=20)\n",
    "plt.title('Распределение продолжительности сессий')\n",
    "plt.xlabel('Продолжительность сессий')\n",
    "plt.ylabel('Количество сессий')\n",
    "\n",
    "\n"
   ]
  },
  {
   "cell_type": "markdown",
   "metadata": {},
   "source": [
    "Большая часть сессий длятся не более 10 минут (75% - не более 385 секунд, или 6,4 минут). Однако есть и исключения в виде очень долгих сессий - так, самая долгая из них длилась 7711 секунд, то есть более 2 часов."
   ]
  },
  {
   "cell_type": "code",
   "execution_count": 84,
   "metadata": {},
   "outputs": [
    {
     "data": {
      "text/plain": [
       "count    15463.000000\n",
       "mean         4.798357\n",
       "std          6.534523\n",
       "min          1.000000\n",
       "25%          1.000000\n",
       "50%          3.000000\n",
       "75%          6.000000\n",
       "max        127.000000\n",
       "Name: event_count, dtype: float64"
      ]
     },
     "execution_count": 84,
     "metadata": {},
     "output_type": "execute_result"
    }
   ],
   "source": [
    "session_data['event_count'].describe()"
   ]
  },
  {
   "cell_type": "code",
   "execution_count": 85,
   "metadata": {},
   "outputs": [
    {
     "data": {
      "text/plain": [
       "Text(0, 0.5, 'Количество сессий')"
      ]
     },
     "execution_count": 85,
     "metadata": {},
     "output_type": "execute_result"
    },
    {
     "data": {
      "image/png": "[encoded data removed]",
      "text/plain": [
       "<Figure size 640x480 with 1 Axes>"
      ]
     },
     "metadata": {},
     "output_type": "display_data"
    }
   ],
   "source": [
    "sns.histplot(session_data['event_count'],bins=20)\n",
    "plt.title('Распределение количества событий на сессию')\n",
    "plt.xlabel('Количество событий')\n",
    "plt.ylabel('Количество сессий')"
   ]
  },
  {
   "cell_type": "markdown",
   "metadata": {},
   "source": [
    "За одну сессию пользователи, как правило, совершают не более 20ти событий (75% - не более 6ми). Максимальное значение - 127 событий на сессию."
   ]
  },
  {
   "cell_type": "code",
   "execution_count": 86,
   "metadata": {},
   "outputs": [
    {
     "data": {
      "text/html": [
       "<div>\n",
       "<style scoped>\n",
       "    .dataframe tbody tr th:only-of-type {\n",
       "        vertical-align: middle;\n",
       "    }\n",
       "\n",
       "    .dataframe tbody tr th {\n",
       "        vertical-align: top;\n",
       "    }\n",
       "\n",
       "    .dataframe thead th {\n",
       "        text-align: right;\n",
       "    }\n",
       "</style>\n",
       "<table border=\"1\" class=\"dataframe\">\n",
       "  <thead>\n",
       "    <tr style=\"text-align: right;\">\n",
       "      <th></th>\n",
       "      <th>session_id</th>\n",
       "    </tr>\n",
       "  </thead>\n",
       "  <tbody>\n",
       "    <tr>\n",
       "      <th>count</th>\n",
       "      <td>4293.000000</td>\n",
       "    </tr>\n",
       "    <tr>\n",
       "      <th>mean</th>\n",
       "      <td>3.601910</td>\n",
       "    </tr>\n",
       "    <tr>\n",
       "      <th>std</th>\n",
       "      <td>5.822328</td>\n",
       "    </tr>\n",
       "    <tr>\n",
       "      <th>min</th>\n",
       "      <td>1.000000</td>\n",
       "    </tr>\n",
       "    <tr>\n",
       "      <th>25%</th>\n",
       "      <td>1.000000</td>\n",
       "    </tr>\n",
       "    <tr>\n",
       "      <th>50%</th>\n",
       "      <td>2.000000</td>\n",
       "    </tr>\n",
       "    <tr>\n",
       "      <th>75%</th>\n",
       "      <td>4.000000</td>\n",
       "    </tr>\n",
       "    <tr>\n",
       "      <th>max</th>\n",
       "      <td>141.000000</td>\n",
       "    </tr>\n",
       "  </tbody>\n",
       "</table>\n",
       "</div>"
      ],
      "text/plain": [
       "        session_id\n",
       "count  4293.000000\n",
       "mean      3.601910\n",
       "std       5.822328\n",
       "min       1.000000\n",
       "25%       1.000000\n",
       "50%       2.000000\n",
       "75%       4.000000\n",
       "max     141.000000"
      ]
     },
     "execution_count": 86,
     "metadata": {},
     "output_type": "execute_result"
    }
   ],
   "source": [
    "(\n",
    "    session_data.groupby('user_id')\n",
    "    .agg({'session_id':'count'})\n",
    "    .sort_values(by='session_id',ascending=False).describe()\n",
    ")"
   ]
  },
  {
   "cell_type": "code",
   "execution_count": 87,
   "metadata": {},
   "outputs": [
    {
     "data": {
      "text/plain": [
       "Text(0, 0.5, 'Количество пользователей')"
      ]
     },
     "execution_count": 87,
     "metadata": {},
     "output_type": "execute_result"
    },
    {
     "data": {
      "image/png": "[encoded data removed]",
      "text/plain": [
       "<Figure size 640x480 with 1 Axes>"
      ]
     },
     "metadata": {},
     "output_type": "display_data"
    }
   ],
   "source": [
    "(\n",
    "    sns.histplot(session_data.groupby('user_id')\n",
    "                 .agg({'session_id':'count'})\n",
    "                 .sort_values(by='session_id',ascending=False),bins=30)\n",
    ")\n",
    "plt.title('Распределение количества сессий на пользователя')\n",
    "plt.xlabel('Количество сессий')\n",
    "plt.ylabel('Количество пользователей')"
   ]
  },
  {
   "cell_type": "markdown",
   "metadata": {},
   "source": [
    "На большинство пользователей приходится не более 20 сессий за исследуемый период, 75% пользователей открывали приложение не более 4х раз. Однако есть и очень активные пользователи - максимальное количество сессий на одного пользователя составило 141. "
   ]
  },
  {
   "cell_type": "markdown",
   "metadata": {},
   "source": [
    "### Расчет DAU, WAU и Sticky Factor"
   ]
  },
  {
   "cell_type": "markdown",
   "metadata": {},
   "source": [
    "Изучим пользовательскую активность."
   ]
  },
  {
   "cell_type": "code",
   "execution_count": 88,
   "metadata": {},
   "outputs": [
    {
     "data": {
      "text/html": [
       "<div>\n",
       "<style scoped>\n",
       "    .dataframe tbody tr th:only-of-type {\n",
       "        vertical-align: middle;\n",
       "    }\n",
       "\n",
       "    .dataframe tbody tr th {\n",
       "        vertical-align: top;\n",
       "    }\n",
       "\n",
       "    .dataframe thead th {\n",
       "        text-align: right;\n",
       "    }\n",
       "</style>\n",
       "<table border=\"1\" class=\"dataframe\">\n",
       "  <thead>\n",
       "    <tr style=\"text-align: right;\">\n",
       "      <th></th>\n",
       "      <th>session_id</th>\n",
       "      <th>date</th>\n",
       "      <th>start</th>\n",
       "      <th>end</th>\n",
       "      <th>user_id</th>\n",
       "      <th>event_count</th>\n",
       "      <th>duration</th>\n",
       "      <th>event_tuple</th>\n",
       "      <th>week</th>\n",
       "    </tr>\n",
       "  </thead>\n",
       "  <tbody>\n",
       "    <tr>\n",
       "      <th>0</th>\n",
       "      <td>1</td>\n",
       "      <td>2019-10-07</td>\n",
       "      <td>2019-10-07 13:39:45.989359</td>\n",
       "      <td>2019-10-07 13:49:41.716617</td>\n",
       "      <td>0001b1d5-b74a-4cbf-aeb0-7df5947bf349</td>\n",
       "      <td>9</td>\n",
       "      <td>595</td>\n",
       "      <td>[tips_show, tips_show, tips_show, tips_show, t...</td>\n",
       "      <td>41</td>\n",
       "    </tr>\n",
       "    <tr>\n",
       "      <th>1</th>\n",
       "      <td>2</td>\n",
       "      <td>2019-10-09</td>\n",
       "      <td>2019-10-09 18:33:55.577963</td>\n",
       "      <td>2019-10-09 18:42:22.963948</td>\n",
       "      <td>0001b1d5-b74a-4cbf-aeb0-7df5947bf349</td>\n",
       "      <td>4</td>\n",
       "      <td>507</td>\n",
       "      <td>[map, map, tips_show, tips_show]</td>\n",
       "      <td>41</td>\n",
       "    </tr>\n",
       "    <tr>\n",
       "      <th>2</th>\n",
       "      <td>3</td>\n",
       "      <td>2019-10-21</td>\n",
       "      <td>2019-10-21 19:52:30.778932</td>\n",
       "      <td>2019-10-21 20:07:30.051028</td>\n",
       "      <td>0001b1d5-b74a-4cbf-aeb0-7df5947bf349</td>\n",
       "      <td>14</td>\n",
       "      <td>899</td>\n",
       "      <td>[tips_show, tips_show, map, tips_show, tips_sh...</td>\n",
       "      <td>43</td>\n",
       "    </tr>\n",
       "    <tr>\n",
       "      <th>3</th>\n",
       "      <td>4</td>\n",
       "      <td>2019-10-22</td>\n",
       "      <td>2019-10-22 11:18:14.635436</td>\n",
       "      <td>2019-10-22 11:30:52.807203</td>\n",
       "      <td>0001b1d5-b74a-4cbf-aeb0-7df5947bf349</td>\n",
       "      <td>8</td>\n",
       "      <td>758</td>\n",
       "      <td>[map, tips_show, tips_show, tips_show, map, ti...</td>\n",
       "      <td>43</td>\n",
       "    </tr>\n",
       "    <tr>\n",
       "      <th>4</th>\n",
       "      <td>5</td>\n",
       "      <td>2019-10-19</td>\n",
       "      <td>2019-10-19 21:34:33.849769</td>\n",
       "      <td>2019-10-19 21:46:52.541309</td>\n",
       "      <td>00157779-810c-4498-9e05-a1e9e3cedf93</td>\n",
       "      <td>7</td>\n",
       "      <td>738</td>\n",
       "      <td>[search, search, search, photos_show, photos_s...</td>\n",
       "      <td>42</td>\n",
       "    </tr>\n",
       "  </tbody>\n",
       "</table>\n",
       "</div>"
      ],
      "text/plain": [
       "   session_id       date                      start  \\\n",
       "0           1 2019-10-07 2019-10-07 13:39:45.989359   \n",
       "1           2 2019-10-09 2019-10-09 18:33:55.577963   \n",
       "2           3 2019-10-21 2019-10-21 19:52:30.778932   \n",
       "3           4 2019-10-22 2019-10-22 11:18:14.635436   \n",
       "4           5 2019-10-19 2019-10-19 21:34:33.849769   \n",
       "\n",
       "                         end                               user_id  \\\n",
       "0 2019-10-07 13:49:41.716617  0001b1d5-b74a-4cbf-aeb0-7df5947bf349   \n",
       "1 2019-10-09 18:42:22.963948  0001b1d5-b74a-4cbf-aeb0-7df5947bf349   \n",
       "2 2019-10-21 20:07:30.051028  0001b1d5-b74a-4cbf-aeb0-7df5947bf349   \n",
       "3 2019-10-22 11:30:52.807203  0001b1d5-b74a-4cbf-aeb0-7df5947bf349   \n",
       "4 2019-10-19 21:46:52.541309  00157779-810c-4498-9e05-a1e9e3cedf93   \n",
       "\n",
       "   event_count  duration                                        event_tuple  \\\n",
       "0            9       595  [tips_show, tips_show, tips_show, tips_show, t...   \n",
       "1            4       507                   [map, map, tips_show, tips_show]   \n",
       "2           14       899  [tips_show, tips_show, map, tips_show, tips_sh...   \n",
       "3            8       758  [map, tips_show, tips_show, tips_show, map, ti...   \n",
       "4            7       738  [search, search, search, photos_show, photos_s...   \n",
       "\n",
       "   week  \n",
       "0    41  \n",
       "1    41  \n",
       "2    43  \n",
       "3    43  \n",
       "4    42  "
      ]
     },
     "execution_count": 88,
     "metadata": {},
     "output_type": "execute_result"
    }
   ],
   "source": [
    "#добавим в session_data столбец с номером недели\n",
    "session_data['week'] = session_data['start'].dt.isocalendar().week\n",
    "session_data.head()"
   ]
  },
  {
   "cell_type": "code",
   "execution_count": 89,
   "metadata": {},
   "outputs": [
    {
     "name": "stdout",
     "output_type": "stream",
     "text": [
      "Среднее количество активных пользователей в день: 278\n",
      "Среднее количество активных пользователей в неделю: 1382\n",
      "Sticky factor: 20 %\n"
     ]
    }
   ],
   "source": [
    "dau_total = int(session_data.groupby('date').agg({'user_id':'nunique'}).mean())\n",
    "wau_total = int(session_data.groupby('week').agg({'user_id':'nunique'}).mean())\n",
    "print('Среднее количество активных пользователей в день:', dau_total)\n",
    "print('Среднее количество активных пользователей в неделю:', wau_total)\n",
    "print('Sticky factor:', round(dau_total/wau_total*100),'%')"
   ]
  },
  {
   "cell_type": "code",
   "execution_count": 90,
   "metadata": {},
   "outputs": [
    {
     "data": {
      "image/png": "[encoded data removed]",
      "text/plain": [
       "<Figure size 1000x400 with 1 Axes>"
      ]
     },
     "metadata": {},
     "output_type": "display_data"
    }
   ],
   "source": [
    "\n",
    "\n",
    "plt.figure(figsize=(10, 4))\n",
    "ax = sns.lineplot(data = session_data.groupby('date',as_index=False).agg({'user_id':'nunique'}), x='date', y='user_id')\n",
    "\n",
    "plt.title('Количество активных пользователей в день (DAU)')\n",
    "plt.xlabel('Дата')\n",
    "plt.ylabel('Количество пользователей')\n",
    "\n",
    "\n",
    "plt.xticks(rotation=90)\n",
    "ax.xaxis.set_major_locator(mdates.DayLocator(interval=1))\n",
    "\n",
    "plt.axhline(y = dau_total, color = 'b', linestyle = '--',label = \"среднее значение DAU\") \n",
    "plt.legend(bbox_to_anchor = (1.0, 1.15), loc = 'upper center') \n",
    "\n",
    "\n",
    "plt.show()\n"
   ]
  },
  {
   "cell_type": "markdown",
   "metadata": {},
   "source": [
    "Пользовательская активность в разрезе DAU резко выросла в первую неделю измеряемого периода (к 14.10), и оставалась на уровне выше среднего до 1.11. 02.11 наблюдался небольшой спад активности. Минимальное количество уникальных пользователей наблюдалось 12.10 - 175 человек. Максимальное - 23.10, 350 человек."
   ]
  },
  {
   "cell_type": "code",
   "execution_count": 91,
   "metadata": {},
   "outputs": [
    {
     "ename": "TypeError",
     "evalue": "ufunc 'isfinite' not supported for the input types, and the inputs could not be safely coerced to any supported types according to the casting rule ''safe''",
     "output_type": "error",
     "traceback": [
      "\u001b[0;31m---------------------------------------------------------------------------\u001b[0m",
      "\u001b[0;31mTypeError\u001b[0m                                 Traceback (most recent call last)",
      "Cell \u001b[0;32mIn[91], line 2\u001b[0m\n\u001b[1;32m      1\u001b[0m plt\u001b[38;5;241m.\u001b[39mfigure(figsize\u001b[38;5;241m=\u001b[39m(\u001b[38;5;241m10\u001b[39m, \u001b[38;5;241m4\u001b[39m))\n\u001b[0;32m----> 2\u001b[0m ax \u001b[38;5;241m=\u001b[39m \u001b[43msns\u001b[49m\u001b[38;5;241;43m.\u001b[39;49m\u001b[43mlineplot\u001b[49m\u001b[43m(\u001b[49m\u001b[43mdata\u001b[49m\u001b[43m \u001b[49m\u001b[38;5;241;43m=\u001b[39;49m\u001b[43m \u001b[49m\u001b[43msession_data\u001b[49m\u001b[38;5;241;43m.\u001b[39;49m\u001b[43mgroupby\u001b[49m\u001b[43m(\u001b[49m\u001b[38;5;124;43m'\u001b[39;49m\u001b[38;5;124;43mweek\u001b[39;49m\u001b[38;5;124;43m'\u001b[39;49m\u001b[43m,\u001b[49m\u001b[43mas_index\u001b[49m\u001b[38;5;241;43m=\u001b[39;49m\u001b[38;5;28;43;01mFalse\u001b[39;49;00m\u001b[43m)\u001b[49m\u001b[38;5;241;43m.\u001b[39;49m\u001b[43magg\u001b[49m\u001b[43m(\u001b[49m\u001b[43m{\u001b[49m\u001b[38;5;124;43m'\u001b[39;49m\u001b[38;5;124;43muser_id\u001b[39;49m\u001b[38;5;124;43m'\u001b[39;49m\u001b[43m:\u001b[49m\u001b[38;5;124;43m'\u001b[39;49m\u001b[38;5;124;43mnunique\u001b[39;49m\u001b[38;5;124;43m'\u001b[39;49m\u001b[43m}\u001b[49m\u001b[43m)\u001b[49m\u001b[43m,\u001b[49m\u001b[43m \u001b[49m\u001b[43mx\u001b[49m\u001b[38;5;241;43m=\u001b[39;49m\u001b[38;5;124;43m'\u001b[39;49m\u001b[38;5;124;43mweek\u001b[39;49m\u001b[38;5;124;43m'\u001b[39;49m\u001b[43m,\u001b[49m\u001b[43m \u001b[49m\u001b[43my\u001b[49m\u001b[38;5;241;43m=\u001b[39;49m\u001b[38;5;124;43m'\u001b[39;49m\u001b[38;5;124;43muser_id\u001b[39;49m\u001b[38;5;124;43m'\u001b[39;49m\u001b[43m)\u001b[49m\n\u001b[1;32m      4\u001b[0m plt\u001b[38;5;241m.\u001b[39mtitle(\u001b[38;5;124m'\u001b[39m\u001b[38;5;124mКоличество активных пользователей в неделю (WAU)\u001b[39m\u001b[38;5;124m'\u001b[39m)\n\u001b[1;32m      5\u001b[0m plt\u001b[38;5;241m.\u001b[39mxlabel(\u001b[38;5;124m'\u001b[39m\u001b[38;5;124mНеделя\u001b[39m\u001b[38;5;124m'\u001b[39m)\n",
      "File \u001b[0;32m~/anaconda3/lib/python3.10/site-packages/seaborn/relational.py:645\u001b[0m, in \u001b[0;36mlineplot\u001b[0;34m(data, x, y, hue, size, style, units, palette, hue_order, hue_norm, sizes, size_order, size_norm, dashes, markers, style_order, estimator, errorbar, n_boot, seed, orient, sort, err_style, err_kws, legend, ci, ax, **kwargs)\u001b[0m\n\u001b[1;32m    642\u001b[0m color \u001b[38;5;241m=\u001b[39m kwargs\u001b[38;5;241m.\u001b[39mpop(\u001b[38;5;124m\"\u001b[39m\u001b[38;5;124mcolor\u001b[39m\u001b[38;5;124m\"\u001b[39m, kwargs\u001b[38;5;241m.\u001b[39mpop(\u001b[38;5;124m\"\u001b[39m\u001b[38;5;124mc\u001b[39m\u001b[38;5;124m\"\u001b[39m, \u001b[38;5;28;01mNone\u001b[39;00m))\n\u001b[1;32m    643\u001b[0m kwargs[\u001b[38;5;124m\"\u001b[39m\u001b[38;5;124mcolor\u001b[39m\u001b[38;5;124m\"\u001b[39m] \u001b[38;5;241m=\u001b[39m _default_color(ax\u001b[38;5;241m.\u001b[39mplot, hue, color, kwargs)\n\u001b[0;32m--> 645\u001b[0m \u001b[43mp\u001b[49m\u001b[38;5;241;43m.\u001b[39;49m\u001b[43mplot\u001b[49m\u001b[43m(\u001b[49m\u001b[43max\u001b[49m\u001b[43m,\u001b[49m\u001b[43m \u001b[49m\u001b[43mkwargs\u001b[49m\u001b[43m)\u001b[49m\n\u001b[1;32m    646\u001b[0m \u001b[38;5;28;01mreturn\u001b[39;00m ax\n",
      "File \u001b[0;32m~/anaconda3/lib/python3.10/site-packages/seaborn/relational.py:489\u001b[0m, in \u001b[0;36m_LinePlotter.plot\u001b[0;34m(self, ax, kws)\u001b[0m\n\u001b[1;32m    486\u001b[0m \u001b[38;5;28;01mif\u001b[39;00m \u001b[38;5;28mself\u001b[39m\u001b[38;5;241m.\u001b[39merr_style \u001b[38;5;241m==\u001b[39m \u001b[38;5;124m\"\u001b[39m\u001b[38;5;124mband\u001b[39m\u001b[38;5;124m\"\u001b[39m:\n\u001b[1;32m    488\u001b[0m     func \u001b[38;5;241m=\u001b[39m {\u001b[38;5;124m\"\u001b[39m\u001b[38;5;124mx\u001b[39m\u001b[38;5;124m\"\u001b[39m: ax\u001b[38;5;241m.\u001b[39mfill_between, \u001b[38;5;124m\"\u001b[39m\u001b[38;5;124my\u001b[39m\u001b[38;5;124m\"\u001b[39m: ax\u001b[38;5;241m.\u001b[39mfill_betweenx}[orient]\n\u001b[0;32m--> 489\u001b[0m     \u001b[43mfunc\u001b[49m\u001b[43m(\u001b[49m\n\u001b[1;32m    490\u001b[0m \u001b[43m        \u001b[49m\u001b[43msub_data\u001b[49m\u001b[43m[\u001b[49m\u001b[43morient\u001b[49m\u001b[43m]\u001b[49m\u001b[43m,\u001b[49m\n\u001b[1;32m    491\u001b[0m \u001b[43m        \u001b[49m\u001b[43msub_data\u001b[49m\u001b[43m[\u001b[49m\u001b[38;5;124;43mf\u001b[39;49m\u001b[38;5;124;43m\"\u001b[39;49m\u001b[38;5;132;43;01m{\u001b[39;49;00m\u001b[43mother\u001b[49m\u001b[38;5;132;43;01m}\u001b[39;49;00m\u001b[38;5;124;43mmin\u001b[39;49m\u001b[38;5;124;43m\"\u001b[39;49m\u001b[43m]\u001b[49m\u001b[43m,\u001b[49m\u001b[43m \u001b[49m\u001b[43msub_data\u001b[49m\u001b[43m[\u001b[49m\u001b[38;5;124;43mf\u001b[39;49m\u001b[38;5;124;43m\"\u001b[39;49m\u001b[38;5;132;43;01m{\u001b[39;49;00m\u001b[43mother\u001b[49m\u001b[38;5;132;43;01m}\u001b[39;49;00m\u001b[38;5;124;43mmax\u001b[39;49m\u001b[38;5;124;43m\"\u001b[39;49m\u001b[43m]\u001b[49m\u001b[43m,\u001b[49m\n\u001b[1;32m    492\u001b[0m \u001b[43m        \u001b[49m\u001b[43mcolor\u001b[49m\u001b[38;5;241;43m=\u001b[39;49m\u001b[43mline_color\u001b[49m\u001b[43m,\u001b[49m\u001b[43m \u001b[49m\u001b[38;5;241;43m*\u001b[39;49m\u001b[38;5;241;43m*\u001b[39;49m\u001b[43merr_kws\u001b[49m\n\u001b[1;32m    493\u001b[0m \u001b[43m    \u001b[49m\u001b[43m)\u001b[49m\n\u001b[1;32m    495\u001b[0m \u001b[38;5;28;01melif\u001b[39;00m \u001b[38;5;28mself\u001b[39m\u001b[38;5;241m.\u001b[39merr_style \u001b[38;5;241m==\u001b[39m \u001b[38;5;124m\"\u001b[39m\u001b[38;5;124mbars\u001b[39m\u001b[38;5;124m\"\u001b[39m:\n\u001b[1;32m    497\u001b[0m     error_param \u001b[38;5;241m=\u001b[39m {\n\u001b[1;32m    498\u001b[0m         \u001b[38;5;124mf\u001b[39m\u001b[38;5;124m\"\u001b[39m\u001b[38;5;132;01m{\u001b[39;00mother\u001b[38;5;132;01m}\u001b[39;00m\u001b[38;5;124merr\u001b[39m\u001b[38;5;124m\"\u001b[39m: (\n\u001b[1;32m    499\u001b[0m             sub_data[other] \u001b[38;5;241m-\u001b[39m sub_data[\u001b[38;5;124mf\u001b[39m\u001b[38;5;124m\"\u001b[39m\u001b[38;5;132;01m{\u001b[39;00mother\u001b[38;5;132;01m}\u001b[39;00m\u001b[38;5;124mmin\u001b[39m\u001b[38;5;124m\"\u001b[39m],\n\u001b[1;32m    500\u001b[0m             sub_data[\u001b[38;5;124mf\u001b[39m\u001b[38;5;124m\"\u001b[39m\u001b[38;5;132;01m{\u001b[39;00mother\u001b[38;5;132;01m}\u001b[39;00m\u001b[38;5;124mmax\u001b[39m\u001b[38;5;124m\"\u001b[39m] \u001b[38;5;241m-\u001b[39m sub_data[other],\n\u001b[1;32m    501\u001b[0m         )\n\u001b[1;32m    502\u001b[0m     }\n",
      "File \u001b[0;32m~/anaconda3/lib/python3.10/site-packages/matplotlib/__init__.py:1442\u001b[0m, in \u001b[0;36m_preprocess_data.<locals>.inner\u001b[0;34m(ax, data, *args, **kwargs)\u001b[0m\n\u001b[1;32m   1439\u001b[0m \u001b[38;5;129m@functools\u001b[39m\u001b[38;5;241m.\u001b[39mwraps(func)\n\u001b[1;32m   1440\u001b[0m \u001b[38;5;28;01mdef\u001b[39;00m \u001b[38;5;21minner\u001b[39m(ax, \u001b[38;5;241m*\u001b[39margs, data\u001b[38;5;241m=\u001b[39m\u001b[38;5;28;01mNone\u001b[39;00m, \u001b[38;5;241m*\u001b[39m\u001b[38;5;241m*\u001b[39mkwargs):\n\u001b[1;32m   1441\u001b[0m     \u001b[38;5;28;01mif\u001b[39;00m data \u001b[38;5;129;01mis\u001b[39;00m \u001b[38;5;28;01mNone\u001b[39;00m:\n\u001b[0;32m-> 1442\u001b[0m         \u001b[38;5;28;01mreturn\u001b[39;00m \u001b[43mfunc\u001b[49m\u001b[43m(\u001b[49m\u001b[43max\u001b[49m\u001b[43m,\u001b[49m\u001b[43m \u001b[49m\u001b[38;5;241;43m*\u001b[39;49m\u001b[38;5;28;43mmap\u001b[39;49m\u001b[43m(\u001b[49m\u001b[43msanitize_sequence\u001b[49m\u001b[43m,\u001b[49m\u001b[43m \u001b[49m\u001b[43margs\u001b[49m\u001b[43m)\u001b[49m\u001b[43m,\u001b[49m\u001b[43m \u001b[49m\u001b[38;5;241;43m*\u001b[39;49m\u001b[38;5;241;43m*\u001b[39;49m\u001b[43mkwargs\u001b[49m\u001b[43m)\u001b[49m\n\u001b[1;32m   1444\u001b[0m     bound \u001b[38;5;241m=\u001b[39m new_sig\u001b[38;5;241m.\u001b[39mbind(ax, \u001b[38;5;241m*\u001b[39margs, \u001b[38;5;241m*\u001b[39m\u001b[38;5;241m*\u001b[39mkwargs)\n\u001b[1;32m   1445\u001b[0m     auto_label \u001b[38;5;241m=\u001b[39m (bound\u001b[38;5;241m.\u001b[39marguments\u001b[38;5;241m.\u001b[39mget(label_namer)\n\u001b[1;32m   1446\u001b[0m                   \u001b[38;5;129;01mor\u001b[39;00m bound\u001b[38;5;241m.\u001b[39mkwargs\u001b[38;5;241m.\u001b[39mget(label_namer))\n",
      "File \u001b[0;32m~/anaconda3/lib/python3.10/site-packages/matplotlib/axes/_axes.py:5431\u001b[0m, in \u001b[0;36mAxes.fill_between\u001b[0;34m(self, x, y1, y2, where, interpolate, step, **kwargs)\u001b[0m\n\u001b[1;32m   5429\u001b[0m \u001b[38;5;28;01mdef\u001b[39;00m \u001b[38;5;21mfill_between\u001b[39m(\u001b[38;5;28mself\u001b[39m, x, y1, y2\u001b[38;5;241m=\u001b[39m\u001b[38;5;241m0\u001b[39m, where\u001b[38;5;241m=\u001b[39m\u001b[38;5;28;01mNone\u001b[39;00m, interpolate\u001b[38;5;241m=\u001b[39m\u001b[38;5;28;01mFalse\u001b[39;00m,\n\u001b[1;32m   5430\u001b[0m                  step\u001b[38;5;241m=\u001b[39m\u001b[38;5;28;01mNone\u001b[39;00m, \u001b[38;5;241m*\u001b[39m\u001b[38;5;241m*\u001b[39mkwargs):\n\u001b[0;32m-> 5431\u001b[0m     \u001b[38;5;28;01mreturn\u001b[39;00m \u001b[38;5;28;43mself\u001b[39;49m\u001b[38;5;241;43m.\u001b[39;49m\u001b[43m_fill_between_x_or_y\u001b[49m\u001b[43m(\u001b[49m\n\u001b[1;32m   5432\u001b[0m \u001b[43m        \u001b[49m\u001b[38;5;124;43m\"\u001b[39;49m\u001b[38;5;124;43mx\u001b[39;49m\u001b[38;5;124;43m\"\u001b[39;49m\u001b[43m,\u001b[49m\u001b[43m \u001b[49m\u001b[43mx\u001b[49m\u001b[43m,\u001b[49m\u001b[43m \u001b[49m\u001b[43my1\u001b[49m\u001b[43m,\u001b[49m\u001b[43m \u001b[49m\u001b[43my2\u001b[49m\u001b[43m,\u001b[49m\n\u001b[1;32m   5433\u001b[0m \u001b[43m        \u001b[49m\u001b[43mwhere\u001b[49m\u001b[38;5;241;43m=\u001b[39;49m\u001b[43mwhere\u001b[49m\u001b[43m,\u001b[49m\u001b[43m \u001b[49m\u001b[43minterpolate\u001b[49m\u001b[38;5;241;43m=\u001b[39;49m\u001b[43minterpolate\u001b[49m\u001b[43m,\u001b[49m\u001b[43m \u001b[49m\u001b[43mstep\u001b[49m\u001b[38;5;241;43m=\u001b[39;49m\u001b[43mstep\u001b[49m\u001b[43m,\u001b[49m\u001b[43m \u001b[49m\u001b[38;5;241;43m*\u001b[39;49m\u001b[38;5;241;43m*\u001b[39;49m\u001b[43mkwargs\u001b[49m\u001b[43m)\u001b[49m\n",
      "File \u001b[0;32m~/anaconda3/lib/python3.10/site-packages/matplotlib/axes/_axes.py:5336\u001b[0m, in \u001b[0;36mAxes._fill_between_x_or_y\u001b[0;34m(self, ind_dir, ind, dep1, dep2, where, interpolate, step, **kwargs)\u001b[0m\n\u001b[1;32m   5332\u001b[0m         kwargs[\u001b[38;5;124m\"\u001b[39m\u001b[38;5;124mfacecolor\u001b[39m\u001b[38;5;124m\"\u001b[39m] \u001b[38;5;241m=\u001b[39m \\\n\u001b[1;32m   5333\u001b[0m             \u001b[38;5;28mself\u001b[39m\u001b[38;5;241m.\u001b[39m_get_patches_for_fill\u001b[38;5;241m.\u001b[39mget_next_color()\n\u001b[1;32m   5335\u001b[0m \u001b[38;5;66;03m# Handle united data, such as dates\u001b[39;00m\n\u001b[0;32m-> 5336\u001b[0m ind, dep1, dep2 \u001b[38;5;241m=\u001b[39m \u001b[38;5;28mmap\u001b[39m(\n\u001b[1;32m   5337\u001b[0m     ma\u001b[38;5;241m.\u001b[39mmasked_invalid, \u001b[38;5;28mself\u001b[39m\u001b[38;5;241m.\u001b[39m_process_unit_info(\n\u001b[1;32m   5338\u001b[0m         [(ind_dir, ind), (dep_dir, dep1), (dep_dir, dep2)], kwargs))\n\u001b[1;32m   5340\u001b[0m \u001b[38;5;28;01mfor\u001b[39;00m name, array \u001b[38;5;129;01min\u001b[39;00m [\n\u001b[1;32m   5341\u001b[0m         (ind_dir, ind), (\u001b[38;5;124mf\u001b[39m\u001b[38;5;124m\"\u001b[39m\u001b[38;5;132;01m{\u001b[39;00mdep_dir\u001b[38;5;132;01m}\u001b[39;00m\u001b[38;5;124m1\u001b[39m\u001b[38;5;124m\"\u001b[39m, dep1), (\u001b[38;5;124mf\u001b[39m\u001b[38;5;124m\"\u001b[39m\u001b[38;5;132;01m{\u001b[39;00mdep_dir\u001b[38;5;132;01m}\u001b[39;00m\u001b[38;5;124m2\u001b[39m\u001b[38;5;124m\"\u001b[39m, dep2)]:\n\u001b[1;32m   5342\u001b[0m     \u001b[38;5;28;01mif\u001b[39;00m array\u001b[38;5;241m.\u001b[39mndim \u001b[38;5;241m>\u001b[39m \u001b[38;5;241m1\u001b[39m:\n",
      "File \u001b[0;32m~/anaconda3/lib/python3.10/site-packages/numpy/ma/core.py:2366\u001b[0m, in \u001b[0;36mmasked_invalid\u001b[0;34m(a, copy)\u001b[0m\n\u001b[1;32m   2364\u001b[0m     \u001b[38;5;28mcls\u001b[39m \u001b[38;5;241m=\u001b[39m \u001b[38;5;28mtype\u001b[39m(a)\n\u001b[1;32m   2365\u001b[0m \u001b[38;5;28;01melse\u001b[39;00m:\n\u001b[0;32m-> 2366\u001b[0m     condition \u001b[38;5;241m=\u001b[39m \u001b[38;5;241m~\u001b[39m(\u001b[43mnp\u001b[49m\u001b[38;5;241;43m.\u001b[39;49m\u001b[43misfinite\u001b[49m\u001b[43m(\u001b[49m\u001b[43ma\u001b[49m\u001b[43m)\u001b[49m)\n\u001b[1;32m   2367\u001b[0m     \u001b[38;5;28mcls\u001b[39m \u001b[38;5;241m=\u001b[39m MaskedArray\n\u001b[1;32m   2368\u001b[0m result \u001b[38;5;241m=\u001b[39m a\u001b[38;5;241m.\u001b[39mview(\u001b[38;5;28mcls\u001b[39m)\n",
      "\u001b[0;31mTypeError\u001b[0m: ufunc 'isfinite' not supported for the input types, and the inputs could not be safely coerced to any supported types according to the casting rule ''safe''"
     ]
    },
    {
     "data": {
      "image/png": "[encoded data removed]",
      "text/plain": [
       "<Figure size 1000x400 with 1 Axes>"
      ]
     },
     "metadata": {},
     "output_type": "display_data"
    }
   ],
   "source": [
    "plt.figure(figsize=(10, 4))\n",
    "ax = sns.lineplot(data = session_data.groupby('week',as_index=False).agg({'user_id':'nunique'}), x='week', y='user_id')\n",
    "\n",
    "plt.title('Количество активных пользователей в неделю (WAU)')\n",
    "plt.xlabel('Неделя')\n",
    "plt.ylabel('Количество пользователей')\n",
    "\n",
    "plt.xticks(np.arange(min(session_data['week']), max(session_data['week'])+1, 1.0))\n",
    "plt.yticks(np.arange(min(session_data.groupby('week').agg({'user_id':'nunique'})['user_id']),\n",
    "                     max(session_data.groupby('week').agg({'user_id':'nunique'})['user_id'])+1, \n",
    "                     50))\n",
    "#plt.xticks(rotation=90)\n",
    "#ax.xaxis.set_major_locator(mdates.WeekLocator(interval=1))\n",
    "\n",
    "plt.axhline(y = wau_total, color = 'b', linestyle = '--',label = \"среднее значение WAU\") \n",
    "plt.legend(bbox_to_anchor = (1.0, 1.15), loc = 'upper center') \n",
    "\n",
    "\n",
    "plt.show()"
   ]
  },
  {
   "cell_type": "markdown",
   "metadata": {},
   "source": [
    "Пик пользовательской активности в разрезе WAU пришелся на 43 неделю (свыше 1530 пользователей), после чего наметилась тенденция к спаду. "
   ]
  },
  {
   "cell_type": "code",
   "execution_count": null,
   "metadata": {},
   "outputs": [],
   "source": [
    "sticky_factor_data = session_data.groupby(['week','date'],as_index=False).agg({'user_id':'nunique'}).merge((session_data.groupby('week',as_index=False).agg({'user_id':'nunique'})), on='week', how='left')\n",
    "sticky_factor_data.columns = ['week','date','dau','wau']\n",
    "\n",
    "sticky_factor_data['sticky_factor'] = round(sticky_factor_data['dau']/sticky_factor_data['wau']*100,2)\n",
    "sticky_factor_data\n",
    "\n",
    "plt.figure(figsize=(10, 4))\n",
    "ax = sns.lineplot(data = sticky_factor_data, x='date', y='sticky_factor')\n",
    "\n",
    "plt.title('Sticky factor в динамике')\n",
    "plt.xlabel('Дата')\n",
    "plt.ylabel('Значение sticky factor')\n",
    "\n",
    "plt.xticks(rotation=90)\n",
    "ax.xaxis.set_major_locator(mdates.DayLocator(interval=1))\n",
    "plt.yticks(np.arange(min(sticky_factor_data['sticky_factor']),\n",
    "                     max(sticky_factor_data['sticky_factor'])+1, \n",
    "                     1))\n",
    "\n",
    "\n",
    "plt.axhline(y = sticky_factor_data['sticky_factor'].mean(), color = 'b', linestyle = '--',label = \"среднее значение sticky factor\") \n",
    "plt.legend(bbox_to_anchor = (1.0, 1.15), loc = 'upper center') \n",
    "\n",
    "\n",
    "plt.show()\n",
    "\n"
   ]
  },
  {
   "cell_type": "markdown",
   "metadata": {},
   "source": [
    "Значение sticky factor колебалось в течение измеряемого периода в пределах 16(12.10) - 25(28.10) процентов. Резкий спад наблюдался 2.11 - до 17%. Однако в целом пользовательская активность сохраняется на уровне DAU/WAU  ~ 20%. "
   ]
  },
  {
   "cell_type": "markdown",
   "metadata": {},
   "source": [
    "### Промежуточные выводы"
   ]
  },
  {
   "cell_type": "markdown",
   "metadata": {},
   "source": [
    "На этапе исследовательского анализа данных мы получили следующие выводы:\n",
    "\n",
    "- Медианное значение количества совершенных событий на пользователя - 9. 99% пользователей совершали не более 132 событий;\n",
    "- В исследуемый период (с 7 октября по 3 ноября 2019 г. включительно) пользователи совершали в среднем 2650 событий в день. Наименьшая активность наблюдалась 12 октября - 1843 события, максимально количество событий было совершено 23 октября - 3361;\n",
    "- Общее количество сессий за исследуемый период - 15463;\n",
    "- Средняя продолжительность одной сессии - 288.69  секунд, т.е 4,8 минут. Большая часть сессий длятся не более 6 минут;\n",
    "- За одну сессию пользователи, как правило, совершают не более 20ти событий (75% - не более 4х). В среднем - 4.8 событий на сессию; \n",
    "- На большинство пользователей приходится не более 20 сессий за исследуемый период, среднее количество сессий на одного пользователя - 3.6; \n",
    "- Среднее количество активных пользователей в день - 278; \n",
    "- Среднее количество активных пользователей в недел -  1382; \n",
    "- Sticky factor - 20 %."
   ]
  },
  {
   "cell_type": "markdown",
   "metadata": {},
   "source": [
    "## Основные вопросы исследования"
   ]
  },
  {
   "cell_type": "markdown",
   "metadata": {},
   "source": [
    "На этом этапе выполним следующие действия:\n",
    "\n",
    "- Определим сценарий поведения пользователей для каждой сессии\n",
    "- Выберем сценарии, которые приводят к просмотру контактов\n",
    "- Построим воронки событий по самым популярным сценариям поведения пользователей, которые приводят к просмотру контактов, в разрезе уникальных пользователей\n",
    "- Рассчитаем относительную частоту событий в разрезе двух групп пользователей:\n",
    "  - группа пользователей, которые смотрели контакты (есть событие contacts_show)\n",
    "  - группа пользователей, которые не смотрели контакты (нет события contacts_show)\n"
   ]
  },
  {
   "cell_type": "code",
   "execution_count": null,
   "metadata": {
    "scrolled": false
   },
   "outputs": [],
   "source": [
    "#создадим список id сессий, в рамках которых пользователи совершали целевое действие\n",
    "#сохраним срез данных об этих сессиях в отдельную переменную \n",
    "target_sessions_list = data.query('event_name == \"contacts_show\"')['session_id'].unique()\n",
    "target_sessions_data = session_data.query('session_id in @target_sessions_list').reset_index(drop=True)"
   ]
  },
  {
   "cell_type": "code",
   "execution_count": null,
   "metadata": {},
   "outputs": [],
   "source": [
    "display(target_sessions_data.head())\n",
    "target_sessions_data.info()"
   ]
  },
  {
   "cell_type": "code",
   "execution_count": null,
   "metadata": {},
   "outputs": [],
   "source": [
    "print('Доля сессий, в рамках которых пользователи совершали целевое действие contacts_show:', \n",
    "     round(len(target_sessions_data) / len(session_data)*100,2),'%')"
   ]
  },
  {
   "cell_type": "code",
   "execution_count": null,
   "metadata": {},
   "outputs": [],
   "source": [
    "#зададим функцию для получения сценария из последовательности всех событий в рамках одной сессии\n",
    "#с помощью нее удалим дублирущиеся события, а также ограничим сценарии достижением целевого события contacts_show\n",
    "def find_scenario(events):\n",
    "    scenario=[]\n",
    "    for i in range(0,len(events)):\n",
    "        if (events[i] not in scenario) and (events[i] != 'contacts_show'):\n",
    "            scenario.append(events[i])\n",
    "        else:\n",
    "            break\n",
    "    scenario.append('contacts_show')\n",
    "    scenario=tuple(scenario)\n",
    "            \n",
    "    return scenario    \n"
   ]
  },
  {
   "cell_type": "code",
   "execution_count": null,
   "metadata": {},
   "outputs": [],
   "source": [
    "target_sessions_data['target_event_scenarios'] = target_sessions_data['event_tuple'].apply(find_scenario)\n",
    "scenarios_rating = target_sessions_data.groupby(\n",
    "    'target_event_scenarios',as_index=False).agg({'session_id':'count'}).sort_values(\n",
    "    by='session_id',ascending = False).reset_index(drop=True)\n",
    "\n",
    "scenarios_rating"
   ]
  },
  {
   "cell_type": "markdown",
   "metadata": {},
   "source": [
    "Всего получили 46 сценариев поведения пользователей, которые приводят к целевому событию contacts_show. Самый популярный сценарий - это сессия из одного действия, непосредственно просмотр контактов. Вероятно, пользователи, действующие по этому сценарию, переходили в приложение через ссылку на контакты. \n",
    "\n",
    "Построим воронки для следующих 4х по популярности сценариев:\n",
    "\n",
    "- tips_show-contacts_show\n",
    "- search-contacts_show\n",
    "- photos_show-contacts_show\n",
    "- map-tips_show-contacts_show"
   ]
  },
  {
   "cell_type": "code",
   "execution_count": 93,
   "metadata": {},
   "outputs": [],
   "source": [
    "#зададим функцию для визуализации воронок для сценариев, состоящих из 2-3 событий\n",
    "def make_funnel(data,*events):\n",
    "    user_count=[]\n",
    "    \n",
    "    first_event_users = data.query('event_name_short == @events[0]')['user_id'].unique()\n",
    "    first_event_user_count = len(first_event_users)\n",
    "    \n",
    "    user_count.append(first_event_user_count)\n",
    "    \n",
    "    second_event_users = data.query(\n",
    "        'user_id in @first_event_users and event_name_short == @events[1]')['user_id'].unique()\n",
    "    second_event_user_count = len(second_event_users)\n",
    "    \n",
    "    user_count.append(second_event_user_count)\n",
    "    \n",
    "    if len(events) > 2:\n",
    "        third_event_users = data.query(\n",
    "            'user_id in @second_event_users and event_name_short == @events[2]')['user_id'].unique()\n",
    "        third_event_user_count = len(third_event_users)\n",
    "        \n",
    "        user_count.append(third_event_user_count)\n",
    "        \n",
    "    fig = go.Figure(\n",
    "        go.Funnel(\n",
    "            y=events,\n",
    "            x=user_count,\n",
    "            textinfo = \"value+percent initial+percent previous\"\n",
    "             \n",
    "        )\n",
    "    )\n",
    "    fig.update_layout(title_text=f\"Воронка событий {events}\",title_x=0.5)\n",
    "    fig.show() \n",
    "    \n",
    "    return events, user_count"
   ]
  },
  {
   "cell_type": "code",
   "execution_count": null,
   "metadata": {},
   "outputs": [],
   "source": [
    "make_funnel(data,'tips_show','contacts_show')"
   ]
  },
  {
   "attachments": {
    "%D0%B2%D0%BE%D1%80%D0%BE%D0%BD%D0%BA%D0%B0%20%D1%81%D0%BE%D0%B1%D1%8B%D1%82%D0%B8%D0%B8%CC%86.png": {
     "image/png": "[encoded data removed]"
    }
   },
   "cell_type": "markdown",
   "metadata": {},
   "source": [
    "![%D0%B2%D0%BE%D1%80%D0%BE%D0%BD%D0%BA%D0%B0%20%D1%81%D0%BE%D0%B1%D1%8B%D1%82%D0%B8%D0%B8%CC%86.png](attachment:%D0%B2%D0%BE%D1%80%D0%BE%D0%BD%D0%BA%D0%B0%20%D1%81%D0%BE%D0%B1%D1%8B%D1%82%D0%B8%D0%B8%CC%86.png)"
   ]
  },
  {
   "cell_type": "markdown",
   "metadata": {},
   "source": [
    "Конверсия из пользователей, увидевших рекламные объявления, в пользователей, просмотревших контакты, составила 18%."
   ]
  },
  {
   "cell_type": "code",
   "execution_count": null,
   "metadata": {},
   "outputs": [],
   "source": [
    "make_funnel(data,'search','contacts_show')"
   ]
  },
  {
   "attachments": {
    "%D0%92%D0%BE%D1%80%D0%BE%D0%BD%D0%BA%D0%B0%20%D1%81%D0%BE%D0%B1%D1%8B%D1%82%D0%B8%D0%B8%CC%86%20search%20contacts_show.png": {
     "image/png": "[encoded data removed]"
    }
   },
   "cell_type": "markdown",
   "metadata": {},
   "source": [
    "![%D0%92%D0%BE%D1%80%D0%BE%D0%BD%D0%BA%D0%B0%20%D1%81%D0%BE%D0%B1%D1%8B%D1%82%D0%B8%D0%B8%CC%86%20search%20contacts_show.png](attachment:%D0%92%D0%BE%D1%80%D0%BE%D0%BD%D0%BA%D0%B0%20%D1%81%D0%BE%D0%B1%D1%8B%D1%82%D0%B8%D0%B8%CC%86%20search%20contacts_show.png)"
   ]
  },
  {
   "cell_type": "markdown",
   "metadata": {},
   "source": [
    "Из пользователей, совершавших поиск по сайту, 23% перешли к просмотру контактов."
   ]
  },
  {
   "cell_type": "code",
   "execution_count": null,
   "metadata": {},
   "outputs": [],
   "source": [
    "make_funnel(data,'photos_show','contacts_show')"
   ]
  },
  {
   "attachments": {
    "%D0%92%D0%BE%D1%80%D0%BE%D0%BD%D0%BA%D0%B0%20%D1%81%D0%BE%D0%B1%D1%8B%D1%82%D0%B8%D0%B8%CC%86%28photos%20show,%20contacts%20show%29.png": {
     "image/png": "[encoded data removed]"
    }
   },
   "cell_type": "markdown",
   "metadata": {},
   "source": [
    "![%D0%92%D0%BE%D1%80%D0%BE%D0%BD%D0%BA%D0%B0%20%D1%81%D0%BE%D0%B1%D1%8B%D1%82%D0%B8%D0%B8%CC%86%28photos%20show,%20contacts%20show%29.png](attachment:%D0%92%D0%BE%D1%80%D0%BE%D0%BD%D0%BA%D0%B0%20%D1%81%D0%BE%D0%B1%D1%8B%D1%82%D0%B8%D0%B8%CC%86%28photos%20show,%20contacts%20show%29.png)"
   ]
  },
  {
   "cell_type": "markdown",
   "metadata": {},
   "source": [
    "Конверсия из просмотра фотографий в целевое событие contacts_show составила 31%."
   ]
  },
  {
   "cell_type": "code",
   "execution_count": null,
   "metadata": {},
   "outputs": [],
   "source": [
    "make_funnel(data,'map','tips_show','contacts_show')"
   ]
  },
  {
   "attachments": {
    "%D0%92%D0%BE%D1%80%D0%BE%D0%BD%D0%BA%D0%B0%20%D1%81%D0%BE%D0%B1%D1%8B%D1%82%D0%B8%D0%B8%CC%86%20map%20tips_show%20contacts_show.png": {
     "image/png": "[encoded data removed]"
    }
   },
   "cell_type": "markdown",
   "metadata": {},
   "source": [
    "![%D0%92%D0%BE%D1%80%D0%BE%D0%BD%D0%BA%D0%B0%20%D1%81%D0%BE%D0%B1%D1%8B%D1%82%D0%B8%D0%B8%CC%86%20map%20tips_show%20contacts_show.png](attachment:%D0%92%D0%BE%D1%80%D0%BE%D0%BD%D0%BA%D0%B0%20%D1%81%D0%BE%D0%B1%D1%8B%D1%82%D0%B8%D0%B8%CC%86%20map%20tips_show%20contacts_show.png)"
   ]
  },
  {
   "cell_type": "markdown",
   "metadata": {},
   "source": [
    "93% пользователей, открывших карту объявлений, увидели рекомендованные объявления. К просмотру контактов перешли 19% этих пользователей."
   ]
  },
  {
   "cell_type": "markdown",
   "metadata": {},
   "source": [
    "Рассчитаем относительную частоту событий в разрезе двух групп пользователей: тех,кто просматривал контакты (group_1) и тех, которые их не просматривали (group_2)."
   ]
  },
  {
   "cell_type": "code",
   "execution_count": 100,
   "metadata": {},
   "outputs": [
    {
     "name": "stdout",
     "output_type": "stream",
     "text": [
      "Количество пользователей, просматривавших контакты: 981\n",
      "Доля пользователей, просматривавших контакты: 22.85 %\n",
      "Количество пользователей, не просматривавших контакты: 3312\n",
      "Доля пользователей, не просматривавших контакты: 77.15 %\n",
      "Сумма пользователей двух групп совпадает с общей суммой уникальных пользователей\n"
     ]
    }
   ],
   "source": [
    "group_1 = data.query('event_name == \"contacts_show\"')['user_id'].unique()\n",
    "group_2 = data.query('user_id not in @group_1')['user_id'].unique()\n",
    "\n",
    "print('Количество пользователей, просматривавших контакты:',len(group_1))\n",
    "print('Доля пользователей, просматривавших контакты:',round(len(group_1)/len(data['user_id'].unique())*100,2),'%')\n",
    "print('Количество пользователей, не просматривавших контакты:',len(group_2))\n",
    "print('Доля пользователей, не просматривавших контакты:',round(len(group_2)/len(data['user_id'].unique())*100,2),'%')\n",
    "if (len(group_1)+len(group_2)) == len(data['user_id'].unique()):\n",
    "    print ('Сумма пользователей двух групп совпадает с общей суммой уникальных пользователей')\n",
    "else:\n",
    "    print ('Сумма пользователей двух групп не совпадает с общей суммой уникальных пользователей')"
   ]
  },
  {
   "cell_type": "code",
   "execution_count": 101,
   "metadata": {},
   "outputs": [
    {
     "data": {
      "text/html": [
       "<div>\n",
       "<style scoped>\n",
       "    .dataframe tbody tr th:only-of-type {\n",
       "        vertical-align: middle;\n",
       "    }\n",
       "\n",
       "    .dataframe tbody tr th {\n",
       "        vertical-align: top;\n",
       "    }\n",
       "\n",
       "    .dataframe thead th {\n",
       "        text-align: right;\n",
       "    }\n",
       "</style>\n",
       "<table border=\"1\" class=\"dataframe\">\n",
       "  <thead>\n",
       "    <tr style=\"text-align: right;\">\n",
       "      <th></th>\n",
       "      <th>event_name_short</th>\n",
       "      <th>gr_1_count</th>\n",
       "      <th>gr_1_frequency</th>\n",
       "      <th>gr_2_count</th>\n",
       "      <th>gr_2_frequency</th>\n",
       "    </tr>\n",
       "  </thead>\n",
       "  <tbody>\n",
       "    <tr>\n",
       "      <th>0</th>\n",
       "      <td>tips_show</td>\n",
       "      <td>12768</td>\n",
       "      <td>56.33</td>\n",
       "      <td>27287.0</td>\n",
       "      <td>58.06</td>\n",
       "    </tr>\n",
       "    <tr>\n",
       "      <th>1</th>\n",
       "      <td>photos_show</td>\n",
       "      <td>3828</td>\n",
       "      <td>16.89</td>\n",
       "      <td>6184.0</td>\n",
       "      <td>13.16</td>\n",
       "    </tr>\n",
       "    <tr>\n",
       "      <th>2</th>\n",
       "      <td>search</td>\n",
       "      <td>2084</td>\n",
       "      <td>9.19</td>\n",
       "      <td>4700.0</td>\n",
       "      <td>10.00</td>\n",
       "    </tr>\n",
       "    <tr>\n",
       "      <th>3</th>\n",
       "      <td>advert_open</td>\n",
       "      <td>1589</td>\n",
       "      <td>7.01</td>\n",
       "      <td>4575.0</td>\n",
       "      <td>9.73</td>\n",
       "    </tr>\n",
       "    <tr>\n",
       "      <th>4</th>\n",
       "      <td>map</td>\n",
       "      <td>1101</td>\n",
       "      <td>4.86</td>\n",
       "      <td>2780.0</td>\n",
       "      <td>5.91</td>\n",
       "    </tr>\n",
       "    <tr>\n",
       "      <th>5</th>\n",
       "      <td>contacts_call</td>\n",
       "      <td>541</td>\n",
       "      <td>2.39</td>\n",
       "      <td>NaN</td>\n",
       "      <td>NaN</td>\n",
       "    </tr>\n",
       "    <tr>\n",
       "      <th>6</th>\n",
       "      <td>favorites_add</td>\n",
       "      <td>424</td>\n",
       "      <td>1.87</td>\n",
       "      <td>993.0</td>\n",
       "      <td>2.11</td>\n",
       "    </tr>\n",
       "    <tr>\n",
       "      <th>7</th>\n",
       "      <td>tips_click</td>\n",
       "      <td>333</td>\n",
       "      <td>1.47</td>\n",
       "      <td>481.0</td>\n",
       "      <td>1.02</td>\n",
       "    </tr>\n",
       "  </tbody>\n",
       "</table>\n",
       "</div>"
      ],
      "text/plain": [
       "  event_name_short  gr_1_count  gr_1_frequency  gr_2_count  gr_2_frequency\n",
       "0        tips_show       12768           56.33     27287.0           58.06\n",
       "1      photos_show        3828           16.89      6184.0           13.16\n",
       "2           search        2084            9.19      4700.0           10.00\n",
       "3      advert_open        1589            7.01      4575.0            9.73\n",
       "4              map        1101            4.86      2780.0            5.91\n",
       "5    contacts_call         541            2.39         NaN             NaN\n",
       "6    favorites_add         424            1.87       993.0            2.11\n",
       "7       tips_click         333            1.47       481.0            1.02"
      ]
     },
     "execution_count": 101,
     "metadata": {},
     "output_type": "execute_result"
    }
   ],
   "source": [
    "events_frequency = data.query(\n",
    "    'user_id in @group_1 and event_name != \"contacts_show\"').groupby(\n",
    "    'event_name_short',as_index=False).agg(\n",
    "    {'event_name':'count'}\n",
    ").sort_values(by='event_name',ascending=False)\n",
    "\n",
    "events_frequency['gr_1_frequency'] = round(events_frequency['event_name']/ events_frequency['event_name'].sum()*100,2)\n",
    "events_frequency = events_frequency.rename(columns={'event_name':'gr_1_count'})\n",
    "events_frequency = events_frequency.merge(data.query(\n",
    "    'user_id in @group_2').groupby(\n",
    "    'event_name_short',as_index=False).agg(\n",
    "    {'event_name':'count'}\n",
    "), on='event_name_short', how='outer')\n",
    "events_frequency['gr_2_frequency'] = round(events_frequency['event_name']/ events_frequency['event_name'].sum()*100,2)\n",
    "\n",
    "events_frequency.fillna(0)\n",
    "events_frequency = events_frequency.rename(columns={'event_name':'gr_2_count'})\n",
    "events_frequency"
   ]
  },
  {
   "cell_type": "code",
   "execution_count": null,
   "metadata": {},
   "outputs": [],
   "source": [
    "fig = go.Figure(data=[\n",
    "    go.Bar(name='просматривали контакты', \n",
    "           x=events_frequency['event_name_short'], \n",
    "           y=events_frequency['gr_1_frequency']),\n",
    "    go.Bar(name='не смотрели контакты', \n",
    "           x=events_frequency['event_name_short'], \n",
    "           y=events_frequency['gr_2_frequency'])\n",
    "])\n",
    "# Change the bar mode\n",
    "fig.update_layout(barmode='group',title_text=\"Частота событий, %\",title_x=0.5, xaxis_title=\"События\",yaxis_title= 'Относительная частота')\n",
    "fig.show()"
   ]
  },
  {
   "attachments": {
    "%D0%A7%D0%B0%D1%81%D1%82%D0%BE%D1%82%D0%B0%20%D1%81%D0%BE%D0%B1%D1%8B%D1%82%D0%B8%D0%B8%CC%86.png": {
     "image/png": "[encoded data removed]"
    }
   },
   "cell_type": "markdown",
   "metadata": {},
   "source": [
    "![%D0%A7%D0%B0%D1%81%D1%82%D0%BE%D1%82%D0%B0%20%D1%81%D0%BE%D0%B1%D1%8B%D1%82%D0%B8%D0%B8%CC%86.png](attachment:%D0%A7%D0%B0%D1%81%D1%82%D0%BE%D1%82%D0%B0%20%D1%81%D0%BE%D0%B1%D1%8B%D1%82%D0%B8%D0%B8%CC%86.png)"
   ]
  },
  {
   "cell_type": "markdown",
   "metadata": {},
   "source": [
    "Практически для всех событий относительная частота выше для группы пользователей, не смотревших контакты, однако в большинстве случаев разница незначительна (1-2%). В то же время стоит обратить внимание на то, что:\n",
    "\n",
    "- Пользователи, которые совершают целевое событие contacts_show, чаще смотрят фотографии в объявлениях (16,9% против 13,16%);\n",
    "- Карточки объявлений открывают чаще пользователи, которые не смотрят контакты (относительная частота события - 9,7%), чем те, кто их просматривает (7%).\n",
    "- Самое частое событие для обеих групп - tips_show, т.е. показ рекомендованных объявлений. При этом клик по этим объявлениям является самым редким событием как для 1, так и для 2 группы."
   ]
  },
  {
   "cell_type": "markdown",
   "metadata": {},
   "source": [
    "### Промежуточные выводы"
   ]
  },
  {
   "cell_type": "markdown",
   "metadata": {},
   "source": [
    "Мы изучили самые популярные сценарии поведения пользователей, которые приводят к целевому действию contacts_show, и построили для них воронки событий, а также рассчитали относительную частоту событий в разрезе двух групп: пользователей, которые смотрели контакты, и пользователей, которые не смотрели контакты.\n",
    "\n",
    "Были получены следующие выводы:\n",
    "\n",
    "- Целевое событие contacts_show было совершено в 15% сессий; \n",
    "- Всего к целевому событию contacts_show приводят 46 сценариев поведения пользователей. Самый популярный сценарий - это сессия из одного действия, непосредственно просмотр контактов;\n",
    "- Другие 4 популярных сценария (для которых были построены воронки событий):\n",
    "  - tips_show-contacts_show\n",
    "  - search-contacts_show\n",
    "  - photos_show-contacts_show\n",
    "  - map-tips_show-contacts_show \n",
    "- В рамках популярных сценариев наибольшая конверсия в целевое действие наблюдалась у пользователей, просматривавших фотографии в объявлениях (31%). На втором месте - конверсия из действия search (23%). Наименьшая конверсия (18%) - у пользователей, которым были показаны рекомендованные объявления.\n",
    "- За исследуемый период целевое действие совершили 22.85 % пользователей; \n",
    "- Пользователи, которые совершают целевое событие contacts_show, чаще смотрят фотографии в объявлениях;\n",
    "- Самое частое событие для обеих групп - tips_show, т.е. показ рекомендованных объявлений. При этом клик по этим объявлениям является самым редким событием как для 1, так и для 2 группы.\n",
    "\n"
   ]
  },
  {
   "cell_type": "markdown",
   "metadata": {},
   "source": [
    "## Проверка гипотез \n"
   ]
  },
  {
   "cell_type": "markdown",
   "metadata": {},
   "source": [
    "На данном этапе проверим две гипотезы:\n",
    "- конверсия в просмотры контактов у пользователей, которые совершали действия tips_show и tips_click, отличается от конверсии в просмотры контактов у пользователей, которые совершали только действие tips_show\n",
    "- конверсия в просмотры контактов у пользователей, привлеченных через каналы yandex и google, не отличается.  "
   ]
  },
  {
   "cell_type": "markdown",
   "metadata": {},
   "source": [
    "Для проверки первой гипотезы разделим пользователей на две группы:\n",
    "\n",
    "Группа 1 - те, кто совершал оба действия (tips_show и tips_click)\n",
    "\n",
    "Группа 2 - те, кто совершал только действие tips_show"
   ]
  },
  {
   "cell_type": "code",
   "execution_count": 60,
   "metadata": {},
   "outputs": [],
   "source": [
    "tips_show_users = data.query('event_name == \"tips_show\"')['user_id'].unique()\n",
    "tips_click_users = data.query('event_name == \"tips_click\"')['user_id'].unique()\n",
    "\n",
    "tips_show_and_click_users = data.query('user_id in @tips_click_users and event_name == \"tips_show\"')['user_id'].unique()\n",
    "tips_show_only_users = data.query('user_id in @tips_show_users and user_id not in @tips_click_users')['user_id'].unique()\n",
    "        "
   ]
  },
  {
   "cell_type": "code",
   "execution_count": 61,
   "metadata": {},
   "outputs": [
    {
     "name": "stdout",
     "output_type": "stream",
     "text": [
      "Количество пользователей, которым были показаны рекомендованные объявления: 2801\n",
      "Количество пользователей, которые открывали рекомендованные объявления: 322\n",
      "Количество пользователей, которые совершили оба действия (группа 1): 297\n",
      "Количество пользователей, которые совершали только действие tips_show (группа 2): 2504\n"
     ]
    }
   ],
   "source": [
    "print('Количество пользователей, которым были показаны рекомендованные объявления:',len(tips_show_users))\n",
    "print('Количество пользователей, которые открывали рекомендованные объявления:',len(tips_click_users))\n",
    "print('Количество пользователей, которые совершили оба действия (группа 1):', len(tips_show_and_click_users))\n",
    "print('Количество пользователей, которые совершали только действие tips_show (группа 2):',len(tips_show_only_users))"
   ]
  },
  {
   "cell_type": "code",
   "execution_count": 62,
   "metadata": {},
   "outputs": [],
   "source": [
    "#зададим функцию для проверки статистической значимости различия конверсии пользователей из двух групп в целевое событие\n",
    "def conversion_z_test (data,group_1,group_2,target_event,alpha):\n",
    "    trials = np.array(\n",
    "    [len(group_1),\n",
    "     len(group_2)])\n",
    "    \n",
    "    successes = np.array(\n",
    "    [data.query('user_id in @group_1 and event_name == @target_event')['user_id'].nunique(),\n",
    "     data.query('user_id in @group_2 and event_name == @target_event')['user_id'].nunique()])\n",
    "    \n",
    "    print('Количество пользователей в первой и второй группе:',trials)\n",
    "    print('Количество пользователей, перешедших к целевому событию, в первой и второй группе:',successes)\n",
    "    print('Конверсия в целевое событие пользователей первой группы:', round(successes[0]/trials[0]*100,2),'%')\n",
    "    print('Конверсия в целевое событие пользователей первой группы:', round(successes[1]/trials[1]*100,2),'%')\n",
    "    \n",
    "    p1 = successes[0]/trials[0]\n",
    "    p2 = successes[1]/trials[1]\n",
    "    p_combined = (successes[0] + successes[1]) / (trials[0] + trials[1])\n",
    "    difference = p1 - p2 \n",
    "\n",
    "    z_value = difference / mth.sqrt(p_combined * (1 - p_combined) * (1/trials[0] + 1/trials[1]))\n",
    "\n",
    "\n",
    "    distr = st.norm(0, 1)  \n",
    "\n",
    "    p_value = (1 - distr.cdf(abs(z_value))) * 2\n",
    "    \n",
    "    print('')\n",
    "    print('Нулевая гипотеза H0: Между значениями конверсии двух групп нет статистически значимых различий.') \n",
    "    print('')\n",
    "    print('Альтернативная гипотеза H1: Между значениями конверсии двух групп есть различия, и они статистически значимы.') \n",
    "    \n",
    "    print('')\n",
    "    print('Результаты z-теста:')\n",
    "    print('')\n",
    "    print('p-значение: ', p_value)\n",
    "\n",
    "    if p_value < alpha:\n",
    "\n",
    "        print('Отвергаем нулевую гипотезу: между долями есть значимая разница')\n",
    "    else:\n",
    "\n",
    "        print('Не получилось отвергнуть нулевую гипотезу, нет оснований считать доли разными') \n",
    "        \n",
    "        "
   ]
  },
  {
   "cell_type": "markdown",
   "metadata": {},
   "source": [
    "Проведем z-test для оценки статистической значимости различий между конверсиями обеих групп. Установим уровень статистической значимости alpha=0.05."
   ]
  },
  {
   "cell_type": "code",
   "execution_count": 63,
   "metadata": {},
   "outputs": [
    {
     "name": "stdout",
     "output_type": "stream",
     "text": [
      "Количество пользователей в первой и второй группе: [ 297 2504]\n",
      "Количество пользователей, перешедших к целевому событию, в первой и второй группе: [ 91 425]\n",
      "Конверсия в целевое событие пользователей первой группы: 30.64 %\n",
      "Конверсия в целевое событие пользователей первой группы: 16.97 %\n",
      "\n",
      "Нулевая гипотеза H0: Между значениями конверсии двух групп нет статистически значимых различий.\n",
      "\n",
      "Альтернативная гипотеза H1: Между значениями конверсии двух групп есть различия, и они статистически значимы.\n",
      "\n",
      "Результаты z-теста:\n",
      "\n",
      "p-значение:  9.218316554537864e-09\n",
      "Отвергаем нулевую гипотезу: между долями есть значимая разница\n"
     ]
    }
   ],
   "source": [
    "conversion_z_test(data,tips_show_and_click_users,tips_show_only_users,'contacts_show',0.05 )"
   ]
  },
  {
   "cell_type": "markdown",
   "metadata": {},
   "source": [
    "По результатам статистического теста, есть основания говорить о том, что конверсия пользователей, совершивших действия tips_show и tips_click, отличается от конверсии пользователей, совершивших только действие tips_show. "
   ]
  },
  {
   "cell_type": "markdown",
   "metadata": {},
   "source": [
    "Для проверки второй гипотезы разделим пользователей на две группы в зависимости от источника привлечения:\n",
    "\n",
    "Группа 1 - пользователи, привлеченные через yandex,\n",
    "\n",
    "Группа 2 - пользователи, привлеченные через google."
   ]
  },
  {
   "cell_type": "code",
   "execution_count": 64,
   "metadata": {},
   "outputs": [],
   "source": [
    "users_from_yandex = data_combined.query('source == \"yandex\"')['user_id'].unique()\n",
    "users_from_google = data_combined.query('source == \"google\"')['user_id'].unique()"
   ]
  },
  {
   "cell_type": "code",
   "execution_count": 65,
   "metadata": {
    "scrolled": true
   },
   "outputs": [
    {
     "name": "stdout",
     "output_type": "stream",
     "text": [
      "Количество пользователей в первой и второй группе: [1934 1129]\n",
      "Количество пользователей, перешедших к целевому событию, в первой и второй группе: [478 275]\n",
      "Конверсия в целевое событие пользователей первой группы: 24.72 %\n",
      "Конверсия в целевое событие пользователей первой группы: 24.36 %\n",
      "\n",
      "Нулевая гипотеза H0: Между значениями конверсии двух групп нет статистически значимых различий.\n",
      "\n",
      "Альтернативная гипотеза H1: Между значениями конверсии двух групп есть различия, и они статистически значимы.\n",
      "\n",
      "Результаты z-теста:\n",
      "\n",
      "p-значение:  0.8244316027993777\n",
      "Не получилось отвергнуть нулевую гипотезу, нет оснований считать доли разными\n"
     ]
    }
   ],
   "source": [
    "conversion_z_test(data,users_from_yandex,users_from_google,'contacts_show',0.05)"
   ]
  },
  {
   "cell_type": "markdown",
   "metadata": {},
   "source": [
    "По результатам теста, нет оснований говорить о том, что конверсии пользователей, привлеченных через yandex и через google, различаются."
   ]
  },
  {
   "cell_type": "markdown",
   "metadata": {},
   "source": [
    "### Промежуточные выводы"
   ]
  },
  {
   "cell_type": "markdown",
   "metadata": {},
   "source": [
    "По результатам проверки гипотез получили следующие выводы:\n",
    "\n",
    "- Конверсия пользователей, которые открывали рекомендованные объявления (30,64%), выше конверсии пользователей, которые видели рекомендованные объявления, но не открывали их (16,97%). Есть основания говорить о том, что эти различия статистически значимы;\n",
    "- Нет оснований говорить о том, что конверсии пользователей, привлеченных через yandex и через google, различаются.\n"
   ]
  },
  {
   "cell_type": "markdown",
   "metadata": {},
   "source": [
    "## Общие выводы\n"
   ]
  },
  {
   "cell_type": "markdown",
   "metadata": {},
   "source": [
    "Мы изучили поведение пользователей мобильного приложения сервиса \"Ненужные вещи\" за период с 7 октября по 3 ноября 2019 г. \n",
    "\n",
    "В ходе исследования были получены следующие выводы:\n",
    "\n",
    "- Пользователи совершают в среднем 2650 событий в день, медианное значение количества совершенных событий на одного пользователя за весь период - 9;\n",
    "\n",
    "- Одна пользовательская сессия длится в среднем 4,8 минут, продолжительность большинства сессий не превышает 6 минут;\n",
    "\n",
    "-  За одну сессию пользователи, как правило, совершают не более 20ти событий. В среднем - 4.8 событий на сессию;\n",
    "\n",
    "- Среднее количество активных пользователей в день - 278, значение sticky factor на протяжении исследуемого периода колебалось в районе 20%;\n",
    "\n",
    "- Целевое событие contacts_show было совершено в 14% сессий;\n",
    "\n",
    "- Самыми популярными сценариями перехода к целевому событию (помимо просмотра контактов напрямую) являются:\n",
    "   - переход к просмотру контактов после просмотра рекомендованных объявлений (tips_show-contacts_show);\n",
    "   - переход к просмотру контактов после поиска в приложении (search-contacts_show);\n",
    "   - переход к просмотру контактов после просмотра фотографий (photos_show-contacts_show);\n",
    "   - переход к просмотру контактов после просмотра карты и рекомендованных объявлений (map-tips_show-contacts_show)\n",
    "   \n",
    "- В рамках популярных сценариев наибольшая конверсия в целевое действие наблюдалась у пользователей, просматривавших фотографии в объявлениях (31%). На втором месте - конверсия из действия search (23%). Наименьшая конверсия (18%) - у пользователей, которым были показаны рекомендованные объявления.\n",
    "\n",
    "- За исследуемый период целевое действие совершили 22.85 % пользователей;\n",
    "\n",
    "- Самое частое событие для всех пользователей - tips_show, т.е. показ рекомендованных объявлений. При этом переход к этим объявлениям, напротив, является самым редким событием как для тех, кто совершает целевое событие, так и для тех, кто его не совершает;\n",
    "\n",
    "- Пользователи, которые совершают целевое событие contacts_show, чаще смотрят фотографии в объявлениях;\n",
    "\n",
    "- Конверсия пользователей, которые открывали рекомендованные объявления (30,64%), выше конверсии пользователей, которые видели рекомендованные объявления, но не открывали их (16,97%). Есть основания говорить о том, что эти различия статистически значимы; \n",
    "\n",
    "- Конверсия в просмотры контактов у пользователей, привлеченных через каналы yandex и google, не отличается."
   ]
  },
  {
   "cell_type": "markdown",
   "metadata": {},
   "source": [
    "### Рекоммендации по итогам исследования:\n",
    "\n",
    "- В работе над усовершенствованием интерфейса приложения стоит делать акцент на функции поиска и просмотра фотографий: эти действия чаще других приводят пользователей к целевому событию contacts_show;\n",
    "- Стоит обратить внимание на функционал рекомендованных объявлений: пользователи редко их открывают, при этом конверсия в целевое действие среди тех, кто открыл рекомендованные объявления, значительно превышает конверсию тех, кто этого не делал;\n",
    "- Нет необходимости пересматривать стратегию работы с текущими каналами привлечения: каналы yandex и google показывают одинаковые результаты."
   ]
  }
 ],
 "metadata": {
  "ExecuteTimeLog": [
   {
    "duration": 43,
    "start_time": "2023-11-11T19:15:16.854Z"
   },
   {
    "duration": 418,
    "start_time": "2023-11-11T19:15:21.314Z"
   },
   {
    "duration": 364,
    "start_time": "2023-11-11T19:15:24.574Z"
   },
   {
    "duration": 244,
    "start_time": "2023-11-11T19:15:26.819Z"
   },
   {
    "duration": 1430,
    "start_time": "2023-11-18T16:09:10.307Z"
   },
   {
    "duration": 294,
    "start_time": "2023-11-18T16:09:11.739Z"
   },
   {
    "duration": 21,
    "start_time": "2023-11-18T16:09:12.035Z"
   },
   {
    "duration": 24,
    "start_time": "2023-11-18T16:09:12.059Z"
   },
   {
    "duration": 3,
    "start_time": "2023-11-18T16:09:12.085Z"
   },
   {
    "duration": 45,
    "start_time": "2023-11-18T16:09:12.090Z"
   },
   {
    "duration": 21,
    "start_time": "2023-11-18T16:09:12.137Z"
   },
   {
    "duration": 221,
    "start_time": "2023-11-18T16:09:12.160Z"
   },
   {
    "duration": 28,
    "start_time": "2023-11-18T16:09:12.383Z"
   },
   {
    "duration": 27,
    "start_time": "2023-11-18T16:09:12.414Z"
   },
   {
    "duration": 5,
    "start_time": "2023-11-18T16:09:12.443Z"
   },
   {
    "duration": 10,
    "start_time": "2023-11-18T16:09:12.450Z"
   },
   {
    "duration": 55,
    "start_time": "2023-11-18T16:09:12.461Z"
   },
   {
    "duration": 44346,
    "start_time": "2023-11-18T16:09:12.518Z"
   },
   {
    "duration": 0,
    "start_time": "2023-11-18T16:09:56.867Z"
   },
   {
    "duration": 0,
    "start_time": "2023-11-18T16:09:56.868Z"
   },
   {
    "duration": 0,
    "start_time": "2023-11-18T16:09:56.869Z"
   },
   {
    "duration": 0,
    "start_time": "2023-11-18T16:09:56.870Z"
   },
   {
    "duration": 0,
    "start_time": "2023-11-18T16:09:56.872Z"
   },
   {
    "duration": 0,
    "start_time": "2023-11-18T16:09:56.873Z"
   },
   {
    "duration": 0,
    "start_time": "2023-11-18T16:09:56.874Z"
   },
   {
    "duration": 0,
    "start_time": "2023-11-18T16:09:56.875Z"
   },
   {
    "duration": 0,
    "start_time": "2023-11-18T16:09:56.875Z"
   },
   {
    "duration": 0,
    "start_time": "2023-11-18T16:09:56.877Z"
   },
   {
    "duration": 0,
    "start_time": "2023-11-18T16:09:56.877Z"
   },
   {
    "duration": 0,
    "start_time": "2023-11-18T16:09:56.878Z"
   },
   {
    "duration": 0,
    "start_time": "2023-11-18T16:09:56.880Z"
   },
   {
    "duration": 0,
    "start_time": "2023-11-18T16:09:56.881Z"
   },
   {
    "duration": 0,
    "start_time": "2023-11-18T16:09:56.881Z"
   },
   {
    "duration": 0,
    "start_time": "2023-11-18T16:09:56.883Z"
   },
   {
    "duration": 0,
    "start_time": "2023-11-18T16:09:56.911Z"
   },
   {
    "duration": 0,
    "start_time": "2023-11-18T16:09:56.912Z"
   },
   {
    "duration": 0,
    "start_time": "2023-11-18T16:09:56.913Z"
   },
   {
    "duration": 0,
    "start_time": "2023-11-18T16:09:56.914Z"
   },
   {
    "duration": 0,
    "start_time": "2023-11-18T16:09:56.915Z"
   },
   {
    "duration": 0,
    "start_time": "2023-11-18T16:09:56.916Z"
   },
   {
    "duration": 0,
    "start_time": "2023-11-18T16:09:56.918Z"
   },
   {
    "duration": 0,
    "start_time": "2023-11-18T16:09:56.918Z"
   },
   {
    "duration": 0,
    "start_time": "2023-11-18T16:09:56.919Z"
   },
   {
    "duration": 0,
    "start_time": "2023-11-18T16:09:56.920Z"
   },
   {
    "duration": 0,
    "start_time": "2023-11-18T16:09:56.921Z"
   },
   {
    "duration": 0,
    "start_time": "2023-11-18T16:09:56.922Z"
   },
   {
    "duration": 0,
    "start_time": "2023-11-18T16:09:56.923Z"
   },
   {
    "duration": 0,
    "start_time": "2023-11-18T16:09:56.924Z"
   },
   {
    "duration": 0,
    "start_time": "2023-11-18T16:09:56.925Z"
   },
   {
    "duration": 1,
    "start_time": "2023-11-18T16:09:56.926Z"
   },
   {
    "duration": 0,
    "start_time": "2023-11-18T16:09:56.928Z"
   },
   {
    "duration": 0,
    "start_time": "2023-11-18T16:09:56.929Z"
   },
   {
    "duration": 0,
    "start_time": "2023-11-18T16:09:56.930Z"
   },
   {
    "duration": 0,
    "start_time": "2023-11-18T16:09:56.931Z"
   },
   {
    "duration": 0,
    "start_time": "2023-11-18T16:09:56.932Z"
   },
   {
    "duration": 0,
    "start_time": "2023-11-18T16:09:56.933Z"
   },
   {
    "duration": 0,
    "start_time": "2023-11-18T16:09:56.934Z"
   },
   {
    "duration": 0,
    "start_time": "2023-11-18T16:09:56.935Z"
   },
   {
    "duration": 0,
    "start_time": "2023-11-18T16:09:56.936Z"
   },
   {
    "duration": 0,
    "start_time": "2023-11-18T16:09:56.937Z"
   },
   {
    "duration": 0,
    "start_time": "2023-11-18T16:09:56.938Z"
   },
   {
    "duration": 0,
    "start_time": "2023-11-18T16:09:56.939Z"
   },
   {
    "duration": 0,
    "start_time": "2023-11-18T16:09:56.940Z"
   },
   {
    "duration": 0,
    "start_time": "2023-11-18T16:09:56.941Z"
   },
   {
    "duration": 1,
    "start_time": "2023-11-18T16:09:56.942Z"
   },
   {
    "duration": 0,
    "start_time": "2023-11-18T16:09:56.944Z"
   },
   {
    "duration": 0,
    "start_time": "2023-11-18T16:09:56.945Z"
   },
   {
    "duration": 0,
    "start_time": "2023-11-18T16:09:56.945Z"
   },
   {
    "duration": 0,
    "start_time": "2023-11-18T16:09:56.946Z"
   },
   {
    "duration": 1226,
    "start_time": "2023-11-18T16:10:01.152Z"
   },
   {
    "duration": 219,
    "start_time": "2023-11-18T16:10:02.380Z"
   },
   {
    "duration": 18,
    "start_time": "2023-11-18T16:10:02.601Z"
   },
   {
    "duration": 23,
    "start_time": "2023-11-18T16:10:02.620Z"
   },
   {
    "duration": 3,
    "start_time": "2023-11-18T16:10:02.644Z"
   },
   {
    "duration": 24,
    "start_time": "2023-11-18T16:10:02.648Z"
   },
   {
    "duration": 42,
    "start_time": "2023-11-18T16:10:02.674Z"
   },
   {
    "duration": 214,
    "start_time": "2023-11-18T16:10:02.717Z"
   },
   {
    "duration": 27,
    "start_time": "2023-11-18T16:10:02.933Z"
   },
   {
    "duration": 27,
    "start_time": "2023-11-18T16:10:02.962Z"
   },
   {
    "duration": 22,
    "start_time": "2023-11-18T16:10:02.991Z"
   },
   {
    "duration": 10,
    "start_time": "2023-11-18T16:10:03.014Z"
   },
   {
    "duration": 30,
    "start_time": "2023-11-18T16:10:03.026Z"
   },
   {
    "duration": 69783,
    "start_time": "2023-11-18T16:10:03.060Z"
   },
   {
    "duration": 9,
    "start_time": "2023-11-18T16:11:12.844Z"
   },
   {
    "duration": 26,
    "start_time": "2023-11-18T16:11:12.855Z"
   },
   {
    "duration": 38,
    "start_time": "2023-11-18T16:11:12.883Z"
   },
   {
    "duration": 31,
    "start_time": "2023-11-18T16:11:12.923Z"
   },
   {
    "duration": 785,
    "start_time": "2023-11-18T16:11:12.956Z"
   },
   {
    "duration": 14,
    "start_time": "2023-11-18T16:11:13.743Z"
   },
   {
    "duration": 5,
    "start_time": "2023-11-18T16:11:13.759Z"
   },
   {
    "duration": 313,
    "start_time": "2023-11-18T16:11:13.765Z"
   },
   {
    "duration": 13,
    "start_time": "2023-11-18T16:11:14.079Z"
   },
   {
    "duration": 17,
    "start_time": "2023-11-18T16:11:14.094Z"
   },
   {
    "duration": 538,
    "start_time": "2023-11-18T16:11:14.113Z"
   },
   {
    "duration": 42,
    "start_time": "2023-11-18T16:11:14.653Z"
   },
   {
    "duration": 507,
    "start_time": "2023-11-18T16:11:14.697Z"
   },
   {
    "duration": 15,
    "start_time": "2023-11-18T16:11:15.206Z"
   },
   {
    "duration": 12427,
    "start_time": "2023-11-18T16:11:15.222Z"
   },
   {
    "duration": 212,
    "start_time": "2023-11-18T16:11:27.651Z"
   },
   {
    "duration": 9,
    "start_time": "2023-11-18T16:11:27.865Z"
   },
   {
    "duration": 1791,
    "start_time": "2023-11-18T16:11:27.876Z"
   },
   {
    "duration": 378,
    "start_time": "2023-11-18T16:11:29.669Z"
   },
   {
    "duration": 2,
    "start_time": "2023-11-18T16:11:30.049Z"
   },
   {
    "duration": 17,
    "start_time": "2023-11-18T16:11:30.052Z"
   },
   {
    "duration": 14,
    "start_time": "2023-11-18T16:11:30.071Z"
   },
   {
    "duration": 212,
    "start_time": "2023-11-18T16:11:30.086Z"
   },
   {
    "duration": 12,
    "start_time": "2023-11-18T16:11:30.299Z"
   },
   {
    "duration": 177,
    "start_time": "2023-11-18T16:11:30.313Z"
   },
   {
    "duration": 29,
    "start_time": "2023-11-18T16:11:30.491Z"
   },
   {
    "duration": 235,
    "start_time": "2023-11-18T16:11:30.524Z"
   },
   {
    "duration": 16,
    "start_time": "2023-11-18T16:11:30.760Z"
   },
   {
    "duration": 26,
    "start_time": "2023-11-18T16:11:30.777Z"
   },
   {
    "duration": 540,
    "start_time": "2023-11-18T16:11:30.811Z"
   },
   {
    "duration": 339,
    "start_time": "2023-11-18T16:11:31.352Z"
   },
   {
    "duration": 508,
    "start_time": "2023-11-18T16:11:31.693Z"
   },
   {
    "duration": 15,
    "start_time": "2023-11-18T16:11:32.203Z"
   },
   {
    "duration": 20,
    "start_time": "2023-11-18T16:11:32.220Z"
   },
   {
    "duration": 4,
    "start_time": "2023-11-18T16:11:32.241Z"
   },
   {
    "duration": 13,
    "start_time": "2023-11-18T16:11:32.247Z"
   },
   {
    "duration": 22,
    "start_time": "2023-11-18T16:11:32.262Z"
   },
   {
    "duration": 31,
    "start_time": "2023-11-18T16:11:32.286Z"
   },
   {
    "duration": 673,
    "start_time": "2023-11-18T16:11:32.319Z"
   },
   {
    "duration": 56,
    "start_time": "2023-11-18T16:11:32.993Z"
   },
   {
    "duration": 97,
    "start_time": "2023-11-18T16:11:33.050Z"
   },
   {
    "duration": 117,
    "start_time": "2023-11-18T16:11:33.148Z"
   },
   {
    "duration": 51,
    "start_time": "2023-11-18T16:11:33.266Z"
   },
   {
    "duration": 43,
    "start_time": "2023-11-18T16:11:33.319Z"
   },
   {
    "duration": 20,
    "start_time": "2023-11-18T16:11:33.363Z"
   },
   {
    "duration": 58,
    "start_time": "2023-11-18T16:11:33.384Z"
   },
   {
    "duration": 4,
    "start_time": "2023-11-18T16:11:33.443Z"
   },
   {
    "duration": 7,
    "start_time": "2023-11-18T16:11:33.449Z"
   },
   {
    "duration": 24,
    "start_time": "2023-11-18T16:11:33.457Z"
   },
   {
    "duration": 41,
    "start_time": "2023-11-18T16:11:33.482Z"
   },
   {
    "duration": 18,
    "start_time": "2023-11-18T16:11:33.525Z"
   },
   {
    "duration": 17,
    "start_time": "2023-11-18T16:19:32.457Z"
   },
   {
    "duration": 1299,
    "start_time": "2023-11-18T18:09:09.576Z"
   },
   {
    "duration": 296,
    "start_time": "2023-11-18T18:09:10.877Z"
   },
   {
    "duration": 18,
    "start_time": "2023-11-18T18:09:11.174Z"
   },
   {
    "duration": 38,
    "start_time": "2023-11-18T18:09:11.194Z"
   },
   {
    "duration": 11,
    "start_time": "2023-11-18T18:09:11.233Z"
   },
   {
    "duration": 36,
    "start_time": "2023-11-18T18:09:11.245Z"
   },
   {
    "duration": 22,
    "start_time": "2023-11-18T18:09:11.282Z"
   },
   {
    "duration": 195,
    "start_time": "2023-11-18T18:09:11.305Z"
   },
   {
    "duration": 15,
    "start_time": "2023-11-18T18:09:11.501Z"
   },
   {
    "duration": 33,
    "start_time": "2023-11-18T18:09:11.519Z"
   },
   {
    "duration": 4,
    "start_time": "2023-11-18T18:09:11.553Z"
   },
   {
    "duration": 17,
    "start_time": "2023-11-18T18:09:11.559Z"
   },
   {
    "duration": 61,
    "start_time": "2023-11-18T18:09:11.577Z"
   },
   {
    "duration": 15717,
    "start_time": "2023-11-18T18:09:11.640Z"
   },
   {
    "duration": 3,
    "start_time": "2023-11-18T18:09:51.256Z"
   },
   {
    "duration": 298,
    "start_time": "2023-11-18T18:09:51.261Z"
   },
   {
    "duration": 13,
    "start_time": "2023-11-18T18:09:51.561Z"
   },
   {
    "duration": 26,
    "start_time": "2023-11-18T18:09:51.575Z"
   },
   {
    "duration": 3,
    "start_time": "2023-11-18T18:09:51.603Z"
   },
   {
    "duration": 39,
    "start_time": "2023-11-18T18:09:51.607Z"
   },
   {
    "duration": 20,
    "start_time": "2023-11-18T18:09:51.648Z"
   },
   {
    "duration": 254,
    "start_time": "2023-11-18T18:09:51.669Z"
   },
   {
    "duration": 20,
    "start_time": "2023-11-18T18:09:51.926Z"
   },
   {
    "duration": 25,
    "start_time": "2023-11-18T18:09:51.948Z"
   },
   {
    "duration": 5,
    "start_time": "2023-11-18T18:09:51.975Z"
   },
   {
    "duration": 27,
    "start_time": "2023-11-18T18:09:51.981Z"
   },
   {
    "duration": 38,
    "start_time": "2023-11-18T18:09:52.010Z"
   },
   {
    "duration": 3,
    "start_time": "2023-11-18T18:09:52.049Z"
   },
   {
    "duration": 4,
    "start_time": "2023-11-18T18:10:17.996Z"
   },
   {
    "duration": 14,
    "start_time": "2023-11-18T18:13:46.715Z"
   },
   {
    "duration": 9,
    "start_time": "2023-11-18T18:13:54.230Z"
   },
   {
    "duration": 132,
    "start_time": "2023-11-18T18:16:17.777Z"
   },
   {
    "duration": 43,
    "start_time": "2023-11-18T18:16:40.432Z"
   },
   {
    "duration": 36,
    "start_time": "2023-11-18T18:16:47.653Z"
   },
   {
    "duration": 50,
    "start_time": "2023-11-18T18:17:12.250Z"
   },
   {
    "duration": 1554,
    "start_time": "2023-11-18T18:17:24.532Z"
   },
   {
    "duration": 57,
    "start_time": "2023-11-18T18:17:34.371Z"
   },
   {
    "duration": 95,
    "start_time": "2023-11-18T18:18:54.901Z"
   },
   {
    "duration": 8,
    "start_time": "2023-11-18T18:19:04.655Z"
   },
   {
    "duration": 8,
    "start_time": "2023-11-18T18:20:24.227Z"
   },
   {
    "duration": 7,
    "start_time": "2023-11-18T18:20:31.915Z"
   },
   {
    "duration": 705,
    "start_time": "2023-11-18T18:20:38.399Z"
   },
   {
    "duration": 13,
    "start_time": "2023-11-18T18:20:41.771Z"
   },
   {
    "duration": 5,
    "start_time": "2023-11-18T18:20:43.909Z"
   },
   {
    "duration": 166,
    "start_time": "2023-11-18T18:21:29.999Z"
   },
   {
    "duration": 642,
    "start_time": "2023-11-18T18:22:05.662Z"
   },
   {
    "duration": 159,
    "start_time": "2023-11-18T18:22:11.890Z"
   },
   {
    "duration": 378,
    "start_time": "2023-11-18T18:22:23.904Z"
   },
   {
    "duration": 8,
    "start_time": "2023-11-18T18:25:08.226Z"
   },
   {
    "duration": 644,
    "start_time": "2023-11-18T18:25:21.903Z"
   },
   {
    "duration": 1563,
    "start_time": "2023-11-18T18:25:47.396Z"
   },
   {
    "duration": 708,
    "start_time": "2023-11-18T18:31:19.481Z"
   },
   {
    "duration": 682,
    "start_time": "2023-11-18T18:36:02.086Z"
   },
   {
    "duration": 704,
    "start_time": "2023-11-18T18:36:23.026Z"
   },
   {
    "duration": 1136,
    "start_time": "2023-11-18T18:36:43.765Z"
   },
   {
    "duration": 455,
    "start_time": "2023-11-18T18:36:47.168Z"
   },
   {
    "duration": 442,
    "start_time": "2023-11-18T18:36:56.175Z"
   },
   {
    "duration": 1033,
    "start_time": "2023-11-18T18:37:39.214Z"
   },
   {
    "duration": 441,
    "start_time": "2023-11-18T18:37:41.122Z"
   },
   {
    "duration": 37,
    "start_time": "2023-11-18T18:37:53.639Z"
   },
   {
    "duration": 1187,
    "start_time": "2023-11-18T18:37:59.515Z"
   },
   {
    "duration": 453,
    "start_time": "2023-11-18T18:38:02.126Z"
   },
   {
    "duration": 400,
    "start_time": "2023-11-18T18:38:19.053Z"
   },
   {
    "duration": 38,
    "start_time": "2023-11-18T18:38:45.329Z"
   },
   {
    "duration": 1099,
    "start_time": "2023-11-18T18:38:50.866Z"
   },
   {
    "duration": 1112,
    "start_time": "2023-11-18T18:39:00.896Z"
   },
   {
    "duration": 3,
    "start_time": "2023-11-18T18:39:06.049Z"
   },
   {
    "duration": 301,
    "start_time": "2023-11-18T18:39:06.054Z"
   },
   {
    "duration": 13,
    "start_time": "2023-11-18T18:39:06.357Z"
   },
   {
    "duration": 22,
    "start_time": "2023-11-18T18:39:06.371Z"
   },
   {
    "duration": 3,
    "start_time": "2023-11-18T18:39:06.395Z"
   },
   {
    "duration": 45,
    "start_time": "2023-11-18T18:39:06.399Z"
   },
   {
    "duration": 18,
    "start_time": "2023-11-18T18:39:06.446Z"
   },
   {
    "duration": 253,
    "start_time": "2023-11-18T18:39:06.465Z"
   },
   {
    "duration": 17,
    "start_time": "2023-11-18T18:39:06.720Z"
   },
   {
    "duration": 24,
    "start_time": "2023-11-18T18:39:06.739Z"
   },
   {
    "duration": 5,
    "start_time": "2023-11-18T18:39:06.765Z"
   },
   {
    "duration": 10,
    "start_time": "2023-11-18T18:39:06.772Z"
   },
   {
    "duration": 27,
    "start_time": "2023-11-18T18:39:06.783Z"
   },
   {
    "duration": 2,
    "start_time": "2023-11-18T18:39:06.837Z"
   },
   {
    "duration": 67,
    "start_time": "2023-11-18T18:39:06.841Z"
   },
   {
    "duration": 10,
    "start_time": "2023-11-18T18:39:06.909Z"
   },
   {
    "duration": 31,
    "start_time": "2023-11-18T18:39:06.921Z"
   },
   {
    "duration": 19,
    "start_time": "2023-11-18T18:39:06.954Z"
   },
   {
    "duration": 29,
    "start_time": "2023-11-18T18:39:06.975Z"
   },
   {
    "duration": 668,
    "start_time": "2023-11-18T18:39:07.006Z"
   },
   {
    "duration": 14,
    "start_time": "2023-11-18T18:39:07.676Z"
   },
   {
    "duration": 11,
    "start_time": "2023-11-18T18:39:07.691Z"
   },
   {
    "duration": 298,
    "start_time": "2023-11-18T18:39:07.704Z"
   },
   {
    "duration": 10,
    "start_time": "2023-11-18T18:39:08.004Z"
   },
   {
    "duration": 4,
    "start_time": "2023-11-18T18:39:08.015Z"
   },
   {
    "duration": 586,
    "start_time": "2023-11-18T18:39:08.020Z"
   },
   {
    "duration": 41,
    "start_time": "2023-11-18T18:39:08.607Z"
   },
   {
    "duration": 1112,
    "start_time": "2023-11-18T18:39:24.191Z"
   },
   {
    "duration": 10,
    "start_time": "2023-11-18T18:42:24.389Z"
   },
   {
    "duration": 10,
    "start_time": "2023-11-18T18:44:28.559Z"
   },
   {
    "duration": 9,
    "start_time": "2023-11-18T18:44:59.651Z"
   },
   {
    "duration": 713,
    "start_time": "2023-11-18T18:45:32.639Z"
   },
   {
    "duration": 6,
    "start_time": "2023-11-18T18:46:01.245Z"
   },
   {
    "duration": 772,
    "start_time": "2023-11-18T18:59:00.046Z"
   },
   {
    "duration": 751,
    "start_time": "2023-11-18T18:59:19.983Z"
   },
   {
    "duration": 410,
    "start_time": "2023-11-18T18:59:20.738Z"
   },
   {
    "duration": 2,
    "start_time": "2023-11-18T18:59:21.150Z"
   },
   {
    "duration": 39,
    "start_time": "2023-11-18T18:59:21.154Z"
   },
   {
    "duration": 43,
    "start_time": "2023-11-18T18:59:21.195Z"
   },
   {
    "duration": 177,
    "start_time": "2023-11-18T18:59:21.239Z"
   },
   {
    "duration": 8,
    "start_time": "2023-11-18T18:59:21.417Z"
   },
   {
    "duration": 182,
    "start_time": "2023-11-18T18:59:21.426Z"
   },
   {
    "duration": 18,
    "start_time": "2023-11-18T18:59:21.609Z"
   },
   {
    "duration": 228,
    "start_time": "2023-11-18T18:59:21.639Z"
   },
   {
    "duration": 16,
    "start_time": "2023-11-18T18:59:21.869Z"
   },
   {
    "duration": 20,
    "start_time": "2023-11-18T18:59:21.886Z"
   },
   {
    "duration": 442,
    "start_time": "2023-11-18T18:59:21.908Z"
   },
   {
    "duration": 262,
    "start_time": "2023-11-18T18:59:22.351Z"
   },
   {
    "duration": 552,
    "start_time": "2023-11-18T18:59:22.614Z"
   },
   {
    "duration": 10,
    "start_time": "2023-11-18T18:59:23.168Z"
   },
   {
    "duration": 30,
    "start_time": "2023-11-18T18:59:23.179Z"
   },
   {
    "duration": 5,
    "start_time": "2023-11-18T18:59:23.210Z"
   },
   {
    "duration": 11,
    "start_time": "2023-11-18T18:59:23.216Z"
   },
   {
    "duration": 30,
    "start_time": "2023-11-18T18:59:23.229Z"
   },
   {
    "duration": 5,
    "start_time": "2023-11-18T18:59:23.260Z"
   },
   {
    "duration": 235,
    "start_time": "2023-11-18T18:59:23.266Z"
   },
   {
    "duration": 64,
    "start_time": "2023-11-18T18:59:23.503Z"
   },
   {
    "duration": 97,
    "start_time": "2023-11-18T18:59:23.569Z"
   },
   {
    "duration": 71,
    "start_time": "2023-11-18T18:59:23.667Z"
   },
   {
    "duration": 36,
    "start_time": "2023-11-18T18:59:23.740Z"
   },
   {
    "duration": 59,
    "start_time": "2023-11-18T18:59:23.778Z"
   },
   {
    "duration": 22,
    "start_time": "2023-11-18T18:59:23.840Z"
   },
   {
    "duration": 38,
    "start_time": "2023-11-18T18:59:23.863Z"
   },
   {
    "duration": 5,
    "start_time": "2023-11-18T18:59:23.903Z"
   },
   {
    "duration": 31,
    "start_time": "2023-11-18T18:59:23.909Z"
   },
   {
    "duration": 29,
    "start_time": "2023-11-18T18:59:23.941Z"
   },
   {
    "duration": 23,
    "start_time": "2023-11-18T18:59:23.971Z"
   },
   {
    "duration": 20,
    "start_time": "2023-11-18T18:59:23.996Z"
   },
   {
    "duration": 88,
    "start_time": "2023-11-18T19:01:19.406Z"
   },
   {
    "duration": 401,
    "start_time": "2023-11-18T19:01:23.816Z"
   },
   {
    "duration": 17,
    "start_time": "2023-11-18T19:04:50.572Z"
   },
   {
    "duration": 243,
    "start_time": "2023-11-18T19:05:25.235Z"
   },
   {
    "duration": 1107,
    "start_time": "2023-11-19T03:06:07.931Z"
   },
   {
    "duration": 321,
    "start_time": "2023-11-19T03:06:09.040Z"
   },
   {
    "duration": 17,
    "start_time": "2023-11-19T03:06:09.362Z"
   },
   {
    "duration": 21,
    "start_time": "2023-11-19T03:06:09.381Z"
   },
   {
    "duration": 11,
    "start_time": "2023-11-19T03:06:09.404Z"
   },
   {
    "duration": 24,
    "start_time": "2023-11-19T03:06:09.417Z"
   },
   {
    "duration": 19,
    "start_time": "2023-11-19T03:06:09.442Z"
   },
   {
    "duration": 222,
    "start_time": "2023-11-19T03:06:09.462Z"
   },
   {
    "duration": 16,
    "start_time": "2023-11-19T03:06:09.686Z"
   },
   {
    "duration": 32,
    "start_time": "2023-11-19T03:06:09.704Z"
   },
   {
    "duration": 5,
    "start_time": "2023-11-19T03:06:09.737Z"
   },
   {
    "duration": 21,
    "start_time": "2023-11-19T03:06:09.743Z"
   },
   {
    "duration": 29,
    "start_time": "2023-11-19T03:06:09.765Z"
   },
   {
    "duration": 3,
    "start_time": "2023-11-19T03:06:09.795Z"
   },
   {
    "duration": 67,
    "start_time": "2023-11-19T03:06:09.799Z"
   },
   {
    "duration": 9,
    "start_time": "2023-11-19T03:06:09.867Z"
   },
   {
    "duration": 20,
    "start_time": "2023-11-19T03:06:09.877Z"
   },
   {
    "duration": 17,
    "start_time": "2023-11-19T03:06:09.914Z"
   },
   {
    "duration": 28,
    "start_time": "2023-11-19T03:06:09.933Z"
   },
   {
    "duration": 723,
    "start_time": "2023-11-19T03:06:09.963Z"
   },
   {
    "duration": 26,
    "start_time": "2023-11-19T03:06:10.688Z"
   },
   {
    "duration": 7,
    "start_time": "2023-11-19T03:06:10.716Z"
   },
   {
    "duration": 304,
    "start_time": "2023-11-19T03:06:10.724Z"
   },
   {
    "duration": 11,
    "start_time": "2023-11-19T03:06:11.030Z"
   },
   {
    "duration": 4,
    "start_time": "2023-11-19T03:06:11.042Z"
   },
   {
    "duration": 536,
    "start_time": "2023-11-19T03:06:11.047Z"
   },
   {
    "duration": 48,
    "start_time": "2023-11-19T03:06:11.585Z"
   },
   {
    "duration": 1157,
    "start_time": "2023-11-19T03:06:11.637Z"
   },
   {
    "duration": 20,
    "start_time": "2023-11-19T03:06:12.796Z"
   },
   {
    "duration": 15935,
    "start_time": "2023-11-19T03:06:12.817Z"
   },
   {
    "duration": 197,
    "start_time": "2023-11-19T03:06:28.753Z"
   },
   {
    "duration": 12,
    "start_time": "2023-11-19T03:06:28.951Z"
   },
   {
    "duration": 2048,
    "start_time": "2023-11-19T03:06:28.964Z"
   },
   {
    "duration": 399,
    "start_time": "2023-11-19T03:06:31.015Z"
   },
   {
    "duration": 7,
    "start_time": "2023-11-19T03:06:31.416Z"
   },
   {
    "duration": 25,
    "start_time": "2023-11-19T03:06:31.424Z"
   },
   {
    "duration": 176,
    "start_time": "2023-11-19T03:06:31.450Z"
   },
   {
    "duration": 8,
    "start_time": "2023-11-19T03:06:31.628Z"
   },
   {
    "duration": 235,
    "start_time": "2023-11-19T03:06:31.637Z"
   },
   {
    "duration": 18,
    "start_time": "2023-11-19T03:06:31.873Z"
   },
   {
    "duration": 232,
    "start_time": "2023-11-19T03:06:31.892Z"
   },
   {
    "duration": 16,
    "start_time": "2023-11-19T03:06:32.125Z"
   },
   {
    "duration": 14,
    "start_time": "2023-11-19T03:06:32.142Z"
   },
   {
    "duration": 490,
    "start_time": "2023-11-19T03:06:32.158Z"
   },
   {
    "duration": 310,
    "start_time": "2023-11-19T03:06:32.649Z"
   },
   {
    "duration": 464,
    "start_time": "2023-11-19T03:06:32.960Z"
   },
   {
    "duration": 9,
    "start_time": "2023-11-19T03:06:33.426Z"
   },
   {
    "duration": 18,
    "start_time": "2023-11-19T03:06:33.436Z"
   },
   {
    "duration": 3,
    "start_time": "2023-11-19T03:06:33.455Z"
   },
   {
    "duration": 3,
    "start_time": "2023-11-19T03:06:33.460Z"
   },
   {
    "duration": 51,
    "start_time": "2023-11-19T03:06:33.465Z"
   },
   {
    "duration": 5,
    "start_time": "2023-11-19T03:06:33.517Z"
   },
   {
    "duration": 738,
    "start_time": "2023-11-19T03:06:33.524Z"
   },
   {
    "duration": 70,
    "start_time": "2023-11-19T03:06:34.264Z"
   },
   {
    "duration": 102,
    "start_time": "2023-11-19T03:06:34.336Z"
   },
   {
    "duration": 58,
    "start_time": "2023-11-19T03:06:34.439Z"
   },
   {
    "duration": 49,
    "start_time": "2023-11-19T03:06:34.499Z"
   },
   {
    "duration": 42,
    "start_time": "2023-11-19T03:06:34.549Z"
   },
   {
    "duration": 41,
    "start_time": "2023-11-19T03:06:34.592Z"
   },
   {
    "duration": 39,
    "start_time": "2023-11-19T03:06:34.634Z"
   },
   {
    "duration": 5,
    "start_time": "2023-11-19T03:06:34.674Z"
   },
   {
    "duration": 7,
    "start_time": "2023-11-19T03:06:34.680Z"
   },
   {
    "duration": 44,
    "start_time": "2023-11-19T03:06:34.688Z"
   },
   {
    "duration": 19,
    "start_time": "2023-11-19T03:06:34.734Z"
   },
   {
    "duration": 18,
    "start_time": "2023-11-19T03:06:34.754Z"
   }
  ],
  "kernelspec": {
   "display_name": "Python 3 (ipykernel)",
   "language": "python",
   "name": "python3"
  },
  "language_info": {
   "codemirror_mode": {
    "name": "ipython",
    "version": 3
   },
   "file_extension": ".py",
   "mimetype": "text/x-python",
   "name": "python",
   "nbconvert_exporter": "python",
   "pygments_lexer": "ipython3",
   "version": "3.10.9"
  },
  "toc": {
   "base_numbering": 1,
   "nav_menu": {},
   "number_sections": true,
   "sideBar": true,
   "skip_h1_title": true,
   "title_cell": "Содержание",
   "title_sidebar": "Contents",
   "toc_cell": true,
   "toc_position": {
    "height": "calc(100% - 180px)",
    "left": "10px",
    "top": "150px",
    "width": "270.398px"
   },
   "toc_section_display": true,
   "toc_window_display": true
  }
 },
 "nbformat": 4,
 "nbformat_minor": 2
}
